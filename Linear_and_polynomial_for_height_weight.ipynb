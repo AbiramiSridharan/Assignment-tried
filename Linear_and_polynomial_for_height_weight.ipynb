{
  "nbformat": 4,
  "nbformat_minor": 0,
  "metadata": {
    "colab": {
      "name": "Linear and polynomial for height weight.ipynb",
      "provenance": [],
      "collapsed_sections": []
    },
    "kernelspec": {
      "name": "python3",
      "display_name": "Python 3"
    },
    "language_info": {
      "name": "python"
    }
  },
  "cells": [
    {
      "cell_type": "code",
      "metadata": {
        "colab": {
          "base_uri": "https://localhost:8080/"
        },
        "id": "jAeKn7iyoRMt",
        "outputId": "d92c3029-ce97-4559-bc61-36a2fbbb9c6d"
      },
      "source": [
        "from google.colab import drive\n",
        "drive.mount('/content/drive')"
      ],
      "execution_count": null,
      "outputs": [
        {
          "output_type": "stream",
          "text": [
            "Drive already mounted at /content/drive; to attempt to forcibly remount, call drive.mount(\"/content/drive\", force_remount=True).\n"
          ],
          "name": "stdout"
        }
      ]
    },
    {
      "cell_type": "code",
      "metadata": {
        "colab": {
          "base_uri": "https://localhost:8080/",
          "height": 410
        },
        "id": "OV-5MNPwnAE_",
        "outputId": "a39a2de9-88c0-496f-dbaa-c6521a1535c3"
      },
      "source": [
        "from sklearn.linear_model import LinearRegression\n",
        "# Reading the dataset\n",
        "import pandas as pd\n",
        "import numpy as np\n",
        "train=pd.read_csv('/content/drive/MyDrive/Colab Notebooks/colab datas/traindummy.csv')\n",
        "test=pd.read_csv('/content/drive/MyDrive/Colab Notebooks/colab datas/testdataheightweight.csv')\n",
        "print('Shape before deleting duplicate values:', train.shape)\n",
        "print('Shape before deleting duplicate values:', test.shape)\n",
        "\n",
        "# Removing duplicate rows if any\n",
        "train=train.drop_duplicates()\n",
        "print('Shape After deleting duplicate values:', train.shape)\n",
        "trin=test.drop_duplicates()\n",
        "print('Shape After deleting duplicate values:', test.shape)\n",
        "\n",
        "# Printing sample data\n",
        "test.head(10)"
      ],
      "execution_count": null,
      "outputs": [
        {
          "output_type": "stream",
          "text": [
            "Shape before deleting duplicate values: (19, 2)\n",
            "Shape before deleting duplicate values: (11, 2)\n",
            "Shape After deleting duplicate values: (19, 2)\n",
            "Shape After deleting duplicate values: (11, 2)\n"
          ],
          "name": "stdout"
        },
        {
          "output_type": "execute_result",
          "data": {
            "text/html": [
              "<div>\n",
              "<style scoped>\n",
              "    .dataframe tbody tr th:only-of-type {\n",
              "        vertical-align: middle;\n",
              "    }\n",
              "\n",
              "    .dataframe tbody tr th {\n",
              "        vertical-align: top;\n",
              "    }\n",
              "\n",
              "    .dataframe thead th {\n",
              "        text-align: right;\n",
              "    }\n",
              "</style>\n",
              "<table border=\"1\" class=\"dataframe\">\n",
              "  <thead>\n",
              "    <tr style=\"text-align: right;\">\n",
              "      <th></th>\n",
              "      <th>Height</th>\n",
              "      <th>Weight</th>\n",
              "    </tr>\n",
              "  </thead>\n",
              "  <tbody>\n",
              "    <tr>\n",
              "      <th>0</th>\n",
              "      <td>1.6014</td>\n",
              "      <td>59.20</td>\n",
              "    </tr>\n",
              "    <tr>\n",
              "      <th>1</th>\n",
              "      <td>1.6320</td>\n",
              "      <td>60.57</td>\n",
              "    </tr>\n",
              "    <tr>\n",
              "      <th>2</th>\n",
              "      <td>1.6626</td>\n",
              "      <td>61.93</td>\n",
              "    </tr>\n",
              "    <tr>\n",
              "      <th>3</th>\n",
              "      <td>1.6830</td>\n",
              "      <td>63.29</td>\n",
              "    </tr>\n",
              "    <tr>\n",
              "      <th>4</th>\n",
              "      <td>1.7136</td>\n",
              "      <td>65.11</td>\n",
              "    </tr>\n",
              "    <tr>\n",
              "      <th>5</th>\n",
              "      <td>1.7340</td>\n",
              "      <td>66.47</td>\n",
              "    </tr>\n",
              "    <tr>\n",
              "      <th>6</th>\n",
              "      <td>1.7646</td>\n",
              "      <td>68.28</td>\n",
              "    </tr>\n",
              "    <tr>\n",
              "      <th>7</th>\n",
              "      <td>1.7850</td>\n",
              "      <td>70.10</td>\n",
              "    </tr>\n",
              "    <tr>\n",
              "      <th>8</th>\n",
              "      <td>1.8156</td>\n",
              "      <td>71.92</td>\n",
              "    </tr>\n",
              "    <tr>\n",
              "      <th>9</th>\n",
              "      <td>1.8360</td>\n",
              "      <td>74.19</td>\n",
              "    </tr>\n",
              "  </tbody>\n",
              "</table>\n",
              "</div>"
            ],
            "text/plain": [
              "   Height  Weight\n",
              "0  1.6014   59.20\n",
              "1  1.6320   60.57\n",
              "2  1.6626   61.93\n",
              "3  1.6830   63.29\n",
              "4  1.7136   65.11\n",
              "5  1.7340   66.47\n",
              "6  1.7646   68.28\n",
              "7  1.7850   70.10\n",
              "8  1.8156   71.92\n",
              "9  1.8360   74.19"
            ]
          },
          "metadata": {
            "tags": []
          },
          "execution_count": 4
        }
      ]
    },
    {
      "cell_type": "code",
      "metadata": {
        "id": "Bdw2MhVvqMKw",
        "colab": {
          "base_uri": "https://localhost:8080/",
          "height": 35
        },
        "outputId": "6a58361a-35f6-47d9-cfd3-2ed1bdac7471"
      },
      "source": [
        "'''*%matplotlib inline\n",
        "# Creating Bar chart as the Target variable is Continuous\n",
        "train['Weight'].hist()'''"
      ],
      "execution_count": null,
      "outputs": [
        {
          "output_type": "execute_result",
          "data": {
            "application/vnd.google.colaboratory.intrinsic+json": {
              "type": "string"
            },
            "text/plain": [
              "\"*%matplotlib inline\\n# Creating Bar chart as the Target variable is Continuous\\ntrain['Weight'].hist()\""
            ]
          },
          "metadata": {
            "tags": []
          },
          "execution_count": 5
        }
      ]
    },
    {
      "cell_type": "code",
      "metadata": {
        "colab": {
          "base_uri": "https://localhost:8080/"
        },
        "id": "J23lvWVE48wz",
        "outputId": "46eb7282-8f8a-43ad-871b-c9704993c728"
      },
      "source": [
        "test.info()"
      ],
      "execution_count": null,
      "outputs": [
        {
          "output_type": "stream",
          "text": [
            "<class 'pandas.core.frame.DataFrame'>\n",
            "RangeIndex: 11 entries, 0 to 10\n",
            "Data columns (total 2 columns):\n",
            " #   Column  Non-Null Count  Dtype  \n",
            "---  ------  --------------  -----  \n",
            " 0   Height  11 non-null     float64\n",
            " 1   Weight  11 non-null     float64\n",
            "dtypes: float64(2)\n",
            "memory usage: 304.0 bytes\n"
          ],
          "name": "stdout"
        }
      ]
    },
    {
      "cell_type": "code",
      "metadata": {
        "colab": {
          "base_uri": "https://localhost:8080/"
        },
        "id": "aYXFn2oWq1RB",
        "outputId": "a6581e6b-f584-467c-ed8b-710a98c08a29"
      },
      "source": [
        "# Separate Target Variable and Predictor Variables\n",
        "# Separate Target Variable and Predictor Variables\n",
        "\n",
        "X_train=train['Height']\n",
        "X_train=np.array(X_train).reshape(-1, 1)\n",
        "\n",
        "Y_train=train['Weight']\n",
        "Y_train=np.array(Y_train).reshape(-1, 1)\n",
        "\n",
        "X_test=np.array(test['Height']).reshape(-1,1)\n",
        "Y_test=np.array(test['Weight']).reshape(-1,1)\n",
        "\n",
        "\n",
        "\n",
        "X=train['Height'].values\n",
        "\n",
        "\n",
        "Y=train['Weight'].values\n",
        "\n",
        "# Split the data into training and testing set\n",
        "\n",
        "print(X_train.shape)\n",
        "print(Y_train.shape)\n",
        "print(X_test.shape)\n",
        "print(Y_test.shape)"
      ],
      "execution_count": null,
      "outputs": [
        {
          "output_type": "stream",
          "text": [
            "(19, 1)\n",
            "(19, 1)\n",
            "(11, 1)\n",
            "(11, 1)\n"
          ],
          "name": "stdout"
        }
      ]
    },
    {
      "cell_type": "code",
      "metadata": {
        "colab": {
          "base_uri": "https://localhost:8080/"
        },
        "id": "RCssBAZv6b5U",
        "outputId": "94ea419c-79fe-4d22-aca9-51f042582352"
      },
      "source": [
        "from sklearn.linear_model import LinearRegression\n",
        "\n",
        "RegModel = LinearRegression()\n",
        "\n",
        "# Printing all the parameters of Linear regression\n",
        "print(RegModel)\n",
        "\n",
        "# Creating the model on Training Data\n",
        "LREG=RegModel.fit(X_train,Y_train)\n",
        "prediction=LREG.predict(X_test)\n",
        "\n",
        "from sklearn import metrics\n",
        "# Measuring Goodness of fit in Training data\n",
        "print('R2 Value:',metrics.r2_score(Y_train, LREG.predict(X_train)))\n",
        "TargetVariable='Weight'\n",
        "Predictors=['Height']\n",
        "\n",
        "# Printing some sample values of prediction\n",
        "TestingDataResults=pd.DataFrame(data=X_test, columns=Predictors)\n",
        "TestingDataResults[TargetVariable]=Y_test\n",
        "TestingDataResults[('Predicted'+TargetVariable)]=np.round(prediction)\n",
        "\n",
        "# Printing sample prediction values\n",
        "print(TestingDataResults[[TargetVariable,'Predicted'+TargetVariable]].head(10))\n",
        "\n",
        "# Calculating the error for each row\n",
        "# mean absolute percentage error MAPE\n",
        "TestingDataResults['APE']=100 * ((abs(\n",
        "TestingDataResults['Weight']-TestingDataResults['PredictedWeight']))/TestingDataResults['Weight'])\n",
        "\n",
        "MAPE=np.mean(TestingDataResults['APE'])\n",
        "MedianMAPE=np.median(TestingDataResults['APE'])\n",
        "\n",
        "Accuracy =100 - MAPE\n",
        "MedianAccuracy=100- MedianMAPE\n",
        "print('Mean Accuracy on test data:', Accuracy) # Can be negative sometimes due to outlier\n",
        "print('Median Accuracy on test data:', MedianAccuracy)\n",
        "\n",
        "# Defining a custom function to calculate accuracy\n",
        "# Make sure there are no zeros in the Target variable if you are using MAPE\n",
        "def Accuracy_Score(orig,pred):\n",
        "    MAPE = np.mean(100 * (np.abs(orig-pred)/orig))\n",
        "    #print('#'*70,'Accuracy:', 100-MAPE)\n",
        "    return(100-MAPE)\n",
        "\n",
        "# Custom Scoring MAPE calculation \n",
        "from sklearn.metrics import make_scorer\n",
        "custom_Scoring=make_scorer(Accuracy_Score, greater_is_better=True)\n",
        "\n",
        "# Importing cross validation function from sklearn\n",
        "from sklearn.model_selection import cross_val_score\n",
        "\n",
        "# Running 10-Fold Cross validation on a given algorithm\n",
        "# Passing full data X and y because the K-fold will split the data and automatically choose train/test\n",
        "Accuracy_Values=cross_val_score(RegModel, X_train , Y_train, cv=5, scoring=custom_Scoring)\n",
        "print('\\nAccuracy values for 10-fold Cross Validation:\\n',Accuracy_Values)\n",
        "print('\\nFinal Average Accuracy of the model:', round(Accuracy_Values.mean(),2)) "
      ],
      "execution_count": null,
      "outputs": [
        {
          "output_type": "stream",
          "text": [
            "LinearRegression(copy_X=True, fit_intercept=True, n_jobs=None, normalize=False)\n",
            "R2 Value: 0.988741390987534\n",
            "   Weight  PredictedWeight\n",
            "0   59.20             59.0\n",
            "1   60.57             61.0\n",
            "2   61.93             63.0\n",
            "3   63.29             64.0\n",
            "4   65.11             66.0\n",
            "5   66.47             67.0\n",
            "6   68.28             69.0\n",
            "7   70.10             70.0\n",
            "8   71.92             72.0\n",
            "9   74.19             73.0\n",
            "Mean Accuracy on test data: 99.01059438056384\n",
            "Median Accuracy on test data: 98.94551845342707\n",
            "\n",
            "Accuracy values for 10-fold Cross Validation:\n",
            " [99.14513482 98.64405485 98.7096252  97.60050303 99.58692903]\n",
            "\n",
            "Final Average Accuracy of the model: 98.74\n"
          ],
          "name": "stdout"
        }
      ]
    },
    {
      "cell_type": "code",
      "metadata": {
        "id": "6LLdOoPtFgdz"
      },
      "source": [
        "import matplotlib.pyplot as plt\n",
        "\n",
        "X=train.iloc[:,:-1].values ## Independent variable\n",
        "Y=train.iloc[:,-1].values ## Dependent variable\n",
        "plt.scatter(X,Y, color=\"red\")\n",
        "plt.plot(X, LREG.predict(X), color=\"blue\")\n",
        "plt.xlabel(\"Age\")\n",
        "plt.ylabel(\"Height\")\n",
        "plt.title(\"Linear Regression for Height and Weight\")\n"
      ],
      "execution_count": null,
      "outputs": []
    }
  ]
}