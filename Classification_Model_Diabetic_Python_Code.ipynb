{
  "nbformat": 4,
  "nbformat_minor": 0,
  "metadata": {
    "kernelspec": {
      "display_name": "Python 3",
      "language": "python",
      "name": "python3"
    },
    "language_info": {
      "codemirror_mode": {
        "name": "ipython",
        "version": 3
      },
      "file_extension": ".py",
      "mimetype": "text/x-python",
      "name": "python",
      "nbconvert_exporter": "python",
      "pygments_lexer": "ipython3",
      "version": "3.7.3"
    },
    "colab": {
      "name": "Classification_Model_Diabetic_Python_Code.ipynb",
      "provenance": []
    }
  },
  "cells": [
    {
      "cell_type": "code",
      "metadata": {
        "id": "o-FvaTyVotik"
      },
      "source": [
        "#### Step 1: Import the Libraries-\n",
        "\n",
        "# Support Vector Machine\n",
        "# Importing the libraries\n",
        "\n",
        "import numpy as np\n",
        "import matplotlib.pyplot as plt\n",
        "import pandas as pd\n",
        "import seaborn as sns\n",
        "\n",
        "import numpy as np\n",
        "import pandas as pd\n",
        "from sklearn.model_selection import train_test_split\n",
        "from sklearn.metrics import confusion_matrix\n",
        "import matplotlib.pyplot as plt\n",
        "import seaborn as sns\n",
        "import warnings\n",
        "\n",
        "#Import Models\n",
        "from sklearn.linear_model import LogisticRegression\n",
        "from sklearn.tree import DecisionTreeClassifier\n",
        "from sklearn.ensemble import RandomForestClassifier\n",
        "\n",
        "sns.set()\n",
        "%matplotlib inline\n",
        "warnings.filterwarnings(\"ignore\")\n",
        "\n",
        "##### NumPy is an open-source Python library used to perform various mathematical and scientific tasks. \n",
        "##### NumPy is used for working with arrays. \n",
        "##### It also has functions for working in the domain of linear algebra, Fourier transform, and matrices.\n",
        "\n",
        "##### Matplotlib is a plotting library, that is used for creating a figure, plotting area in a figure, \n",
        "##### plot some lines in a plotting area, decorates the plot with labels, etc.\n",
        "\n",
        "##### Pandas is a tool used for data wrangling and analysis."
      ],
      "execution_count": 2,
      "outputs": []
    },
    {
      "cell_type": "code",
      "metadata": {
        "colab": {
          "base_uri": "https://localhost:8080/"
        },
        "id": "OVLUSBufqOFQ",
        "outputId": "e89e945b-7bd4-416a-eed1-84a766387ed6"
      },
      "source": [
        "from google.colab import drive\n",
        "drive.mount('/content/drive')"
      ],
      "execution_count": 3,
      "outputs": [
        {
          "output_type": "stream",
          "name": "stdout",
          "text": [
            "Drive already mounted at /content/drive; to attempt to forcibly remount, call drive.mount(\"/content/drive\", force_remount=True).\n"
          ]
        }
      ]
    },
    {
      "cell_type": "code",
      "metadata": {
        "id": "MGZ2nqmJotiu"
      },
      "source": [
        "#### Step 2: Load the Dataset\n",
        "\n",
        "# Importing the datasets\n",
        "\n",
        "datasets = pd.read_csv('/content/drive/MyDrive/AbiML/Colab Notebooks1/colab datas/diabete_1.csv')\n"
      ],
      "execution_count": 4,
      "outputs": []
    },
    {
      "cell_type": "code",
      "metadata": {
        "id": "SwMc2N_xotiv",
        "colab": {
          "base_uri": "https://localhost:8080/"
        },
        "outputId": "57bfac97-33b9-4242-8762-e2f50e2443ea"
      },
      "source": [
        "datasets.info()"
      ],
      "execution_count": 5,
      "outputs": [
        {
          "output_type": "stream",
          "name": "stdout",
          "text": [
            "<class 'pandas.core.frame.DataFrame'>\n",
            "RangeIndex: 10009 entries, 0 to 10008\n",
            "Data columns (total 9 columns):\n",
            " #   Column      Non-Null Count  Dtype  \n",
            "---  ------      --------------  -----  \n",
            " 0   n_pregnant  10009 non-null  int64  \n",
            " 1   glucose     10009 non-null  int64  \n",
            " 2   tension     10009 non-null  int64  \n",
            " 3   thickness   10009 non-null  int64  \n",
            " 4   insulin     10009 non-null  int64  \n",
            " 5   bmi         10009 non-null  float64\n",
            " 6   pedigree    10009 non-null  float64\n",
            " 7   age         10009 non-null  int64  \n",
            " 8   diabete     10009 non-null  int64  \n",
            "dtypes: float64(2), int64(7)\n",
            "memory usage: 703.9 KB\n"
          ]
        }
      ]
    },
    {
      "cell_type": "code",
      "metadata": {
        "colab": {
          "base_uri": "https://localhost:8080/",
          "height": 1000
        },
        "id": "nHfjH-CBuMA6",
        "outputId": "f3d8f444-71b3-4afa-99c4-77a854e5d508"
      },
      "source": [
        "datasets.hist(['n_pregnant','glucose','tension','thickness','insulin','bmi','pedigree','age'],figsize=(18,18))"
      ],
      "execution_count": 6,
      "outputs": [
        {
          "output_type": "execute_result",
          "data": {
            "text/plain": [
              "array([[<matplotlib.axes._subplots.AxesSubplot object at 0x7f55795c9490>,\n",
              "        <matplotlib.axes._subplots.AxesSubplot object at 0x7f557959e890>,\n",
              "        <matplotlib.axes._subplots.AxesSubplot object at 0x7f5579558e90>],\n",
              "       [<matplotlib.axes._subplots.AxesSubplot object at 0x7f557951b4d0>,\n",
              "        <matplotlib.axes._subplots.AxesSubplot object at 0x7f55794cdad0>,\n",
              "        <matplotlib.axes._subplots.AxesSubplot object at 0x7f5579491110>],\n",
              "       [<matplotlib.axes._subplots.AxesSubplot object at 0x7f5579447790>,\n",
              "        <matplotlib.axes._subplots.AxesSubplot object at 0x7f55793facd0>,\n",
              "        <matplotlib.axes._subplots.AxesSubplot object at 0x7f55793fad10>]],\n",
              "      dtype=object)"
            ]
          },
          "metadata": {},
          "execution_count": 6
        },
        {
          "output_type": "display_data",
          "data": {
            "image/png": "[encoded data removed]",
            "text/plain": [
              "<Figure size 1296x1296 with 9 Axes>"
            ]
          },
          "metadata": {
            "needs_background": "light"
          }
        }
      ]
    },
    {
      "cell_type": "code",
      "metadata": {
        "colab": {
          "base_uri": "https://localhost:8080/",
          "height": 55
        },
        "id": "9B6e20Mrw0vh",
        "outputId": "7714df9b-ecf2-4862-c4b5-83747317adaa"
      },
      "source": [
        "df=datasets\n",
        "cols = ['n_pregnant','glucose','tension','thickness','insulin','bmi','pedigree','age'] # one or more\n",
        "\n",
        "#print(upperbound,lowerbound)\n",
        "'''Q1 = df[cols].quantile(0.25)\n",
        "Q3 = df[cols].quantile(0.75)\n",
        "IQR = Q3 - Q1\n",
        "print(Q1,Q3)\n",
        "lower=Q1-(1.5*IQR)\n",
        "upper=Q3-(1.5*IQR)\n",
        "df[cols]=IQR\n",
        "df.describe()\n",
        "\n",
        "#df.hist(['n_pregnant','glucose','tension','thickness','insulin','bmi','pedigree','age'],figsize=(18,18))'''"
      ],
      "execution_count": 7,
      "outputs": [
        {
          "output_type": "execute_result",
          "data": {
            "application/vnd.google.colaboratory.intrinsic+json": {
              "type": "string"
            },
            "text/plain": [
              "\"Q1 = df[cols].quantile(0.25)\\nQ3 = df[cols].quantile(0.75)\\nIQR = Q3 - Q1\\nprint(Q1,Q3)\\nlower=Q1-(1.5*IQR)\\nupper=Q3-(1.5*IQR)\\ndf[cols]=IQR\\ndf.describe()\\n\\n#df.hist(['n_pregnant','glucose','tension','thickness','insulin','bmi','pedigree','age'],figsize=(18,18))\""
            ]
          },
          "metadata": {},
          "execution_count": 7
        }
      ]
    },
    {
      "cell_type": "code",
      "metadata": {
        "id": "yPB0MomWsYkf"
      },
      "source": [
        "# for all person glucose should be 80 - 200\n",
        "#df.loc[df['glucose']<=50,'glucose']=80"
      ],
      "execution_count": 8,
      "outputs": []
    },
    {
      "cell_type": "code",
      "metadata": {
        "id": "dntJ81sStXbd"
      },
      "source": [
        "#bp level 70  to 140\n",
        "#df.loc[df['tension']<=,'tension']=60"
      ],
      "execution_count": 9,
      "outputs": []
    },
    {
      "cell_type": "code",
      "metadata": {
        "id": "jlwpnIwZ2Ah0"
      },
      "source": [
        "#df.loc[df['thickness']<=22,'thickness']=30"
      ],
      "execution_count": 10,
      "outputs": []
    },
    {
      "cell_type": "code",
      "metadata": {
        "id": "r9ZjL-gu5kfF"
      },
      "source": [
        "#df.loc[df['thickness']>=160,'thickness']=120"
      ],
      "execution_count": 11,
      "outputs": []
    },
    {
      "cell_type": "code",
      "metadata": {
        "id": "aWBi0xtg2dKU"
      },
      "source": [
        "#insulin level 70 -200 mIU/L...\n",
        "#(SI Units*)174 pmol/L-1300\n",
        "#df.loc[df['insulin']<=150,'thickness']=168"
      ],
      "execution_count": 12,
      "outputs": []
    },
    {
      "cell_type": "code",
      "metadata": {
        "id": "fIEb7Cqt4V8w"
      },
      "source": [
        "# min 15 to 60\n",
        "#df.loc[df['bmi']<=15,'bmi']=20"
      ],
      "execution_count": 13,
      "outputs": []
    },
    {
      "cell_type": "code",
      "metadata": {
        "colab": {
          "base_uri": "https://localhost:8080/",
          "height": 55
        },
        "id": "gukLLf6JIGge",
        "outputId": "4524ca98-d082-42fa-e583-d672a02197ee"
      },
      "source": [
        "df=datasets\n",
        "#cols = ['n_pregnant','glucose','tension','thickness','insulin','bmi','pedigree','age']\n",
        "'''for x in ['glucose']:\n",
        "    q75,q25 = np.percentile(df,[75,25])\n",
        "    intr_qr = q75-q25\n",
        " \n",
        "    max = q75+(1.5*intr_qr)\n",
        "    min = q25-(1.5*intr_qr)\n",
        " \n",
        "    df.loc[df['glucose'] < min,x] = np.nan\n",
        "    df.loc[df['glucose'] > max,x] = np.nan'''"
      ],
      "execution_count": 14,
      "outputs": [
        {
          "output_type": "execute_result",
          "data": {
            "application/vnd.google.colaboratory.intrinsic+json": {
              "type": "string"
            },
            "text/plain": [
              "\"for x in ['glucose']:\\n    q75,q25 = np.percentile(df,[75,25])\\n    intr_qr = q75-q25\\n \\n    max = q75+(1.5*intr_qr)\\n    min = q25-(1.5*intr_qr)\\n \\n    df.loc[df['glucose'] < min,x] = np.nan\\n    df.loc[df['glucose'] > max,x] = np.nan\""
            ]
          },
          "metadata": {},
          "execution_count": 14
        }
      ]
    },
    {
      "cell_type": "code",
      "metadata": {
        "colab": {
          "base_uri": "https://localhost:8080/",
          "height": 55
        },
        "id": "miBqz6yDNwuN",
        "outputId": "2fc336ee-985c-4ad3-9f45-ca6abd94d1da"
      },
      "source": [
        "'''for x in ['insulin']:\n",
        "    q75,q25 = np.percentile(df,[75,25])\n",
        "    intr_qr = q75-q25\n",
        " \n",
        "    max = q75+(1.5*intr_qr)\n",
        "    min = q25-(1.5*intr_qr)\n",
        " \n",
        "    df.loc[df['insulin'] < min,x] = np.nan\n",
        "    df.loc[df['insulin'] > max,x] = np.nan'''"
      ],
      "execution_count": 15,
      "outputs": [
        {
          "output_type": "execute_result",
          "data": {
            "application/vnd.google.colaboratory.intrinsic+json": {
              "type": "string"
            },
            "text/plain": [
              "\"for x in ['insulin']:\\n    q75,q25 = np.percentile(df,[75,25])\\n    intr_qr = q75-q25\\n \\n    max = q75+(1.5*intr_qr)\\n    min = q25-(1.5*intr_qr)\\n \\n    df.loc[df['insulin'] < min,x] = np.nan\\n    df.loc[df['insulin'] > max,x] = np.nan\""
            ]
          },
          "metadata": {},
          "execution_count": 15
        }
      ]
    },
    {
      "cell_type": "code",
      "metadata": {
        "id": "pKpYBUoXN6Fy"
      },
      "source": [
        "#print(df['insulin'].isnull().sum())"
      ],
      "execution_count": 16,
      "outputs": []
    },
    {
      "cell_type": "code",
      "metadata": {
        "colab": {
          "base_uri": "https://localhost:8080/",
          "height": 55
        },
        "id": "J2C3dRSdKaiQ",
        "outputId": "1f010dc2-c75e-4553-c9b8-a6bff99ab3ee"
      },
      "source": [
        "'''for x in ['tension']:\n",
        "    q75,q25 = np.percentile(df,[75,25])\n",
        "    intr_qr = q75-q25\n",
        " \n",
        "    max = q75+(1.5*intr_qr)\n",
        "    min = q25-(1.5*intr_qr)\n",
        " \n",
        "    df.loc[df['tension'] < min,x] = np.nan\n",
        "    df.loc[df['tension'] > max,x] = np.nan'''"
      ],
      "execution_count": 17,
      "outputs": [
        {
          "output_type": "execute_result",
          "data": {
            "application/vnd.google.colaboratory.intrinsic+json": {
              "type": "string"
            },
            "text/plain": [
              "\"for x in ['tension']:\\n    q75,q25 = np.percentile(df,[75,25])\\n    intr_qr = q75-q25\\n \\n    max = q75+(1.5*intr_qr)\\n    min = q25-(1.5*intr_qr)\\n \\n    df.loc[df['tension'] < min,x] = np.nan\\n    df.loc[df['tension'] > max,x] = np.nan\""
            ]
          },
          "metadata": {},
          "execution_count": 17
        }
      ]
    },
    {
      "cell_type": "code",
      "metadata": {
        "id": "G_OCri-6Mw0Z"
      },
      "source": [
        "#print(df['tension'].isnull().sum())"
      ],
      "execution_count": 18,
      "outputs": []
    },
    {
      "cell_type": "code",
      "metadata": {
        "id": "wagUKA07KLI-"
      },
      "source": [
        "#print(df['glucose'].isnull().sum())"
      ],
      "execution_count": 19,
      "outputs": []
    },
    {
      "cell_type": "code",
      "metadata": {
        "colab": {
          "base_uri": "https://localhost:8080/"
        },
        "id": "nwnBslYJJeHI",
        "outputId": "e2b6458a-a963-4787-c368-36bda8b871f3"
      },
      "source": [
        "df.isnull().sum()"
      ],
      "execution_count": 20,
      "outputs": [
        {
          "output_type": "execute_result",
          "data": {
            "text/plain": [
              "n_pregnant    0\n",
              "glucose       0\n",
              "tension       0\n",
              "thickness     0\n",
              "insulin       0\n",
              "bmi           0\n",
              "pedigree      0\n",
              "age           0\n",
              "diabete       0\n",
              "dtype: int64"
            ]
          },
          "metadata": {},
          "execution_count": 20
        }
      ]
    },
    {
      "cell_type": "code",
      "metadata": {
        "id": "NSyJn1YJRet1"
      },
      "source": [
        "#df = df.dropna(axis = 0)"
      ],
      "execution_count": 21,
      "outputs": []
    },
    {
      "cell_type": "code",
      "metadata": {
        "colab": {
          "base_uri": "https://localhost:8080/"
        },
        "id": "DC7dpwWORksg",
        "outputId": "e6c5bea5-a8ee-43bf-fab3-97b5f1425323"
      },
      "source": [
        "df.isnull().sum()"
      ],
      "execution_count": 22,
      "outputs": [
        {
          "output_type": "execute_result",
          "data": {
            "text/plain": [
              "n_pregnant    0\n",
              "glucose       0\n",
              "tension       0\n",
              "thickness     0\n",
              "insulin       0\n",
              "bmi           0\n",
              "pedigree      0\n",
              "age           0\n",
              "diabete       0\n",
              "dtype: int64"
            ]
          },
          "metadata": {},
          "execution_count": 22
        }
      ]
    },
    {
      "cell_type": "code",
      "metadata": {
        "colab": {
          "base_uri": "https://localhost:8080/",
          "height": 300
        },
        "id": "o_BfeLzVJOgP",
        "outputId": "73ab2728-bf92-45c7-f42b-e520e81a1b77"
      },
      "source": [
        "df.describe()"
      ],
      "execution_count": 23,
      "outputs": [
        {
          "output_type": "execute_result",
          "data": {
            "text/html": [
              "<div>\n",
              "<style scoped>\n",
              "    .dataframe tbody tr th:only-of-type {\n",
              "        vertical-align: middle;\n",
              "    }\n",
              "\n",
              "    .dataframe tbody tr th {\n",
              "        vertical-align: top;\n",
              "    }\n",
              "\n",
              "    .dataframe thead th {\n",
              "        text-align: right;\n",
              "    }\n",
              "</style>\n",
              "<table border=\"1\" class=\"dataframe\">\n",
              "  <thead>\n",
              "    <tr style=\"text-align: right;\">\n",
              "      <th></th>\n",
              "      <th>n_pregnant</th>\n",
              "      <th>glucose</th>\n",
              "      <th>tension</th>\n",
              "      <th>thickness</th>\n",
              "      <th>insulin</th>\n",
              "      <th>bmi</th>\n",
              "      <th>pedigree</th>\n",
              "      <th>age</th>\n",
              "      <th>diabete</th>\n",
              "    </tr>\n",
              "  </thead>\n",
              "  <tbody>\n",
              "    <tr>\n",
              "      <th>count</th>\n",
              "      <td>10009.000000</td>\n",
              "      <td>10009.000000</td>\n",
              "      <td>10009.000000</td>\n",
              "      <td>10009.000000</td>\n",
              "      <td>10009.000000</td>\n",
              "      <td>10009.000000</td>\n",
              "      <td>10009.000000</td>\n",
              "      <td>10009.000000</td>\n",
              "      <td>10009.00000</td>\n",
              "    </tr>\n",
              "    <tr>\n",
              "      <th>mean</th>\n",
              "      <td>5.779698</td>\n",
              "      <td>101.071136</td>\n",
              "      <td>61.425617</td>\n",
              "      <td>46.510541</td>\n",
              "      <td>395.780997</td>\n",
              "      <td>36.924475</td>\n",
              "      <td>1.431410</td>\n",
              "      <td>49.489959</td>\n",
              "      <td>0.48926</td>\n",
              "    </tr>\n",
              "    <tr>\n",
              "      <th>std</th>\n",
              "      <td>3.746878</td>\n",
              "      <td>56.443303</td>\n",
              "      <td>34.744530</td>\n",
              "      <td>28.980708</td>\n",
              "      <td>254.960753</td>\n",
              "      <td>10.981606</td>\n",
              "      <td>0.879384</td>\n",
              "      <td>17.829336</td>\n",
              "      <td>0.49991</td>\n",
              "    </tr>\n",
              "    <tr>\n",
              "      <th>min</th>\n",
              "      <td>0.000000</td>\n",
              "      <td>0.000000</td>\n",
              "      <td>0.000000</td>\n",
              "      <td>0.000000</td>\n",
              "      <td>0.000000</td>\n",
              "      <td>0.000000</td>\n",
              "      <td>0.000000</td>\n",
              "      <td>21.000000</td>\n",
              "      <td>0.00000</td>\n",
              "    </tr>\n",
              "    <tr>\n",
              "      <th>25%</th>\n",
              "      <td>3.000000</td>\n",
              "      <td>53.000000</td>\n",
              "      <td>32.000000</td>\n",
              "      <td>22.000000</td>\n",
              "      <td>168.000000</td>\n",
              "      <td>27.700000</td>\n",
              "      <td>0.633000</td>\n",
              "      <td>34.000000</td>\n",
              "      <td>0.00000</td>\n",
              "    </tr>\n",
              "    <tr>\n",
              "      <th>50%</th>\n",
              "      <td>6.000000</td>\n",
              "      <td>102.000000</td>\n",
              "      <td>63.000000</td>\n",
              "      <td>45.000000</td>\n",
              "      <td>386.000000</td>\n",
              "      <td>36.630000</td>\n",
              "      <td>1.400000</td>\n",
              "      <td>49.000000</td>\n",
              "      <td>0.00000</td>\n",
              "    </tr>\n",
              "    <tr>\n",
              "      <th>75%</th>\n",
              "      <td>9.000000</td>\n",
              "      <td>149.000000</td>\n",
              "      <td>90.000000</td>\n",
              "      <td>71.000000</td>\n",
              "      <td>619.000000</td>\n",
              "      <td>46.260000</td>\n",
              "      <td>2.196000</td>\n",
              "      <td>65.000000</td>\n",
              "      <td>1.00000</td>\n",
              "    </tr>\n",
              "    <tr>\n",
              "      <th>max</th>\n",
              "      <td>17.000000</td>\n",
              "      <td>199.000000</td>\n",
              "      <td>122.000000</td>\n",
              "      <td>99.000000</td>\n",
              "      <td>846.000000</td>\n",
              "      <td>67.100000</td>\n",
              "      <td>3.000000</td>\n",
              "      <td>81.000000</td>\n",
              "      <td>1.00000</td>\n",
              "    </tr>\n",
              "  </tbody>\n",
              "</table>\n",
              "</div>"
            ],
            "text/plain": [
              "         n_pregnant       glucose  ...           age      diabete\n",
              "count  10009.000000  10009.000000  ...  10009.000000  10009.00000\n",
              "mean       5.779698    101.071136  ...     49.489959      0.48926\n",
              "std        3.746878     56.443303  ...     17.829336      0.49991\n",
              "min        0.000000      0.000000  ...     21.000000      0.00000\n",
              "25%        3.000000     53.000000  ...     34.000000      0.00000\n",
              "50%        6.000000    102.000000  ...     49.000000      0.00000\n",
              "75%        9.000000    149.000000  ...     65.000000      1.00000\n",
              "max       17.000000    199.000000  ...     81.000000      1.00000\n",
              "\n",
              "[8 rows x 9 columns]"
            ]
          },
          "metadata": {},
          "execution_count": 23
        }
      ]
    },
    {
      "cell_type": "code",
      "metadata": {
        "colab": {
          "base_uri": "https://localhost:8080/",
          "height": 1000
        },
        "id": "jN3uExqi5EJR",
        "outputId": "f56cf491-b37f-4fe4-9d1b-06d97b332c3b"
      },
      "source": [
        "df.hist(['n_pregnant','glucose','tension','thickness','insulin','bmi','pedigree','age'],figsize=(18,15))"
      ],
      "execution_count": 24,
      "outputs": [
        {
          "output_type": "execute_result",
          "data": {
            "text/plain": [
              "array([[<matplotlib.axes._subplots.AxesSubplot object at 0x7f5578c89110>,\n",
              "        <matplotlib.axes._subplots.AxesSubplot object at 0x7f5578c45a10>,\n",
              "        <matplotlib.axes._subplots.AxesSubplot object at 0x7f5578bf5fd0>],\n",
              "       [<matplotlib.axes._subplots.AxesSubplot object at 0x7f5578bb6650>,\n",
              "        <matplotlib.axes._subplots.AxesSubplot object at 0x7f5578b6ac50>,\n",
              "        <matplotlib.axes._subplots.AxesSubplot object at 0x7f5578ba2dd0>],\n",
              "       [<matplotlib.axes._subplots.AxesSubplot object at 0x7f5578ae6390>,\n",
              "        <matplotlib.axes._subplots.AxesSubplot object at 0x7f5578b1a7d0>,\n",
              "        <matplotlib.axes._subplots.AxesSubplot object at 0x7f5578b1a810>]],\n",
              "      dtype=object)"
            ]
          },
          "metadata": {},
          "execution_count": 24
        },
        {
          "output_type": "display_data",
          "data": {
            "image/png": "[encoded data removed]",
            "text/plain": [
              "<Figure size 1296x1080 with 9 Axes>"
            ]
          },
          "metadata": {
            "needs_background": "light"
          }
        }
      ]
    },
    {
      "cell_type": "code",
      "metadata": {
        "colab": {
          "base_uri": "https://localhost:8080/",
          "height": 300
        },
        "id": "EAy9weo1tLxz",
        "outputId": "189b4329-98c6-437e-e61e-7283201128e4"
      },
      "source": [
        "df.describe()"
      ],
      "execution_count": 25,
      "outputs": [
        {
          "output_type": "execute_result",
          "data": {
            "text/html": [
              "<div>\n",
              "<style scoped>\n",
              "    .dataframe tbody tr th:only-of-type {\n",
              "        vertical-align: middle;\n",
              "    }\n",
              "\n",
              "    .dataframe tbody tr th {\n",
              "        vertical-align: top;\n",
              "    }\n",
              "\n",
              "    .dataframe thead th {\n",
              "        text-align: right;\n",
              "    }\n",
              "</style>\n",
              "<table border=\"1\" class=\"dataframe\">\n",
              "  <thead>\n",
              "    <tr style=\"text-align: right;\">\n",
              "      <th></th>\n",
              "      <th>n_pregnant</th>\n",
              "      <th>glucose</th>\n",
              "      <th>tension</th>\n",
              "      <th>thickness</th>\n",
              "      <th>insulin</th>\n",
              "      <th>bmi</th>\n",
              "      <th>pedigree</th>\n",
              "      <th>age</th>\n",
              "      <th>diabete</th>\n",
              "    </tr>\n",
              "  </thead>\n",
              "  <tbody>\n",
              "    <tr>\n",
              "      <th>count</th>\n",
              "      <td>10009.000000</td>\n",
              "      <td>10009.000000</td>\n",
              "      <td>10009.000000</td>\n",
              "      <td>10009.000000</td>\n",
              "      <td>10009.000000</td>\n",
              "      <td>10009.000000</td>\n",
              "      <td>10009.000000</td>\n",
              "      <td>10009.000000</td>\n",
              "      <td>10009.00000</td>\n",
              "    </tr>\n",
              "    <tr>\n",
              "      <th>mean</th>\n",
              "      <td>5.779698</td>\n",
              "      <td>101.071136</td>\n",
              "      <td>61.425617</td>\n",
              "      <td>46.510541</td>\n",
              "      <td>395.780997</td>\n",
              "      <td>36.924475</td>\n",
              "      <td>1.431410</td>\n",
              "      <td>49.489959</td>\n",
              "      <td>0.48926</td>\n",
              "    </tr>\n",
              "    <tr>\n",
              "      <th>std</th>\n",
              "      <td>3.746878</td>\n",
              "      <td>56.443303</td>\n",
              "      <td>34.744530</td>\n",
              "      <td>28.980708</td>\n",
              "      <td>254.960753</td>\n",
              "      <td>10.981606</td>\n",
              "      <td>0.879384</td>\n",
              "      <td>17.829336</td>\n",
              "      <td>0.49991</td>\n",
              "    </tr>\n",
              "    <tr>\n",
              "      <th>min</th>\n",
              "      <td>0.000000</td>\n",
              "      <td>0.000000</td>\n",
              "      <td>0.000000</td>\n",
              "      <td>0.000000</td>\n",
              "      <td>0.000000</td>\n",
              "      <td>0.000000</td>\n",
              "      <td>0.000000</td>\n",
              "      <td>21.000000</td>\n",
              "      <td>0.00000</td>\n",
              "    </tr>\n",
              "    <tr>\n",
              "      <th>25%</th>\n",
              "      <td>3.000000</td>\n",
              "      <td>53.000000</td>\n",
              "      <td>32.000000</td>\n",
              "      <td>22.000000</td>\n",
              "      <td>168.000000</td>\n",
              "      <td>27.700000</td>\n",
              "      <td>0.633000</td>\n",
              "      <td>34.000000</td>\n",
              "      <td>0.00000</td>\n",
              "    </tr>\n",
              "    <tr>\n",
              "      <th>50%</th>\n",
              "      <td>6.000000</td>\n",
              "      <td>102.000000</td>\n",
              "      <td>63.000000</td>\n",
              "      <td>45.000000</td>\n",
              "      <td>386.000000</td>\n",
              "      <td>36.630000</td>\n",
              "      <td>1.400000</td>\n",
              "      <td>49.000000</td>\n",
              "      <td>0.00000</td>\n",
              "    </tr>\n",
              "    <tr>\n",
              "      <th>75%</th>\n",
              "      <td>9.000000</td>\n",
              "      <td>149.000000</td>\n",
              "      <td>90.000000</td>\n",
              "      <td>71.000000</td>\n",
              "      <td>619.000000</td>\n",
              "      <td>46.260000</td>\n",
              "      <td>2.196000</td>\n",
              "      <td>65.000000</td>\n",
              "      <td>1.00000</td>\n",
              "    </tr>\n",
              "    <tr>\n",
              "      <th>max</th>\n",
              "      <td>17.000000</td>\n",
              "      <td>199.000000</td>\n",
              "      <td>122.000000</td>\n",
              "      <td>99.000000</td>\n",
              "      <td>846.000000</td>\n",
              "      <td>67.100000</td>\n",
              "      <td>3.000000</td>\n",
              "      <td>81.000000</td>\n",
              "      <td>1.00000</td>\n",
              "    </tr>\n",
              "  </tbody>\n",
              "</table>\n",
              "</div>"
            ],
            "text/plain": [
              "         n_pregnant       glucose  ...           age      diabete\n",
              "count  10009.000000  10009.000000  ...  10009.000000  10009.00000\n",
              "mean       5.779698    101.071136  ...     49.489959      0.48926\n",
              "std        3.746878     56.443303  ...     17.829336      0.49991\n",
              "min        0.000000      0.000000  ...     21.000000      0.00000\n",
              "25%        3.000000     53.000000  ...     34.000000      0.00000\n",
              "50%        6.000000    102.000000  ...     49.000000      0.00000\n",
              "75%        9.000000    149.000000  ...     65.000000      1.00000\n",
              "max       17.000000    199.000000  ...     81.000000      1.00000\n",
              "\n",
              "[8 rows x 9 columns]"
            ]
          },
          "metadata": {},
          "execution_count": 25
        }
      ]
    },
    {
      "cell_type": "code",
      "metadata": {
        "id": "MCJaturCgFrM"
      },
      "source": [
        "import scipy.stats as stats\n",
        "import pylab\n",
        "def plotdata(df,features):\n",
        "  plt.subplot(1,2,1)\n",
        "  df[features].hist()\n",
        "  plt.subplot(1,2,2)\n",
        "  stats.probplot(df[features],dist='norm',plot=pylab)"
      ],
      "execution_count": 26,
      "outputs": []
    },
    {
      "cell_type": "code",
      "metadata": {
        "colab": {
          "base_uri": "https://localhost:8080/",
          "height": 301
        },
        "id": "XGqtf5logsqS",
        "outputId": "8688a245-5d2f-473a-a44d-9e11bd1ff0e3"
      },
      "source": [
        "#no transformation\n",
        "\n",
        "df['insulin']=df.insulin\n",
        "plotdata(df,'insulin')"
      ],
      "execution_count": 27,
      "outputs": [
        {
          "output_type": "display_data",
          "data": {
            "image/png": "[encoded data removed]",
            "text/plain": [
              "<Figure size 432x288 with 2 Axes>"
            ]
          },
          "metadata": {
            "needs_background": "light"
          }
        }
      ]
    },
    {
      "cell_type": "code",
      "metadata": {
        "colab": {
          "base_uri": "https://localhost:8080/",
          "height": 301
        },
        "id": "hi396t4CgWaV",
        "outputId": "71f5bec7-50e9-46e9-e79c-232bafac6a19"
      },
      "source": [
        "df1=df\n",
        "#logarthmic Transformation\n",
        "df1['insulin_log']=np.log1p(df1['insulin'])\n",
        "plotdata(df1,'insulin_log')"
      ],
      "execution_count": 28,
      "outputs": [
        {
          "output_type": "display_data",
          "data": {
            "image/png": "[encoded data removed]",
            "text/plain": [
              "<Figure size 432x288 with 2 Axes>"
            ]
          },
          "metadata": {
            "needs_background": "light"
          }
        }
      ]
    },
    {
      "cell_type": "code",
      "metadata": {
        "colab": {
          "base_uri": "https://localhost:8080/",
          "height": 301
        },
        "id": "ZwPMzpVohs90",
        "outputId": "3e34bbfc-ce62-4c16-ad40-50712da7211d"
      },
      "source": [
        "#Square root\n",
        "df1['insulin_squ']=df1.insulin**(1/2)\n",
        "plotdata(df1,'insulin_squ')"
      ],
      "execution_count": 29,
      "outputs": [
        {
          "output_type": "display_data",
          "data": {
            "image/png": "[encoded data removed]",
            "text/plain": [
              "<Figure size 432x288 with 2 Axes>"
            ]
          },
          "metadata": {
            "needs_background": "light"
          }
        }
      ]
    },
    {
      "cell_type": "code",
      "metadata": {
        "id": "Wr0upjwtotix"
      },
      "source": [
        "#### independent variables n_pregnant, glucose, tension, thickness, insulin , bmi, pedigree, age\n",
        "#### One dependent variable that Patient is Diabetic or not. \n",
        "#### 1 means Diabetic\n",
        "#### 0 means not Diabetic"
      ],
      "execution_count": 30,
      "outputs": []
    },
    {
      "cell_type": "code",
      "metadata": {
        "id": "oPWKBhmsotix"
      },
      "source": [
        "#### Model Preparation\n",
        "#### our model has to classify whether a patient is daibetic or not based on the Patients other details."
      ],
      "execution_count": 31,
      "outputs": []
    },
    {
      "cell_type": "code",
      "metadata": {
        "id": "NzOAnYAYotiy"
      },
      "source": [
        "#### In the next step, I will remove these two variables and split the dataset into X and Y.\n",
        "#### Here X represents independent variables and Y represents dependent variables."
      ],
      "execution_count": 32,
      "outputs": []
    },
    {
      "cell_type": "code",
      "metadata": {
        "id": "bH-l72vCotiy"
      },
      "source": [
        "#### Step 3: Split Dataset into X and Y\n",
        "\n",
        "X1 = df.iloc[:, [0,1,2,3,4,5,6,7]].values \n",
        "Y1 = df.iloc[:, 8].values\n"
      ],
      "execution_count": 33,
      "outputs": []
    },
    {
      "cell_type": "code",
      "metadata": {
        "colab": {
          "base_uri": "https://localhost:8080/"
        },
        "id": "8wDMalqC4Ukh",
        "outputId": "0a814a2a-2199-48c2-96f4-5ad3a61b21c3"
      },
      "source": [
        "listcols = pd.DataFrame({ 'colnum':[0,1,2,3,4,5,6,7],'Columns':['n_pregnant','glucose','tension','thickness','insulin','bmi','pedigree','age']})\n",
        "print(listcols)"
      ],
      "execution_count": 34,
      "outputs": [
        {
          "output_type": "stream",
          "name": "stdout",
          "text": [
            "   colnum     Columns\n",
            "0       0  n_pregnant\n",
            "1       1     glucose\n",
            "2       2     tension\n",
            "3       3   thickness\n",
            "4       4     insulin\n",
            "5       5         bmi\n",
            "6       6    pedigree\n",
            "7       7         age\n"
          ]
        }
      ]
    },
    {
      "cell_type": "code",
      "metadata": {
        "colab": {
          "base_uri": "https://localhost:8080/",
          "height": 329
        },
        "id": "Sm_thBC70DPI",
        "outputId": "a935a011-737c-4d13-8460-20ae1e25ab2c"
      },
      "source": [
        "from sklearn.feature_selection import SelectKBest\n",
        "from sklearn.feature_selection import f_regression\n",
        "import matplotlib.pyplot as plt\n",
        "from sklearn.feature_selection import mutual_info_regression\n",
        "#from sklearn.feature_selection import chi2\n",
        "# feature selection\n",
        "\n",
        "f_selector = SelectKBest(score_func=f_regression, k='all')\n",
        "# Plot the scores for the features\n",
        "f_selector.fit(X1,Y1)\n",
        "\n",
        "plt.bar([i for i in range(len(f_selector.scores_))], f_selector.scores_)\n",
        "plt.xlabel(\"feature index\")\n",
        "\n",
        "plt.ylabel(\"F-value (transformed from the correlation values)\")\n",
        "plt.show()\n"
      ],
      "execution_count": 35,
      "outputs": [
        {
          "output_type": "display_data",
          "data": {
            "image/png": "[encoded data removed]",
            "text/plain": [
              "<Figure size 432x288 with 1 Axes>"
            ]
          },
          "metadata": {
            "needs_background": "light"
          }
        }
      ]
    },
    {
      "cell_type": "code",
      "metadata": {
        "id": "pkZIXoxg5uIO"
      },
      "source": [
        "X = df.iloc[:, [0,1,2,3,4,5,6,7]].values \n",
        "Y = df.iloc[:, 8].values"
      ],
      "execution_count": 36,
      "outputs": []
    },
    {
      "cell_type": "code",
      "metadata": {
        "id": "Zntibfe1otiz",
        "colab": {
          "base_uri": "https://localhost:8080/"
        },
        "outputId": "90096b86-9147-4469-a31c-779fd1de3b0f"
      },
      "source": [
        "\n",
        "classes = {0:'Non-Diabetic', 1:'Diabetic'}\n",
        "classes_names = ['Non-Diabetic', 'Diabetic']\n",
        "print(df.diabete.value_counts().rename(index = classes))"
      ],
      "execution_count": 37,
      "outputs": [
        {
          "output_type": "stream",
          "name": "stdout",
          "text": [
            "Non-Diabetic    5112\n",
            "Diabetic        4897\n",
            "Name: diabete, dtype: int64\n"
          ]
        }
      ]
    },
    {
      "cell_type": "code",
      "metadata": {
        "id": "JO2nxqvbotiz"
      },
      "source": [
        "x = X"
      ],
      "execution_count": 38,
      "outputs": []
    },
    {
      "cell_type": "code",
      "metadata": {
        "id": "Em_GcWw4oti0",
        "colab": {
          "base_uri": "https://localhost:8080/"
        },
        "outputId": "aad0b116-dcea-476e-ce9e-8e57479e26f9"
      },
      "source": [
        "x"
      ],
      "execution_count": 39,
      "outputs": [
        {
          "output_type": "execute_result",
          "data": {
            "text/plain": [
              "array([[0.000e+00, 7.800e+01, 5.200e+01, ..., 2.510e+01, 7.800e-02,\n",
              "        2.100e+01],\n",
              "       [2.000e+00, 1.070e+02, 6.200e+01, ..., 2.520e+01, 1.280e-01,\n",
              "        2.100e+01],\n",
              "       [3.000e+00, 1.140e+02, 6.200e+01, ..., 2.260e+01, 1.420e-01,\n",
              "        2.100e+01],\n",
              "       ...,\n",
              "       [1.000e+00, 1.100e+01, 1.010e+02, ..., 2.544e+01, 2.935e+00,\n",
              "        5.700e+01],\n",
              "       [9.000e+00, 1.950e+02, 6.200e+01, ..., 3.575e+01, 1.733e+00,\n",
              "        4.200e+01],\n",
              "       [5.000e+00, 3.600e+01, 4.200e+01, ..., 4.750e+01, 2.516e+00,\n",
              "        3.300e+01]])"
            ]
          },
          "metadata": {},
          "execution_count": 39
        }
      ]
    },
    {
      "cell_type": "code",
      "metadata": {
        "id": "0fRCWB2hoti1",
        "colab": {
          "base_uri": "https://localhost:8080/"
        },
        "outputId": "f143a024-1953-482b-e391-4fb86f38ca7a"
      },
      "source": [
        "Y"
      ],
      "execution_count": 40,
      "outputs": [
        {
          "output_type": "execute_result",
          "data": {
            "text/plain": [
              "array([0, 0, 0, ..., 0, 0, 0])"
            ]
          },
          "metadata": {},
          "execution_count": 40
        }
      ]
    },
    {
      "cell_type": "code",
      "metadata": {
        "id": "P6dgClLPoti1"
      },
      "source": [
        "#### Step 4: Split the X and Y Dataset into the Training set and Test set\n",
        "\n",
        "#### For any machine learning model, we need to train our model on the training set first. \n",
        "#### Once the data is trained checking the performance of our model, we use a Test set. \n",
        "#### This is the reason why we have to split the X and Y datasets into the Training set and Test set.\n",
        "\n",
        "from sklearn.model_selection import train_test_split\n",
        "X_Train, X_Test, Y_Train, Y_Test = train_test_split(X, Y, test_size = 0.30, random_state = 0)\n",
        "\n",
        "\n",
        "\n",
        "#### train_test_split selects randomly the train and test size basing on the ratio given. \n",
        "#### Every single time you run this function you will have a randomly selected train and test values based on the train \n",
        "#### and test size ratio. \n",
        "#### This random selection every particular time you run this results in the \"random_states\". \n",
        "#### To avoid getting different values for train and test every time we select the random_state you want to use. \n"
      ],
      "execution_count": 41,
      "outputs": []
    },
    {
      "cell_type": "code",
      "metadata": {
        "id": "VYtMpJ22oti2"
      },
      "source": [
        "#### In the Dataset all values are not in the same range. \n",
        "#### It requires a lot of time for calculation. \n",
        "#### To overcome this problem, we perform feature scaling.\n",
        "\n",
        "#### Feature scaling help us to normalize the data within a particular range.\n",
        "\n",
        "# Feature Scaling\n",
        "\n",
        "from sklearn.preprocessing import StandardScaler\n",
        "sc_X = StandardScaler()\n",
        "X_Train = sc_X.fit_transform(X_Train)\n",
        "X_Test = sc_X.transform(X_Test)"
      ],
      "execution_count": 42,
      "outputs": []
    },
    {
      "cell_type": "code",
      "metadata": {
        "id": "uO1m_XRFoti2"
      },
      "source": [
        "x= X_Train[10:]"
      ],
      "execution_count": 43,
      "outputs": []
    },
    {
      "cell_type": "code",
      "metadata": {
        "id": "LYy5X2YHoti3",
        "colab": {
          "base_uri": "https://localhost:8080/"
        },
        "outputId": "3cbfd62e-3e28-4c09-9272-024f20c23068"
      },
      "source": [
        "x"
      ],
      "execution_count": 44,
      "outputs": [
        {
          "output_type": "execute_result",
          "data": {
            "text/plain": [
              "array([[-0.47256771,  0.47889725,  0.24668223, ...,  0.69874601,\n",
              "        -0.60030698, -1.32410221],\n",
              "       [ 0.06316196, -0.60847074,  0.96624909, ..., -0.5075468 ,\n",
              "         0.24211285,  0.81003844],\n",
              "       [ 1.67035098, -0.00239678, -0.01236184, ..., -1.48480823,\n",
              "         0.91536289, -0.87480945],\n",
              "       ...,\n",
              "       [-0.20470287, -0.37673658, -0.18505789, ...,  0.37481715,\n",
              "        -1.13182017,  0.30458407],\n",
              "       [ 1.40248614, -0.25195664, -0.01236184, ...,  1.08381074,\n",
              "         1.24112903,  0.97852322],\n",
              "       [-0.20470287,  0.51454866,  1.59946793, ...,  0.69327116,\n",
              "        -1.02666057,  0.81003844]])"
            ]
          },
          "metadata": {},
          "execution_count": 44
        }
      ]
    },
    {
      "cell_type": "code",
      "metadata": {
        "id": "FZJ9mUP-oti3",
        "colab": {
          "base_uri": "https://localhost:8080/"
        },
        "outputId": "41234936-9ce8-492f-b735-bac6bd474596"
      },
      "source": [
        "#### Step 5 Fit SVM to the Training set Using Linear\n",
        "#### This SVC class allows us to build a kernel SVM model (linear as well as non-linear),\n",
        "\n",
        "from sklearn.svm import SVC\n",
        "classifier = SVC(kernel = 'linear', random_state = 0)\n",
        "classifier.fit(X_Train, Y_Train)"
      ],
      "execution_count": 45,
      "outputs": [
        {
          "output_type": "execute_result",
          "data": {
            "text/plain": [
              "SVC(kernel='linear', random_state=0)"
            ]
          },
          "metadata": {},
          "execution_count": 45
        }
      ]
    },
    {
      "cell_type": "code",
      "metadata": {
        "id": "Qe8QTSNioti4",
        "colab": {
          "base_uri": "https://localhost:8080/"
        },
        "outputId": "b19933e7-2d51-49c0-c631-875649396196"
      },
      "source": [
        "acc_Train_SVC = round(classifier.score(X_Train, Y_Train)  * 100, 2)\n",
        "acc_Train_SVC"
      ],
      "execution_count": 46,
      "outputs": [
        {
          "output_type": "execute_result",
          "data": {
            "text/plain": [
              "52.11"
            ]
          },
          "metadata": {},
          "execution_count": 46
        }
      ]
    },
    {
      "cell_type": "code",
      "metadata": {
        "id": "URgnOkJeoti5"
      },
      "source": [
        "#### Predicting the test set results\n",
        "#### The classifier.fit(X_train, y_train) fit the SVM algorithm to the training set- X_train and y_train.\n",
        "#### Predict the Test Results\n",
        "\n",
        "Y_Pred = classifier.predict(X_Test)"
      ],
      "execution_count": 47,
      "outputs": []
    },
    {
      "cell_type": "code",
      "metadata": {
        "id": "WUEvD4snoti5",
        "colab": {
          "base_uri": "https://localhost:8080/"
        },
        "outputId": "148c2563-313e-4fdd-ce1b-019c416e9eb0"
      },
      "source": [
        "###### Step 7: Make the Confusion Matrix\n",
        "\n",
        "from sklearn.metrics import confusion_matrix,accuracy_score\n",
        "cm = confusion_matrix(Y_Test, Y_Pred)\n",
        "print(cm)\n",
        "acc_Test_SVC= accuracy_score(Y_Test,Y_Pred)\n",
        "acc_Test_SVC"
      ],
      "execution_count": 48,
      "outputs": [
        {
          "output_type": "stream",
          "name": "stdout",
          "text": [
            "[[856 691]\n",
            " [817 639]]\n"
          ]
        },
        {
          "output_type": "execute_result",
          "data": {
            "text/plain": [
              "0.49783549783549785"
            ]
          },
          "metadata": {},
          "execution_count": 48
        }
      ]
    },
    {
      "cell_type": "code",
      "metadata": {
        "id": "t65SIT6Joti6"
      },
      "source": [
        "\n",
        "\n",
        "#### This example is for the RBF Kernel"
      ],
      "execution_count": 49,
      "outputs": []
    },
    {
      "cell_type": "code",
      "metadata": {
        "id": "ZuPzvDbsoti7",
        "colab": {
          "base_uri": "https://localhost:8080/"
        },
        "outputId": "9d3e9fd5-2d94-46da-92b2-a4476f4cf34d"
      },
      "source": [
        "#### Step 5 Fit SVM to the Training set Using RBF\n",
        "#### This SVC class allows us to build a kernel SVM model (linear as well as non-linear),\n",
        "\n",
        "from sklearn.svm import SVC\n",
        "classifier = SVC(kernel = 'rbf', random_state = 0)\n",
        "classifier.fit(X_Train, Y_Train)"
      ],
      "execution_count": 50,
      "outputs": [
        {
          "output_type": "execute_result",
          "data": {
            "text/plain": [
              "SVC(random_state=0)"
            ]
          },
          "metadata": {},
          "execution_count": 50
        }
      ]
    },
    {
      "cell_type": "code",
      "metadata": {
        "id": "7x2s0yPCoti7",
        "colab": {
          "base_uri": "https://localhost:8080/"
        },
        "outputId": "8fc51c16-9e4a-4022-96b8-5d393063da45"
      },
      "source": [
        "acc_Train_RBF = round(classifier.score(X_Train, Y_Train)  * 100, 2)\n",
        "acc_Train_RBF"
      ],
      "execution_count": 51,
      "outputs": [
        {
          "output_type": "execute_result",
          "data": {
            "text/plain": [
              "61.29"
            ]
          },
          "metadata": {},
          "execution_count": 51
        }
      ]
    },
    {
      "cell_type": "code",
      "metadata": {
        "id": "f7hf74duoti8"
      },
      "source": [
        "#### Predicting the test set results\n",
        "#### The classifier.fit(X_train, y_train) fit the SVM algorithm to the training set- X_train and y_train.\n",
        "#### Predict the Test Results\n",
        "\n",
        "Y_Pred = classifier.predict(X_Test)"
      ],
      "execution_count": 52,
      "outputs": []
    },
    {
      "cell_type": "code",
      "metadata": {
        "id": "Tuj7IVimoti8"
      },
      "source": [
        "y = Y_Pred"
      ],
      "execution_count": 53,
      "outputs": []
    },
    {
      "cell_type": "code",
      "metadata": {
        "id": "5su7XCZVoti8",
        "colab": {
          "base_uri": "https://localhost:8080/"
        },
        "outputId": "84e93572-f7ff-4ffb-c63f-7b2dc605176d"
      },
      "source": [
        "###### Step 7: Make the Confusion Matrix\n",
        "\n",
        "from sklearn.metrics import confusion_matrix,accuracy_score\n",
        "cm = confusion_matrix(Y_Test, Y_Pred)\n",
        "print(cm)\n",
        "acc_Test_RBF= accuracy_score(Y_Test,Y_Pred)\n",
        "acc_Test_RBF"
      ],
      "execution_count": 54,
      "outputs": [
        {
          "output_type": "stream",
          "name": "stdout",
          "text": [
            "[[782 765]\n",
            " [696 760]]\n"
          ]
        },
        {
          "output_type": "execute_result",
          "data": {
            "text/plain": [
              "0.5134865134865135"
            ]
          },
          "metadata": {},
          "execution_count": 54
        }
      ]
    },
    {
      "cell_type": "code",
      "metadata": {
        "id": "vgEYkm1Loti9"
      },
      "source": [
        ""
      ],
      "execution_count": 54,
      "outputs": []
    },
    {
      "cell_type": "code",
      "metadata": {
        "id": "evWWUn7Boti9"
      },
      "source": [
        "##### KNN Model to be Explained"
      ],
      "execution_count": 55,
      "outputs": []
    },
    {
      "cell_type": "code",
      "metadata": {
        "id": "K-k0snGhoti9",
        "colab": {
          "base_uri": "https://localhost:8080/"
        },
        "outputId": "4dccd7c4-4bd3-4a54-d251-167c870c9ba4"
      },
      "source": [
        "#Fitting K-NN classifier to the training set  \n",
        "from sklearn.neighbors import KNeighborsClassifier  \n",
        "classifier= KNeighborsClassifier(n_neighbors=5, metric='minkowski', p=3)  \n",
        "classifier.fit(X_Train, Y_Train) "
      ],
      "execution_count": 56,
      "outputs": [
        {
          "output_type": "execute_result",
          "data": {
            "text/plain": [
              "KNeighborsClassifier(p=3)"
            ]
          },
          "metadata": {},
          "execution_count": 56
        }
      ]
    },
    {
      "cell_type": "code",
      "metadata": {
        "id": "FSpH2ftaoti-",
        "colab": {
          "base_uri": "https://localhost:8080/"
        },
        "outputId": "c19dc42b-30ee-4f17-c67d-9367802d475f"
      },
      "source": [
        "Acc_Train_Knn = round(classifier.score(X_Train, Y_Train)  * 100, 2)\n",
        "Acc_Train_Knn"
      ],
      "execution_count": 57,
      "outputs": [
        {
          "output_type": "execute_result",
          "data": {
            "text/plain": [
              "69.7"
            ]
          },
          "metadata": {},
          "execution_count": 57
        }
      ]
    },
    {
      "cell_type": "code",
      "metadata": {
        "id": "RH7GQWcuoti-"
      },
      "source": [
        "#Predicting the test set result  \n",
        "ACC_Test_knn = classifier.predict(X_Test)  "
      ],
      "execution_count": 58,
      "outputs": []
    },
    {
      "cell_type": "code",
      "metadata": {
        "id": "wAWXoMbmoti_",
        "colab": {
          "base_uri": "https://localhost:8080/"
        },
        "outputId": "70de1717-8cc9-4c91-f483-256c1d734e01"
      },
      "source": [
        "ACC_Test_knn"
      ],
      "execution_count": 59,
      "outputs": [
        {
          "output_type": "execute_result",
          "data": {
            "text/plain": [
              "array([1, 1, 0, ..., 1, 1, 0])"
            ]
          },
          "metadata": {},
          "execution_count": 59
        }
      ]
    },
    {
      "cell_type": "code",
      "metadata": {
        "id": "92tNdPMToti_"
      },
      "source": [
        "##### Creating the Confusion Matrix for KNN "
      ],
      "execution_count": 60,
      "outputs": []
    },
    {
      "cell_type": "code",
      "metadata": {
        "id": "fAvMsgMQoti_",
        "colab": {
          "base_uri": "https://localhost:8080/"
        },
        "outputId": "bdd6f91b-d0af-4838-8e4d-995641e59198"
      },
      "source": [
        "from sklearn.metrics import confusion_matrix,accuracy_score\n",
        "cm = confusion_matrix(Y_Test, Y_Pred)\n",
        "print(cm)\n",
        "\n",
        "acc_Test_knn= accuracy_score(Y_Test,Y_Pred)\n",
        "acc_Test_knn\n",
        "\n"
      ],
      "execution_count": 61,
      "outputs": [
        {
          "output_type": "stream",
          "name": "stdout",
          "text": [
            "[[782 765]\n",
            " [696 760]]\n"
          ]
        },
        {
          "output_type": "execute_result",
          "data": {
            "text/plain": [
              "0.5134865134865135"
            ]
          },
          "metadata": {},
          "execution_count": 61
        }
      ]
    },
    {
      "cell_type": "code",
      "metadata": {
        "id": "vLlV1sNJotjA"
      },
      "source": [
        "#### Naive Bayes "
      ],
      "execution_count": 62,
      "outputs": []
    },
    {
      "cell_type": "code",
      "metadata": {
        "id": "YpjnihYEotjA",
        "colab": {
          "base_uri": "https://localhost:8080/"
        },
        "outputId": "316c1fdf-473e-4527-dbdf-193ba90cf2d9"
      },
      "source": [
        "# Fitting Naive Bayes to the Training set  \n",
        "from sklearn.naive_bayes import GaussianNB  \n",
        "classifier = GaussianNB()  \n",
        "classifier.fit(X_Train, Y_Train)  "
      ],
      "execution_count": 63,
      "outputs": [
        {
          "output_type": "execute_result",
          "data": {
            "text/plain": [
              "GaussianNB()"
            ]
          },
          "metadata": {},
          "execution_count": 63
        }
      ]
    },
    {
      "cell_type": "code",
      "metadata": {
        "id": "qfd2fXrzotjB",
        "colab": {
          "base_uri": "https://localhost:8080/"
        },
        "outputId": "ac741af3-acab-4f9b-b881-3914ed69e7fc"
      },
      "source": [
        "Acc_Train_Naive = round(classifier.score(X_Train, Y_Train)  * 100, 2)\n",
        "Acc_Train_Naive"
      ],
      "execution_count": 64,
      "outputs": [
        {
          "output_type": "execute_result",
          "data": {
            "text/plain": [
              "51.73"
            ]
          },
          "metadata": {},
          "execution_count": 64
        }
      ]
    },
    {
      "cell_type": "code",
      "metadata": {
        "id": "PxnFrx7XotjC"
      },
      "source": [
        "# Predicting the Test set results  \n",
        "Y_pred = classifier.predict(X_Test)  "
      ],
      "execution_count": 65,
      "outputs": []
    },
    {
      "cell_type": "code",
      "metadata": {
        "id": "95oh5pS8otjC",
        "colab": {
          "base_uri": "https://localhost:8080/"
        },
        "outputId": "f5af90ed-03dd-4c2d-ffb7-61ac7d70ba31"
      },
      "source": [
        "from sklearn.metrics import confusion_matrix,accuracy_score\n",
        "cm = confusion_matrix(Y_Test, Y_Pred)\n",
        "print(cm)\n",
        "\n",
        "acc_Test_Naive= accuracy_score(Y_Test,Y_Pred)\n",
        "acc_Test_Naive\n"
      ],
      "execution_count": 66,
      "outputs": [
        {
          "output_type": "stream",
          "name": "stdout",
          "text": [
            "[[782 765]\n",
            " [696 760]]\n"
          ]
        },
        {
          "output_type": "execute_result",
          "data": {
            "text/plain": [
              "0.5134865134865135"
            ]
          },
          "metadata": {},
          "execution_count": 66
        }
      ]
    },
    {
      "cell_type": "code",
      "metadata": {
        "id": "Zc4IG01RotjC"
      },
      "source": [
        ""
      ],
      "execution_count": 66,
      "outputs": []
    },
    {
      "cell_type": "code",
      "metadata": {
        "id": "g01sX2SHotjD"
      },
      "source": [
        "##### Decision Tree Algorithm"
      ],
      "execution_count": 67,
      "outputs": []
    },
    {
      "cell_type": "code",
      "metadata": {
        "id": "nER3S8QHotjD",
        "colab": {
          "base_uri": "https://localhost:8080/"
        },
        "outputId": "77cf0cc6-06f3-473d-fb19-07b7a85e9489"
      },
      "source": [
        "####Fitting Decision Tree classifier to the training set  \n",
        "\n",
        "from sklearn.tree import DecisionTreeClassifier  \n",
        "classifier= DecisionTreeClassifier(criterion='entropy', random_state=0)  \n",
        "classifier.fit(X_Train, Y_Train) "
      ],
      "execution_count": 68,
      "outputs": [
        {
          "output_type": "execute_result",
          "data": {
            "text/plain": [
              "DecisionTreeClassifier(criterion='entropy', random_state=0)"
            ]
          },
          "metadata": {},
          "execution_count": 68
        }
      ]
    },
    {
      "cell_type": "code",
      "metadata": {
        "id": "i9XjKm7MotjD",
        "colab": {
          "base_uri": "https://localhost:8080/"
        },
        "outputId": "feb8265e-68dc-41f0-807a-7c9792cdbf35"
      },
      "source": [
        "Acc_Train_Decision = round(classifier.score(X_Train, Y_Train)  * 100, 2)\n",
        "Acc_Train_Decision"
      ],
      "execution_count": 69,
      "outputs": [
        {
          "output_type": "execute_result",
          "data": {
            "text/plain": [
              "100.0"
            ]
          },
          "metadata": {},
          "execution_count": 69
        }
      ]
    },
    {
      "cell_type": "code",
      "metadata": {
        "id": "wA1qfi7GotjE"
      },
      "source": [
        "#Predicting the test set result  \n",
        "Y_Pred= classifier.predict(X_Test)  "
      ],
      "execution_count": 70,
      "outputs": []
    },
    {
      "cell_type": "code",
      "metadata": {
        "id": "xLcWSo9cotjE",
        "colab": {
          "base_uri": "https://localhost:8080/"
        },
        "outputId": "a67e931d-5b47-4ba2-e0f5-77ac00d216e7"
      },
      "source": [
        "###### Step 7: Make the Confusion Matrix\n",
        "\n",
        "from sklearn.metrics import confusion_matrix,accuracy_score\n",
        "Decision_Tree_cm = confusion_matrix(Y_Test, Y_Pred)\n",
        "print(cm)\n",
        "\n",
        "acc_Test_Decision= accuracy_score(Y_Test,Y_Pred)\n",
        "acc_Test_Decision"
      ],
      "execution_count": 71,
      "outputs": [
        {
          "output_type": "stream",
          "name": "stdout",
          "text": [
            "[[782 765]\n",
            " [696 760]]\n"
          ]
        },
        {
          "output_type": "execute_result",
          "data": {
            "text/plain": [
              "0.5138195138195139"
            ]
          },
          "metadata": {},
          "execution_count": 71
        }
      ]
    },
    {
      "cell_type": "code",
      "metadata": {
        "id": "cPfceshNotjF"
      },
      "source": [
        "###### Random Forest Model"
      ],
      "execution_count": 72,
      "outputs": []
    },
    {
      "cell_type": "code",
      "metadata": {
        "id": "R_c7v7z9otjF",
        "colab": {
          "base_uri": "https://localhost:8080/"
        },
        "outputId": "b1e0df5d-46d1-45b3-cf66-96146626c0bb"
      },
      "source": [
        "#Fitting Random Forest classifier to the training set  \n",
        "from sklearn.ensemble import RandomForestClassifier  \n",
        "classifier= RandomForestClassifier(n_estimators= 10, criterion=\"entropy\")  \n",
        "classifier.fit(X_Train, Y_Train)  "
      ],
      "execution_count": 73,
      "outputs": [
        {
          "output_type": "execute_result",
          "data": {
            "text/plain": [
              "RandomForestClassifier(criterion='entropy', n_estimators=10)"
            ]
          },
          "metadata": {},
          "execution_count": 73
        }
      ]
    },
    {
      "cell_type": "code",
      "metadata": {
        "id": "nywrooXPotjG"
      },
      "source": [
        "#Predicting the test set result  \n",
        "Y_Pred= classifier.predict(X_Test)  "
      ],
      "execution_count": 74,
      "outputs": []
    },
    {
      "cell_type": "code",
      "metadata": {
        "id": "Ctqls3gjotjG",
        "colab": {
          "base_uri": "https://localhost:8080/"
        },
        "outputId": "a252f254-e38b-42e5-b514-e34e657cac18"
      },
      "source": [
        "Acc_Train_Random = round(classifier.score(X_Train, Y_Train)  * 100, 2)\n",
        "Acc_Train_Random"
      ],
      "execution_count": 75,
      "outputs": [
        {
          "output_type": "execute_result",
          "data": {
            "text/plain": [
              "98.04"
            ]
          },
          "metadata": {},
          "execution_count": 75
        }
      ]
    },
    {
      "cell_type": "code",
      "metadata": {
        "id": "iLdbO0_yotjG",
        "colab": {
          "base_uri": "https://localhost:8080/"
        },
        "outputId": "5aba339d-ff20-463e-8f45-d6431009893e"
      },
      "source": [
        "###### Step 7: Make the Confusion Matrix\n",
        "\n",
        "from sklearn.metrics import confusion_matrix,accuracy_score\n",
        "\n",
        "\n",
        "Random_Tree_cm = confusion_matrix(Y_Test, Y_Pred)\n",
        "print(cm)\n",
        "acc_Test_Random= accuracy_score(Y_Test,Y_Pred)\n",
        "acc_Test_Random"
      ],
      "execution_count": 76,
      "outputs": [
        {
          "output_type": "stream",
          "name": "stdout",
          "text": [
            "[[782 765]\n",
            " [696 760]]\n"
          ]
        },
        {
          "output_type": "execute_result",
          "data": {
            "text/plain": [
              "0.5141525141525142"
            ]
          },
          "metadata": {},
          "execution_count": 76
        }
      ]
    },
    {
      "cell_type": "code",
      "metadata": {
        "id": "4xLri09JotjH"
      },
      "source": [
        "######### Model Evaluation"
      ],
      "execution_count": 77,
      "outputs": []
    },
    {
      "cell_type": "code",
      "metadata": {
        "id": "s8nrDBpKotjH"
      },
      "source": [
        "models = pd.DataFrame({\n",
        "    'Model': ['Support Vector Machines', 'Ploynomial SVC', 'k-Nearest Neighbors', 'Naive Bayes', \n",
        "              'Decision Tree Classifier', 'Random Forest'],\n",
        "    \n",
        "    'Score_train': [acc_Train_SVC, acc_Train_RBF,Acc_Train_Knn, Acc_Train_Naive,\n",
        "              Acc_Train_Decision, Acc_Train_Random],\n",
        "    'Score_test': [acc_Test_SVC, acc_Test_RBF,acc_Test_knn, acc_Test_Naive,\n",
        "              acc_Test_Decision, acc_Test_Random]\n",
        "                    })"
      ],
      "execution_count": 78,
      "outputs": []
    },
    {
      "cell_type": "code",
      "metadata": {
        "id": "TtMHdGIVotjI",
        "colab": {
          "base_uri": "https://localhost:8080/",
          "height": 238
        },
        "outputId": "097abf8d-011d-4749-a824-ca5887dea2ed"
      },
      "source": [
        "models.sort_values(by=['Score_train', 'Score_test'], ascending=False)"
      ],
      "execution_count": 79,
      "outputs": [
        {
          "output_type": "execute_result",
          "data": {
            "text/html": [
              "<div>\n",
              "<style scoped>\n",
              "    .dataframe tbody tr th:only-of-type {\n",
              "        vertical-align: middle;\n",
              "    }\n",
              "\n",
              "    .dataframe tbody tr th {\n",
              "        vertical-align: top;\n",
              "    }\n",
              "\n",
              "    .dataframe thead th {\n",
              "        text-align: right;\n",
              "    }\n",
              "</style>\n",
              "<table border=\"1\" class=\"dataframe\">\n",
              "  <thead>\n",
              "    <tr style=\"text-align: right;\">\n",
              "      <th></th>\n",
              "      <th>Model</th>\n",
              "      <th>Score_train</th>\n",
              "      <th>Score_test</th>\n",
              "    </tr>\n",
              "  </thead>\n",
              "  <tbody>\n",
              "    <tr>\n",
              "      <th>4</th>\n",
              "      <td>Decision Tree Classifier</td>\n",
              "      <td>100.00</td>\n",
              "      <td>0.513820</td>\n",
              "    </tr>\n",
              "    <tr>\n",
              "      <th>5</th>\n",
              "      <td>Random Forest</td>\n",
              "      <td>98.04</td>\n",
              "      <td>0.514153</td>\n",
              "    </tr>\n",
              "    <tr>\n",
              "      <th>2</th>\n",
              "      <td>k-Nearest Neighbors</td>\n",
              "      <td>69.70</td>\n",
              "      <td>0.513487</td>\n",
              "    </tr>\n",
              "    <tr>\n",
              "      <th>1</th>\n",
              "      <td>Ploynomial SVC</td>\n",
              "      <td>61.29</td>\n",
              "      <td>0.513487</td>\n",
              "    </tr>\n",
              "    <tr>\n",
              "      <th>0</th>\n",
              "      <td>Support Vector Machines</td>\n",
              "      <td>52.11</td>\n",
              "      <td>0.497835</td>\n",
              "    </tr>\n",
              "    <tr>\n",
              "      <th>3</th>\n",
              "      <td>Naive Bayes</td>\n",
              "      <td>51.73</td>\n",
              "      <td>0.513487</td>\n",
              "    </tr>\n",
              "  </tbody>\n",
              "</table>\n",
              "</div>"
            ],
            "text/plain": [
              "                      Model  Score_train  Score_test\n",
              "4  Decision Tree Classifier       100.00    0.513820\n",
              "5             Random Forest        98.04    0.514153\n",
              "2       k-Nearest Neighbors        69.70    0.513487\n",
              "1            Ploynomial SVC        61.29    0.513487\n",
              "0   Support Vector Machines        52.11    0.497835\n",
              "3               Naive Bayes        51.73    0.513487"
            ]
          },
          "metadata": {},
          "execution_count": 79
        }
      ]
    },
    {
      "cell_type": "code",
      "metadata": {
        "id": "J8myMbKUotjI",
        "colab": {
          "base_uri": "https://localhost:8080/",
          "height": 238
        },
        "outputId": "706d0527-ec22-428e-8a8c-b5a02c834499"
      },
      "source": [
        "models.sort_values(by=['Score_test', 'Score_train'], ascending=False)"
      ],
      "execution_count": 80,
      "outputs": [
        {
          "output_type": "execute_result",
          "data": {
            "text/html": [
              "<div>\n",
              "<style scoped>\n",
              "    .dataframe tbody tr th:only-of-type {\n",
              "        vertical-align: middle;\n",
              "    }\n",
              "\n",
              "    .dataframe tbody tr th {\n",
              "        vertical-align: top;\n",
              "    }\n",
              "\n",
              "    .dataframe thead th {\n",
              "        text-align: right;\n",
              "    }\n",
              "</style>\n",
              "<table border=\"1\" class=\"dataframe\">\n",
              "  <thead>\n",
              "    <tr style=\"text-align: right;\">\n",
              "      <th></th>\n",
              "      <th>Model</th>\n",
              "      <th>Score_train</th>\n",
              "      <th>Score_test</th>\n",
              "    </tr>\n",
              "  </thead>\n",
              "  <tbody>\n",
              "    <tr>\n",
              "      <th>5</th>\n",
              "      <td>Random Forest</td>\n",
              "      <td>98.04</td>\n",
              "      <td>0.514153</td>\n",
              "    </tr>\n",
              "    <tr>\n",
              "      <th>4</th>\n",
              "      <td>Decision Tree Classifier</td>\n",
              "      <td>100.00</td>\n",
              "      <td>0.513820</td>\n",
              "    </tr>\n",
              "    <tr>\n",
              "      <th>2</th>\n",
              "      <td>k-Nearest Neighbors</td>\n",
              "      <td>69.70</td>\n",
              "      <td>0.513487</td>\n",
              "    </tr>\n",
              "    <tr>\n",
              "      <th>1</th>\n",
              "      <td>Ploynomial SVC</td>\n",
              "      <td>61.29</td>\n",
              "      <td>0.513487</td>\n",
              "    </tr>\n",
              "    <tr>\n",
              "      <th>3</th>\n",
              "      <td>Naive Bayes</td>\n",
              "      <td>51.73</td>\n",
              "      <td>0.513487</td>\n",
              "    </tr>\n",
              "    <tr>\n",
              "      <th>0</th>\n",
              "      <td>Support Vector Machines</td>\n",
              "      <td>52.11</td>\n",
              "      <td>0.497835</td>\n",
              "    </tr>\n",
              "  </tbody>\n",
              "</table>\n",
              "</div>"
            ],
            "text/plain": [
              "                      Model  Score_train  Score_test\n",
              "5             Random Forest        98.04    0.514153\n",
              "4  Decision Tree Classifier       100.00    0.513820\n",
              "2       k-Nearest Neighbors        69.70    0.513487\n",
              "1            Ploynomial SVC        61.29    0.513487\n",
              "3               Naive Bayes        51.73    0.513487\n",
              "0   Support Vector Machines        52.11    0.497835"
            ]
          },
          "metadata": {},
          "execution_count": 80
        }
      ]
    },
    {
      "cell_type": "code",
      "metadata": {
        "id": "8M0boiY8otjJ"
      },
      "source": [
        "#Confusion Matrix for All Models"
      ],
      "execution_count": 81,
      "outputs": []
    },
    {
      "cell_type": "code",
      "metadata": {
        "id": "I1HbFUCNotjJ",
        "colab": {
          "base_uri": "https://localhost:8080/"
        },
        "outputId": "cf587dd0-c942-4155-8d0c-203d4a614181"
      },
      "source": [
        "from sklearn.metrics import confusion_matrix,accuracy_score\n",
        "SVC_cm = confusion_matrix(Y_Test, Y_Pred)\n",
        "print('\\n Scalar Vector Linear Confusion Matrix: \\n' , SVC_cm)\n",
        "acc_Test_SVC= accuracy_score(Y_Test,Y_Pred)\n",
        "print('\\n Scalar Vector Linear Accuracy: \\n' , acc_Test_SVC)\n",
        "\n",
        "\n",
        "SVC_RBF_cm = confusion_matrix(Y_Test, Y_Pred)\n",
        "print('\\n Scalar Vector RBF Confusion Matrix: \\n' , SVC_RBF_cm)\n",
        "acc_Test_RBF= accuracy_score(Y_Test,Y_Pred)\n",
        "print('\\n Scalar Vector RBF Accuracy: \\n' , acc_Test_RBF)\n",
        "\n",
        "\n",
        "KNN_cm = confusion_matrix(Y_Test, Y_Pred)\n",
        "print('\\n K Nearest Neighbour Confusion Matrix: \\n' , KNN_cm)\n",
        "\n",
        "acc_Test_knn= accuracy_score(Y_Test,Y_Pred)\n",
        "print('\\n K Nearest Neighbour Accuracy: \\n' , acc_Test_knn)\n",
        "\n",
        "\n",
        "\n",
        "Naive_cm = confusion_matrix(Y_Test, Y_Pred)\n",
        "print('\\n Naive Bayes Confusion Matrix: \\n' , Naive_cm)\n",
        "\n",
        "acc_Test_Naive= accuracy_score(Y_Test,Y_Pred)\n",
        "print('\\n Naive Bayes Accuracy: \\n' , acc_Test_Naive)\n",
        "\n",
        "\n",
        "\n",
        "Decision_Tree_cm = confusion_matrix(Y_Test, Y_Pred)\n",
        "print('\\n Decision Tree Confusion Matrix: \\n' , cm)\n",
        "\n",
        "acc_Test_Decision= accuracy_score(Y_Test,Y_Pred)\n",
        "print('\\n Decision Tree Accuracy: ' , acc_Test_Decision )\n",
        "\n",
        "\n",
        "Random_Tree_cm = confusion_matrix(Y_Test, Y_Pred)\n",
        "print('\\n Random Forest Tree Confusion Matrix: \\n' , cm)\n",
        "acc_Test_Random= accuracy_score(Y_Test,Y_Pred)\n",
        "print('\\n Random Forest Tree Confusion Matrix: ' , acc_Test_Random)\n"
      ],
      "execution_count": 82,
      "outputs": [
        {
          "output_type": "stream",
          "name": "stdout",
          "text": [
            "\n",
            " Scalar Vector Linear Confusion Matrix: \n",
            " [[986 561]\n",
            " [898 558]]\n",
            "\n",
            " Scalar Vector Linear Accuracy: \n",
            " 0.5141525141525142\n",
            "\n",
            " Scalar Vector RBF Confusion Matrix: \n",
            " [[986 561]\n",
            " [898 558]]\n",
            "\n",
            " Scalar Vector RBF Accuracy: \n",
            " 0.5141525141525142\n",
            "\n",
            " K Nearest Neighbour Confusion Matrix: \n",
            " [[986 561]\n",
            " [898 558]]\n",
            "\n",
            " K Nearest Neighbour Accuracy: \n",
            " 0.5141525141525142\n",
            "\n",
            " Naive Bayes Confusion Matrix: \n",
            " [[986 561]\n",
            " [898 558]]\n",
            "\n",
            " Naive Bayes Accuracy: \n",
            " 0.5141525141525142\n",
            "\n",
            " Decision Tree Confusion Matrix: \n",
            " [[782 765]\n",
            " [696 760]]\n",
            "\n",
            " Decision Tree Accuracy:  0.5141525141525142\n",
            "\n",
            " Random Forest Tree Confusion Matrix: \n",
            " [[782 765]\n",
            " [696 760]]\n",
            "\n",
            " Random Forest Tree Confusion Matrix:  0.5141525141525142\n"
          ]
        }
      ]
    },
    {
      "cell_type": "code",
      "metadata": {
        "id": "DxA4MbskotjK"
      },
      "source": [
        ""
      ],
      "execution_count": 82,
      "outputs": []
    },
    {
      "cell_type": "code",
      "metadata": {
        "id": "UpLSr1NSotjK"
      },
      "source": [
        ""
      ],
      "execution_count": 82,
      "outputs": []
    },
    {
      "cell_type": "code",
      "metadata": {
        "id": "GTbQy0b0otjL"
      },
      "source": [
        "#Different Approach"
      ],
      "execution_count": 83,
      "outputs": []
    },
    {
      "cell_type": "code",
      "metadata": {
        "id": "0zxnZRtQotjL"
      },
      "source": [
        ""
      ],
      "execution_count": 83,
      "outputs": []
    },
    {
      "cell_type": "code",
      "metadata": {
        "id": "phq-4a07otjL",
        "colab": {
          "base_uri": "https://localhost:8080/",
          "height": 342
        },
        "outputId": "4c7aa5c3-7c35-407f-b988-60653ec2e4c5"
      },
      "source": [
        "#Decision Tree Model\n",
        "DecisionTreeModel = DecisionTreeClassifier(criterion='gini',max_depth=5,random_state=33) #criterion can be entropy\n",
        "DecisionTreeModel.fit(X_Train, Y_Train)\n",
        "DecisionTreeModel_Y_Pred = DecisionTreeModel.predict(X_Test)\n",
        "\n",
        "\n",
        "#Score\n",
        "DecisionTreeModel_TrainScore =  round(DecisionTreeModel.score(X_Train, Y_Train) * 100, 2)\n",
        "DecisionTreeModel_TestScore = round(DecisionTreeModel.score(X_Test, Y_Test) * 100, 2)\n",
        "\n",
        "print('Decision Tree Train Score: ' , DecisionTreeModel_TrainScore)\n",
        "print('Decision Tree Test Score: ' , DecisionTreeModel_TestScore)\n",
        "\n",
        "\n",
        "#Confusion Matrix\n",
        "DecisionTreeModel_CM = confusion_matrix(Y_Test, DecisionTreeModel_Y_Pred)\n",
        "DecisionTreeModel_ConfusionMatrix = pd.DataFrame(DecisionTreeModel_CM, index=classes_names, columns=classes_names)\n",
        "\n",
        "sns.heatmap(DecisionTreeModel_ConfusionMatrix, annot=True, cbar=None, cmap=\"Blues\", fmt = 'g')\n",
        "sns.set(font_scale=1.1)\n",
        "plt.title(\"Decision Tree Confusion Matrix\"), plt.tight_layout()\n",
        "plt.ylabel(\"True Class\"), plt.xlabel(\"Predicted Class\")\n",
        "plt.show()"
      ],
      "execution_count": 84,
      "outputs": [
        {
          "output_type": "stream",
          "name": "stdout",
          "text": [
            "Decision Tree Train Score:  55.25\n",
            "Decision Tree Test Score:  50.28\n"
          ]
        },
        {
          "output_type": "display_data",
          "data": {
            "image/png": "[encoded data removed]",
            "text/plain": [
              "<Figure size 432x288 with 1 Axes>"
            ]
          },
          "metadata": {
            "needs_background": "light"
          }
        }
      ]
    },
    {
      "cell_type": "code",
      "metadata": {
        "id": "AJJElpRgotjN",
        "colab": {
          "base_uri": "https://localhost:8080/",
          "height": 338
        },
        "outputId": "fad0cfd5-7b71-44d4-9d67-893532584d3f"
      },
      "source": [
        "#Random Forest Model\n",
        "RandomForestModel = RandomForestClassifier(criterion = 'gini',n_estimators=200,max_depth=5,random_state=33, n_jobs=-1)\n",
        "RandomForestModel.fit(X_Train, Y_Train)\n",
        "RandomForestModel_Y_Pred = RandomForestModel.predict(X_Test)\n",
        "\n",
        "\n",
        "#Score\n",
        "RandomForestModel_TrainScore =  round(RandomForestModel.score(X_Train, Y_Train) * 100, 2)\n",
        "RandomForestModel_TestScore = round(RandomForestModel.score(X_Test, Y_Test) * 100, 2)\n",
        "\n",
        "print('RandomForestModel Train Score: ' , RandomForestModel_TrainScore)\n",
        "print('RandomForestModel Test Score: ' , RandomForestModel_TestScore)\n",
        "\n",
        "\n",
        "#Confusion Matrix\n",
        "RandomForestModel_CM = confusion_matrix(Y_Test, RandomForestModel_Y_Pred)\n",
        "RandomForestModel_ConfusionMatrix = pd.DataFrame(RandomForestModel_CM, index=classes_names, columns=classes_names)\n",
        "\n",
        "sns.heatmap(RandomForestModel_ConfusionMatrix, annot=True, cbar=None, cmap=\"Greens\", fmt = 'g')\n",
        "sns.set(font_scale=1.1)\n",
        "plt.title(\"Random Forest Confusion Matrix\")\n",
        "plt.ylabel(\"True Class\"), plt.xlabel(\"Predicted Class\")\n",
        "plt.show()"
      ],
      "execution_count": 85,
      "outputs": [
        {
          "output_type": "stream",
          "name": "stdout",
          "text": [
            "RandomForestModel Train Score:  62.95\n",
            "RandomForestModel Test Score:  50.18\n"
          ]
        },
        {
          "output_type": "display_data",
          "data": {
            "image/png": "[encoded data removed]",
            "text/plain": [
              "<Figure size 432x288 with 1 Axes>"
            ]
          },
          "metadata": {}
        }
      ]
    },
    {
      "cell_type": "code",
      "metadata": {
        "id": "SWMCenq5otjO",
        "colab": {
          "base_uri": "https://localhost:8080/",
          "height": 875
        },
        "outputId": "22c5b705-1ef4-45b8-f65f-b5cb7654519c"
      },
      "source": [
        "fig, ax = plt.subplots(2, 2,figsize=(20,15))\n",
        "fig.tight_layout(pad=10.0)\n",
        "sns.set(font_scale=3)\n",
        "\n",
        "sns.heatmap(DecisionTreeModel_ConfusionMatrix, ax=ax[0][1], annot=True, cbar=None, cmap=\"Blues\", fmt = 'g')\n",
        "ax[0][1].set_title(\"Decision Tree\", fontsize=12)\n",
        "ax[0][1].set_ylabel(\"True Class\"), ax[0][1].set_xlabel(\"Predicted Class\")\n",
        "\n",
        "\n",
        "sns.heatmap(RandomForestModel_ConfusionMatrix, ax=ax[1][0], annot=True, cbar=None, cmap=\"Greens\", fmt = 'g')\n",
        "ax[1][0].set_title(\"Random Forest\", fontsize=12),\n",
        "ax[1][0].set_ylabel(\"True Class\"), ax[1][0].set_xlabel(\"Predicted Class\")\n",
        "\n",
        "plt.show()"
      ],
      "execution_count": 86,
      "outputs": [
        {
          "output_type": "display_data",
          "data": {
            "image/png": "[encoded data removed]",
            "text/plain": [
              "<Figure size 1440x1080 with 4 Axes>"
            ]
          },
          "metadata": {}
        }
      ]
    },
    {
      "cell_type": "code",
      "metadata": {
        "id": "oQSSYBeGotjO",
        "colab": {
          "base_uri": "https://localhost:8080/",
          "height": 125
        },
        "outputId": "d6bb45ac-17e5-4d56-ffc8-988987edaf02"
      },
      "source": [
        "'''TP = True Positives = \n",
        "TN = True Negatives = \n",
        "FP = False Positives = \n",
        "FN = False Negatives = \n",
        "\n",
        "\n",
        "True Positive\n",
        "True positive is nothing but the case where the actual value as well as the predicted value are true. \n",
        "The patient has been diagnosed with diabetes, and the model also predicted that the patient had diabetes.\n",
        "\n",
        "\n",
        "False Negative\n",
        "In false negative, the actual value is true, but the predicted value is false,\n",
        "which means that the patient has diabetes, but the model predicted that the patient did not have diabetes.\n",
        "\n",
        "\n",
        "False Positive\n",
        "This is the case where the predicted value is true, but the actual value is false. Here, \n",
        "the model predicted that the patient had diabetes, but in reality, the patient doesn’t have diabetes. \n",
        "This is also known as Type 1 Error.\n",
        "\n",
        "True Negative\n",
        "This is the case where the actual value is false and the predicted value is also false. \n",
        "patient is not diagnosed with diabetes and our model predicted that the patient did not have diabetes.'''\n"
      ],
      "execution_count": 87,
      "outputs": [
        {
          "output_type": "execute_result",
          "data": {
            "application/vnd.google.colaboratory.intrinsic+json": {
              "type": "string"
            },
            "text/plain": [
              "'TP = True Positives = \\nTN = True Negatives = \\nFP = False Positives = \\nFN = False Negatives = \\n\\n\\nTrue Positive\\nTrue positive is nothing but the case where the actual value as well as the predicted value are true. \\nThe patient has been diagnosed with diabetes, and the model also predicted that the patient had diabetes.\\n\\n\\nFalse Negative\\nIn false negative, the actual value is true, but the predicted value is false,\\nwhich means that the patient has diabetes, but the model predicted that the patient did not have diabetes.\\n\\n\\nFalse Positive\\nThis is the case where the predicted value is true, but the actual value is false. Here, \\nthe model predicted that the patient had diabetes, but in reality, the patient doesn’t have diabetes. \\nThis is also known as Type 1 Error.\\n\\nTrue Negative\\nThis is the case where the actual value is false and the predicted value is also false. \\npatient is not diagnosed with diabetes and our model predicted that the patient did not have diabetes.'"
            ]
          },
          "metadata": {},
          "execution_count": 87
        }
      ]
    }
  ]
}