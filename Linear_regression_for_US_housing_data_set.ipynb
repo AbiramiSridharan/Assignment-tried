{
  "nbformat": 4,
  "nbformat_minor": 0,
  "metadata": {
    "colab": {
      "name": "Linear regression for US housing data set.ipynb",
      "provenance": [],
      "collapsed_sections": []
    },
    "kernelspec": {
      "name": "python3",
      "display_name": "Python 3"
    },
    "language_info": {
      "name": "python"
    }
  },
  "cells": [
    {
      "cell_type": "code",
      "metadata": {
        "colab": {
          "base_uri": "https://localhost:8080/"
        },
        "id": "FnShik_Qwz-B",
        "outputId": "1751b7c2-4066-4216-8a50-4ddef6b0e904"
      },
      "source": [
        "!pip install category_encoders"
      ],
      "execution_count": null,
      "outputs": [
        {
          "output_type": "stream",
          "text": [
            "Requirement already satisfied: category_encoders in /usr/local/lib/python3.7/dist-packages (2.2.2)\n",
            "Requirement already satisfied: scipy>=1.0.0 in /usr/local/lib/python3.7/dist-packages (from category_encoders) (1.4.1)\n",
            "Requirement already satisfied: patsy>=0.5.1 in /usr/local/lib/python3.7/dist-packages (from category_encoders) (0.5.1)\n",
            "Requirement already satisfied: scikit-learn>=0.20.0 in /usr/local/lib/python3.7/dist-packages (from category_encoders) (0.22.2.post1)\n",
            "Requirement already satisfied: statsmodels>=0.9.0 in /usr/local/lib/python3.7/dist-packages (from category_encoders) (0.10.2)\n",
            "Requirement already satisfied: numpy>=1.14.0 in /usr/local/lib/python3.7/dist-packages (from category_encoders) (1.19.5)\n",
            "Requirement already satisfied: pandas>=0.21.1 in /usr/local/lib/python3.7/dist-packages (from category_encoders) (1.1.5)\n",
            "Requirement already satisfied: six in /usr/local/lib/python3.7/dist-packages (from patsy>=0.5.1->category_encoders) (1.15.0)\n",
            "Requirement already satisfied: joblib>=0.11 in /usr/local/lib/python3.7/dist-packages (from scikit-learn>=0.20.0->category_encoders) (1.0.1)\n",
            "Requirement already satisfied: python-dateutil>=2.7.3 in /usr/local/lib/python3.7/dist-packages (from pandas>=0.21.1->category_encoders) (2.8.1)\n",
            "Requirement already satisfied: pytz>=2017.2 in /usr/local/lib/python3.7/dist-packages (from pandas>=0.21.1->category_encoders) (2018.9)\n"
          ],
          "name": "stdout"
        }
      ]
    },
    {
      "cell_type": "code",
      "metadata": {
        "id": "iWCEost01Kn8"
      },
      "source": [
        "import pandas as pd\n",
        "import matplotlib.pyplot as plt\n",
        "import numpy as np\n",
        "import seaborn as sns\n",
        "import plotly.express as px\n",
        "import category_encoders as ce\n",
        "from datetime import datetime\n",
        "\n",
        "'''!pip install -U scikit-learn --upgrade\n",
        "import scikit-learn '''\n",
        "\n",
        "\n",
        "%matplotlib inline"
      ],
      "execution_count": null,
      "outputs": []
    },
    {
      "cell_type": "code",
      "metadata": {
        "colab": {
          "base_uri": "https://localhost:8080/",
          "height": 195
        },
        "id": "2gpCXltU2ipJ",
        "outputId": "742c2b22-2fcf-454a-9a9f-13253d0b05aa"
      },
      "source": [
        "ush=pd.read_csv(\"/content/drive/MyDrive/USA_Housing.csv\")\n",
        "ush.head()"
      ],
      "execution_count": null,
      "outputs": [
        {
          "output_type": "execute_result",
          "data": {
            "text/html": [
              "<div>\n",
              "<style scoped>\n",
              "    .dataframe tbody tr th:only-of-type {\n",
              "        vertical-align: middle;\n",
              "    }\n",
              "\n",
              "    .dataframe tbody tr th {\n",
              "        vertical-align: top;\n",
              "    }\n",
              "\n",
              "    .dataframe thead th {\n",
              "        text-align: right;\n",
              "    }\n",
              "</style>\n",
              "<table border=\"1\" class=\"dataframe\">\n",
              "  <thead>\n",
              "    <tr style=\"text-align: right;\">\n",
              "      <th></th>\n",
              "      <th>Avg. Area Income</th>\n",
              "      <th>Avg. Area House Age</th>\n",
              "      <th>Avg. Area Number of Rooms</th>\n",
              "      <th>Avg. Area Number of Bedrooms</th>\n",
              "      <th>Area Population</th>\n",
              "      <th>Price</th>\n",
              "      <th>Address</th>\n",
              "    </tr>\n",
              "  </thead>\n",
              "  <tbody>\n",
              "    <tr>\n",
              "      <th>0</th>\n",
              "      <td>79545.458574</td>\n",
              "      <td>5.682861</td>\n",
              "      <td>7.009188</td>\n",
              "      <td>4.09</td>\n",
              "      <td>23086.800503</td>\n",
              "      <td>1.059034e+06</td>\n",
              "      <td>208 Michael Ferry Apt. 674\\nLaurabury, NE 3701...</td>\n",
              "    </tr>\n",
              "    <tr>\n",
              "      <th>1</th>\n",
              "      <td>79248.642455</td>\n",
              "      <td>6.002900</td>\n",
              "      <td>6.730821</td>\n",
              "      <td>3.09</td>\n",
              "      <td>40173.072174</td>\n",
              "      <td>1.505891e+06</td>\n",
              "      <td>188 Johnson Views Suite 079\\nLake Kathleen, CA...</td>\n",
              "    </tr>\n",
              "    <tr>\n",
              "      <th>2</th>\n",
              "      <td>61287.067179</td>\n",
              "      <td>5.865890</td>\n",
              "      <td>8.512727</td>\n",
              "      <td>5.13</td>\n",
              "      <td>36882.159400</td>\n",
              "      <td>1.058988e+06</td>\n",
              "      <td>9127 Elizabeth Stravenue\\nDanieltown, WI 06482...</td>\n",
              "    </tr>\n",
              "    <tr>\n",
              "      <th>3</th>\n",
              "      <td>63345.240046</td>\n",
              "      <td>7.188236</td>\n",
              "      <td>5.586729</td>\n",
              "      <td>3.26</td>\n",
              "      <td>34310.242831</td>\n",
              "      <td>1.260617e+06</td>\n",
              "      <td>USS Barnett\\nFPO AP 44820</td>\n",
              "    </tr>\n",
              "    <tr>\n",
              "      <th>4</th>\n",
              "      <td>59982.197226</td>\n",
              "      <td>5.040555</td>\n",
              "      <td>7.839388</td>\n",
              "      <td>4.23</td>\n",
              "      <td>26354.109472</td>\n",
              "      <td>6.309435e+05</td>\n",
              "      <td>USNS Raymond\\nFPO AE 09386</td>\n",
              "    </tr>\n",
              "  </tbody>\n",
              "</table>\n",
              "</div>"
            ],
            "text/plain": [
              "   Avg. Area Income  ...                                            Address\n",
              "0      79545.458574  ...  208 Michael Ferry Apt. 674\\nLaurabury, NE 3701...\n",
              "1      79248.642455  ...  188 Johnson Views Suite 079\\nLake Kathleen, CA...\n",
              "2      61287.067179  ...  9127 Elizabeth Stravenue\\nDanieltown, WI 06482...\n",
              "3      63345.240046  ...                          USS Barnett\\nFPO AP 44820\n",
              "4      59982.197226  ...                         USNS Raymond\\nFPO AE 09386\n",
              "\n",
              "[5 rows x 7 columns]"
            ]
          },
          "metadata": {
            "tags": []
          },
          "execution_count": 17
        }
      ]
    },
    {
      "cell_type": "code",
      "metadata": {
        "colab": {
          "base_uri": "https://localhost:8080/",
          "height": 284
        },
        "id": "xtSP1_vxTez6",
        "outputId": "3bcef366-0208-4c36-8e93-e97eba17d1cb"
      },
      "source": [
        "ush.describe()"
      ],
      "execution_count": null,
      "outputs": [
        {
          "output_type": "execute_result",
          "data": {
            "text/html": [
              "<div>\n",
              "<style scoped>\n",
              "    .dataframe tbody tr th:only-of-type {\n",
              "        vertical-align: middle;\n",
              "    }\n",
              "\n",
              "    .dataframe tbody tr th {\n",
              "        vertical-align: top;\n",
              "    }\n",
              "\n",
              "    .dataframe thead th {\n",
              "        text-align: right;\n",
              "    }\n",
              "</style>\n",
              "<table border=\"1\" class=\"dataframe\">\n",
              "  <thead>\n",
              "    <tr style=\"text-align: right;\">\n",
              "      <th></th>\n",
              "      <th>Avg. Area Income</th>\n",
              "      <th>Avg. Area House Age</th>\n",
              "      <th>Avg. Area Number of Rooms</th>\n",
              "      <th>Avg. Area Number of Bedrooms</th>\n",
              "      <th>Area Population</th>\n",
              "      <th>Price</th>\n",
              "    </tr>\n",
              "  </thead>\n",
              "  <tbody>\n",
              "    <tr>\n",
              "      <th>count</th>\n",
              "      <td>5000.000000</td>\n",
              "      <td>5000.000000</td>\n",
              "      <td>5000.000000</td>\n",
              "      <td>5000.000000</td>\n",
              "      <td>5000.000000</td>\n",
              "      <td>5.000000e+03</td>\n",
              "    </tr>\n",
              "    <tr>\n",
              "      <th>mean</th>\n",
              "      <td>68583.108984</td>\n",
              "      <td>5.977222</td>\n",
              "      <td>6.987792</td>\n",
              "      <td>3.981330</td>\n",
              "      <td>36163.516039</td>\n",
              "      <td>1.232073e+06</td>\n",
              "    </tr>\n",
              "    <tr>\n",
              "      <th>std</th>\n",
              "      <td>10657.991214</td>\n",
              "      <td>0.991456</td>\n",
              "      <td>1.005833</td>\n",
              "      <td>1.234137</td>\n",
              "      <td>9925.650114</td>\n",
              "      <td>3.531176e+05</td>\n",
              "    </tr>\n",
              "    <tr>\n",
              "      <th>min</th>\n",
              "      <td>17796.631190</td>\n",
              "      <td>2.644304</td>\n",
              "      <td>3.236194</td>\n",
              "      <td>2.000000</td>\n",
              "      <td>172.610686</td>\n",
              "      <td>1.593866e+04</td>\n",
              "    </tr>\n",
              "    <tr>\n",
              "      <th>25%</th>\n",
              "      <td>61480.562388</td>\n",
              "      <td>5.322283</td>\n",
              "      <td>6.299250</td>\n",
              "      <td>3.140000</td>\n",
              "      <td>29403.928702</td>\n",
              "      <td>9.975771e+05</td>\n",
              "    </tr>\n",
              "    <tr>\n",
              "      <th>50%</th>\n",
              "      <td>68804.286404</td>\n",
              "      <td>5.970429</td>\n",
              "      <td>7.002902</td>\n",
              "      <td>4.050000</td>\n",
              "      <td>36199.406689</td>\n",
              "      <td>1.232669e+06</td>\n",
              "    </tr>\n",
              "    <tr>\n",
              "      <th>75%</th>\n",
              "      <td>75783.338666</td>\n",
              "      <td>6.650808</td>\n",
              "      <td>7.665871</td>\n",
              "      <td>4.490000</td>\n",
              "      <td>42861.290769</td>\n",
              "      <td>1.471210e+06</td>\n",
              "    </tr>\n",
              "    <tr>\n",
              "      <th>max</th>\n",
              "      <td>107701.748378</td>\n",
              "      <td>9.519088</td>\n",
              "      <td>10.759588</td>\n",
              "      <td>6.500000</td>\n",
              "      <td>69621.713378</td>\n",
              "      <td>2.469066e+06</td>\n",
              "    </tr>\n",
              "  </tbody>\n",
              "</table>\n",
              "</div>"
            ],
            "text/plain": [
              "       Avg. Area Income  Avg. Area House Age  ...  Area Population         Price\n",
              "count       5000.000000          5000.000000  ...      5000.000000  5.000000e+03\n",
              "mean       68583.108984             5.977222  ...     36163.516039  1.232073e+06\n",
              "std        10657.991214             0.991456  ...      9925.650114  3.531176e+05\n",
              "min        17796.631190             2.644304  ...       172.610686  1.593866e+04\n",
              "25%        61480.562388             5.322283  ...     29403.928702  9.975771e+05\n",
              "50%        68804.286404             5.970429  ...     36199.406689  1.232669e+06\n",
              "75%        75783.338666             6.650808  ...     42861.290769  1.471210e+06\n",
              "max       107701.748378             9.519088  ...     69621.713378  2.469066e+06\n",
              "\n",
              "[8 rows x 6 columns]"
            ]
          },
          "metadata": {
            "tags": []
          },
          "execution_count": 18
        }
      ]
    },
    {
      "cell_type": "code",
      "metadata": {
        "colab": {
          "base_uri": "https://localhost:8080/"
        },
        "id": "yxxwQqO-WkAr",
        "outputId": "b07d87c6-b4ce-444f-bff4-2487a81ed061"
      },
      "source": [
        "ush.info()\n"
      ],
      "execution_count": null,
      "outputs": [
        {
          "output_type": "stream",
          "text": [
            "<class 'pandas.core.frame.DataFrame'>\n",
            "RangeIndex: 5000 entries, 0 to 4999\n",
            "Data columns (total 7 columns):\n",
            " #   Column                        Non-Null Count  Dtype  \n",
            "---  ------                        --------------  -----  \n",
            " 0   Avg. Area Income              5000 non-null   float64\n",
            " 1   Avg. Area House Age           5000 non-null   float64\n",
            " 2   Avg. Area Number of Rooms     5000 non-null   float64\n",
            " 3   Avg. Area Number of Bedrooms  5000 non-null   float64\n",
            " 4   Area Population               5000 non-null   float64\n",
            " 5   Price                         5000 non-null   float64\n",
            " 6   Address                       5000 non-null   object \n",
            "dtypes: float64(6), object(1)\n",
            "memory usage: 273.6+ KB\n"
          ],
          "name": "stdout"
        }
      ]
    },
    {
      "cell_type": "code",
      "metadata": {
        "colab": {
          "base_uri": "https://localhost:8080/"
        },
        "id": "8YvFCp8fJBc_",
        "outputId": "dd0324cd-f039-482c-9ab9-057bb3147149"
      },
      "source": [
        "ush.nunique()"
      ],
      "execution_count": null,
      "outputs": [
        {
          "output_type": "execute_result",
          "data": {
            "text/plain": [
              "Avg. Area Income                5000\n",
              "Avg. Area House Age             5000\n",
              "Avg. Area Number of Rooms       5000\n",
              "Avg. Area Number of Bedrooms     255\n",
              "Area Population                 5000\n",
              "Price                           5000\n",
              "Address                         5000\n",
              "dtype: int64"
            ]
          },
          "metadata": {
            "tags": []
          },
          "execution_count": 20
        }
      ]
    },
    {
      "cell_type": "code",
      "metadata": {
        "colab": {
          "base_uri": "https://localhost:8080/"
        },
        "id": "5BfT_zXGJNmn",
        "outputId": "3a41c6c4-6cf2-48ae-8391-8edd14d72210"
      },
      "source": [
        "print(ush['Address'].head(20))"
      ],
      "execution_count": null,
      "outputs": [
        {
          "output_type": "stream",
          "text": [
            "0     208 Michael Ferry Apt. 674\\nLaurabury, NE 3701...\n",
            "1     188 Johnson Views Suite 079\\nLake Kathleen, CA...\n",
            "2     9127 Elizabeth Stravenue\\nDanieltown, WI 06482...\n",
            "3                             USS Barnett\\nFPO AP 44820\n",
            "4                            USNS Raymond\\nFPO AE 09386\n",
            "5     06039 Jennifer Islands Apt. 443\\nTracyport, KS...\n",
            "6     4759 Daniel Shoals Suite 442\\nNguyenburgh, CO ...\n",
            "7        972 Joyce Viaduct\\nLake William, TN 17778-6483\n",
            "8                             USS Gilbert\\nFPO AA 20957\n",
            "9                      Unit 9446 Box 0958\\nDPO AE 97025\n",
            "10    6368 John Motorway Suite 700\\nJanetbury, NM 26854\n",
            "11    911 Castillo Park Apt. 717\\nDavisborough, PW 7...\n",
            "12    209 Natasha Stream Suite 961\\nHuffmanland, NE ...\n",
            "13    829 Welch Track Apt. 992\\nNorth John, AR 26532...\n",
            "14                     PSC 5330, Box 4420\\nAPO AP 08302\n",
            "15       2278 Shannon View\\nNorth Carriemouth, NM 84617\n",
            "16     064 Hayley Unions\\nNicholsborough, HI 44161-1887\n",
            "17        5498 Rachel Locks\\nNew Gregoryshire, PW 54755\n",
            "18                     Unit 7424 Box 2786\\nDPO AE 71255\n",
            "19      19696 Benjamin Cape\\nStephentown, ME 36952-4733\n",
            "Name: Address, dtype: object\n"
          ],
          "name": "stdout"
        }
      ]
    },
    {
      "cell_type": "code",
      "metadata": {
        "colab": {
          "base_uri": "https://localhost:8080/"
        },
        "id": "KctoprnpSARG",
        "outputId": "b29bb838-c514-4075-d21a-cb0aa42167f0"
      },
      "source": [
        "ush['area1']=ush['Address'].str.split(\",\",n=1,expand=True)[1]\n",
        "#ush['area1']=area\n",
        "#print(area.head(30))\n",
        "#print(ush['area1'].head(50))\n",
        "ush['area2'] = ush['area1'].str[:3]\n",
        "#ush['area2']=ush['area1'].str.split(\" \",n=1, expand=True)[1]\n",
        "print(ush['area2'].head(30))"
      ],
      "execution_count": null,
      "outputs": [
        {
          "output_type": "stream",
          "text": [
            "0       NE\n",
            "1       CA\n",
            "2       WI\n",
            "3     None\n",
            "4     None\n",
            "5       KS\n",
            "6       CO\n",
            "7       TN\n",
            "8     None\n",
            "9     None\n",
            "10      NM\n",
            "11      PW\n",
            "12      NE\n",
            "13      AR\n",
            "14      Bo\n",
            "15      NM\n",
            "16      HI\n",
            "17      PW\n",
            "18    None\n",
            "19      ME\n",
            "20      HI\n",
            "21    None\n",
            "22      TN\n",
            "23      IN\n",
            "24      MI\n",
            "25      DE\n",
            "26      AZ\n",
            "27      MA\n",
            "28      MN\n",
            "29      AL\n",
            "Name: area2, dtype: object\n"
          ],
          "name": "stdout"
        }
      ]
    },
    {
      "cell_type": "code",
      "metadata": {
        "colab": {
          "base_uri": "https://localhost:8080/"
        },
        "id": "izTPGsF-J02l",
        "outputId": "32cc1b09-b75d-4613-d1e7-a9f4a2589887"
      },
      "source": [
        "print(ush['area2'].nunique())\n",
        "print(ush['area2'].count())\n",
        "print(ush['area2'].unique())"
      ],
      "execution_count": null,
      "outputs": [
        {
          "output_type": "stream",
          "text": [
            "60\n",
            "4653\n",
            "[' NE' ' CA' ' WI' None ' KS' ' CO' ' TN' ' NM' ' PW' ' AR' ' Bo' ' HI'\n",
            " ' ME' ' IN' ' MI' ' DE' ' AZ' ' MA' ' MN' ' AL' ' NY' ' NV' ' VA' ' ID'\n",
            " ' OK' ' NH' ' MO' ' WV' ' WY' ' MH' ' UT' ' SD' ' CT' ' AK' ' WA' ' RI'\n",
            " ' NJ' ' KY' ' NC' ' IA' ' VT' ' FM' ' ND' ' LA' ' MP' ' OR' ' TX' ' DC'\n",
            " ' PR' ' MT' ' AS' ' OH' ' MS' ' IL' ' VI' ' GA' ' PA' ' MD' ' SC' ' GU'\n",
            " ' FL']\n"
          ],
          "name": "stdout"
        }
      ]
    },
    {
      "cell_type": "code",
      "metadata": {
        "colab": {
          "base_uri": "https://localhost:8080/",
          "height": 1000
        },
        "id": "WDce_viyLUtX",
        "outputId": "b54b9fa4-0a6e-4bd5-cf3d-033ca0a30a45"
      },
      "source": [
        "#Price vs area bar chart\n",
        "fig = plt.figure(figsize=(20,20))\n",
        "gender_resigned = ush.groupby('area2')['Price'].count().sort_values(ascending=True)\n",
        "gender_resigned.plot(kind='bar',color='blue')\n",
        "#plt.grid(b=True,which='both',color='blue')\n",
        "plt.xlabel('price vs area')\n",
        "plt.show()\n"
      ],
      "execution_count": null,
      "outputs": [
        {
          "output_type": "display_data",
          "data": {
            "image/png": "[encoded data removed]",
            "text/plain": [
              "<Figure size 1440x1440 with 1 Axes>"
            ]
          },
          "metadata": {
            "tags": [],
            "needs_background": "light"
          }
        }
      ]
    },
    {
      "cell_type": "code",
      "metadata": {
        "id": "uXqr7KeDTm6c"
      },
      "source": [
        "\n"
      ],
      "execution_count": null,
      "outputs": []
    },
    {
      "cell_type": "code",
      "metadata": {
        "colab": {
          "base_uri": "https://localhost:8080/",
          "height": 725
        },
        "id": "xg7DeZnwURpa",
        "outputId": "516bed0d-b657-4fec-b3d6-85c4ac9fb00b"
      },
      "source": [
        "# Plotting histograms of multiple columns together\n",
        "ush.hist(['Avg. Area Income' ,'Avg. Area House Age' , 'Avg. Area Number of Rooms','Avg. Area Number of Bedrooms','Area Population'], figsize=(18,10))"
      ],
      "execution_count": null,
      "outputs": [
        {
          "output_type": "execute_result",
          "data": {
            "text/plain": [
              "array([[<matplotlib.axes._subplots.AxesSubplot object at 0x7f8768869bd0>,\n",
              "        <matplotlib.axes._subplots.AxesSubplot object at 0x7f87686fdcd0>],\n",
              "       [<matplotlib.axes._subplots.AxesSubplot object at 0x7f87686bd390>,\n",
              "        <matplotlib.axes._subplots.AxesSubplot object at 0x7f8768673990>],\n",
              "       [<matplotlib.axes._subplots.AxesSubplot object at 0x7f876862afd0>,\n",
              "        <matplotlib.axes._subplots.AxesSubplot object at 0x7f87685ec6d0>]],\n",
              "      dtype=object)"
            ]
          },
          "metadata": {
            "tags": []
          },
          "execution_count": 25
        },
        {
          "output_type": "display_data",
          "data": {
            "image/png": "[encoded data removed]",
            "text/plain": [
              "<Figure size 1296x720 with 6 Axes>"
            ]
          },
          "metadata": {
            "tags": [],
            "needs_background": "light"
          }
        }
      ]
    },
    {
      "cell_type": "code",
      "metadata": {
        "colab": {
          "base_uri": "https://localhost:8080/"
        },
        "id": "j-8X5VUjuvkf",
        "outputId": "f2dd0af1-d499-439a-aff0-989e05b8794f"
      },
      "source": [
        "ush.isnull().sum()"
      ],
      "execution_count": null,
      "outputs": [
        {
          "output_type": "execute_result",
          "data": {
            "text/plain": [
              "Avg. Area Income                  0\n",
              "Avg. Area House Age               0\n",
              "Avg. Area Number of Rooms         0\n",
              "Avg. Area Number of Bedrooms      0\n",
              "Area Population                   0\n",
              "Price                             0\n",
              "Address                           0\n",
              "area1                           347\n",
              "area2                           347\n",
              "dtype: int64"
            ]
          },
          "metadata": {
            "tags": []
          },
          "execution_count": 26
        }
      ]
    },
    {
      "cell_type": "code",
      "metadata": {
        "id": "nBYK18_9u9TT"
      },
      "source": [
        "del ush['area1']"
      ],
      "execution_count": null,
      "outputs": []
    },
    {
      "cell_type": "code",
      "metadata": {
        "colab": {
          "base_uri": "https://localhost:8080/"
        },
        "id": "2_QMlMfiu8Tx",
        "outputId": "23eb69aa-866b-4335-b62e-00abd89b38cb"
      },
      "source": [
        "ush.info()"
      ],
      "execution_count": null,
      "outputs": [
        {
          "output_type": "stream",
          "text": [
            "<class 'pandas.core.frame.DataFrame'>\n",
            "RangeIndex: 5000 entries, 0 to 4999\n",
            "Data columns (total 8 columns):\n",
            " #   Column                        Non-Null Count  Dtype  \n",
            "---  ------                        --------------  -----  \n",
            " 0   Avg. Area Income              5000 non-null   float64\n",
            " 1   Avg. Area House Age           5000 non-null   float64\n",
            " 2   Avg. Area Number of Rooms     5000 non-null   float64\n",
            " 3   Avg. Area Number of Bedrooms  5000 non-null   float64\n",
            " 4   Area Population               5000 non-null   float64\n",
            " 5   Price                         5000 non-null   float64\n",
            " 6   Address                       5000 non-null   object \n",
            " 7   area2                         4653 non-null   object \n",
            "dtypes: float64(6), object(2)\n",
            "memory usage: 312.6+ KB\n"
          ],
          "name": "stdout"
        }
      ]
    },
    {
      "cell_type": "code",
      "metadata": {
        "id": "3N8wBkffDBme"
      },
      "source": [
        "#ushnew=ush[['Avg. Area Income',' Avg. Area House Age ','Avg. Area Number of Rooms','Avg. Area Number of Bedrooms',' Area Population ',' area2 ',' Price',]]\n",
        "del ush['Address']"
      ],
      "execution_count": null,
      "outputs": []
    },
    {
      "cell_type": "code",
      "metadata": {
        "colab": {
          "base_uri": "https://localhost:8080/"
        },
        "id": "Zl2-ax0wE1z9",
        "outputId": "7b2c0943-62cf-4c9f-8f54-070e4a8fa0c0"
      },
      "source": [
        "ush.info()"
      ],
      "execution_count": null,
      "outputs": [
        {
          "output_type": "stream",
          "text": [
            "<class 'pandas.core.frame.DataFrame'>\n",
            "RangeIndex: 5000 entries, 0 to 4999\n",
            "Data columns (total 7 columns):\n",
            " #   Column                        Non-Null Count  Dtype  \n",
            "---  ------                        --------------  -----  \n",
            " 0   Avg. Area Income              5000 non-null   float64\n",
            " 1   Avg. Area House Age           5000 non-null   float64\n",
            " 2   Avg. Area Number of Rooms     5000 non-null   float64\n",
            " 3   Avg. Area Number of Bedrooms  5000 non-null   float64\n",
            " 4   Area Population               5000 non-null   float64\n",
            " 5   Price                         5000 non-null   float64\n",
            " 6   area2                         4653 non-null   object \n",
            "dtypes: float64(6), object(1)\n",
            "memory usage: 273.6+ KB\n"
          ],
          "name": "stdout"
        }
      ]
    },
    {
      "cell_type": "code",
      "metadata": {
        "colab": {
          "base_uri": "https://localhost:8080/"
        },
        "id": "qno9MFQJMHEB",
        "outputId": "93ef7daf-5b73-4326-edf9-289752c5d2dd"
      },
      "source": [
        "print(ush['area2'])\n",
        "#print(pd.get_dummies('area2'))"
      ],
      "execution_count": null,
      "outputs": [
        {
          "output_type": "stream",
          "text": [
            "0         NE\n",
            "1         CA\n",
            "2         WI\n",
            "3       None\n",
            "4       None\n",
            "        ... \n",
            "4995    None\n",
            "4996      Bo\n",
            "4997      VA\n",
            "4998    None\n",
            "4999      NV\n",
            "Name: area2, Length: 5000, dtype: object\n"
          ],
          "name": "stdout"
        }
      ]
    },
    {
      "cell_type": "code",
      "metadata": {
        "colab": {
          "base_uri": "https://localhost:8080/"
        },
        "id": "V5WhtM42XxQc",
        "outputId": "15a37b76-7cb5-4a83-ca11-9bb9121c9ed6"
      },
      "source": [
        "ush['areafill']=ush['area2']\n",
        "print(ush['areafill'])\n",
        "dfimputed = ush.apply(lambda x: x.fillna(x.value_counts().index[7]))\n",
        "print(dfimputed)\n",
        "\n"
      ],
      "execution_count": null,
      "outputs": [
        {
          "output_type": "stream",
          "text": [
            "0         NE\n",
            "1         CA\n",
            "2         WI\n",
            "3       None\n",
            "4       None\n",
            "        ... \n",
            "4995    None\n",
            "4996      Bo\n",
            "4997      VA\n",
            "4998    None\n",
            "4999      NV\n",
            "Name: areafill, Length: 5000, dtype: object\n",
            "      Avg. Area Income  Avg. Area House Age  ...  area2  areafill\n",
            "0         79545.458574             5.682861  ...     NE        NE\n",
            "1         79248.642455             6.002900  ...     CA        CA\n",
            "2         61287.067179             5.865890  ...     WI        WI\n",
            "3         63345.240046             7.188236  ...     AZ        AZ\n",
            "4         59982.197226             5.040555  ...     AZ        AZ\n",
            "...                ...                  ...  ...    ...       ...\n",
            "4995      60567.944140             7.830362  ...     AZ        AZ\n",
            "4996      78491.275435             6.999135  ...     Bo        Bo\n",
            "4997      63390.686886             7.250591  ...     VA        VA\n",
            "4998      68001.331235             5.534388  ...     AZ        AZ\n",
            "4999      65510.581804             5.992305  ...     NV        NV\n",
            "\n",
            "[5000 rows x 8 columns]\n"
          ],
          "name": "stdout"
        }
      ]
    },
    {
      "cell_type": "code",
      "metadata": {
        "colab": {
          "base_uri": "https://localhost:8080/"
        },
        "id": "3YlfYNM-aNvy",
        "outputId": "c55e556b-b5a8-419e-b7a2-cb22fe2d33ad"
      },
      "source": [
        "print(dfimputed.isnull().sum())\n"
      ],
      "execution_count": null,
      "outputs": [
        {
          "output_type": "stream",
          "text": [
            "Avg. Area Income                0\n",
            "Avg. Area House Age             0\n",
            "Avg. Area Number of Rooms       0\n",
            "Avg. Area Number of Bedrooms    0\n",
            "Area Population                 0\n",
            "Price                           0\n",
            "area2                           0\n",
            "areafill                        0\n",
            "dtype: int64\n"
          ],
          "name": "stdout"
        }
      ]
    },
    {
      "cell_type": "code",
      "metadata": {
        "colab": {
          "base_uri": "https://localhost:8080/"
        },
        "id": "sG2wpO6ybHl4",
        "outputId": "8318d853-58bf-46fa-dd91-d096b1d6aca0"
      },
      "source": [
        "\n",
        "\n",
        "dfimputed.info()"
      ],
      "execution_count": null,
      "outputs": [
        {
          "output_type": "stream",
          "text": [
            "<class 'pandas.core.frame.DataFrame'>\n",
            "RangeIndex: 5000 entries, 0 to 4999\n",
            "Data columns (total 8 columns):\n",
            " #   Column                        Non-Null Count  Dtype  \n",
            "---  ------                        --------------  -----  \n",
            " 0   Avg. Area Income              5000 non-null   float64\n",
            " 1   Avg. Area House Age           5000 non-null   float64\n",
            " 2   Avg. Area Number of Rooms     5000 non-null   float64\n",
            " 3   Avg. Area Number of Bedrooms  5000 non-null   float64\n",
            " 4   Area Population               5000 non-null   float64\n",
            " 5   Price                         5000 non-null   float64\n",
            " 6   area2                         5000 non-null   object \n",
            " 7   areafill                      5000 non-null   object \n",
            "dtypes: float64(6), object(2)\n",
            "memory usage: 312.6+ KB\n"
          ],
          "name": "stdout"
        }
      ]
    },
    {
      "cell_type": "code",
      "metadata": {
        "colab": {
          "base_uri": "https://localhost:8080/"
        },
        "id": "A4JEuIR2y4pN",
        "outputId": "152b6d2c-7b6f-4025-de40-c40a71bfd2f3"
      },
      "source": [
        "#del dfimputed['area2']\n",
        "dfimputed.info()"
      ],
      "execution_count": null,
      "outputs": [
        {
          "output_type": "stream",
          "text": [
            "<class 'pandas.core.frame.DataFrame'>\n",
            "RangeIndex: 5000 entries, 0 to 4999\n",
            "Data columns (total 8 columns):\n",
            " #   Column                        Non-Null Count  Dtype  \n",
            "---  ------                        --------------  -----  \n",
            " 0   Avg. Area Income              5000 non-null   float64\n",
            " 1   Avg. Area House Age           5000 non-null   float64\n",
            " 2   Avg. Area Number of Rooms     5000 non-null   float64\n",
            " 3   Avg. Area Number of Bedrooms  5000 non-null   float64\n",
            " 4   Area Population               5000 non-null   float64\n",
            " 5   Price                         5000 non-null   float64\n",
            " 6   area2                         5000 non-null   object \n",
            " 7   areafill                      5000 non-null   object \n",
            "dtypes: float64(6), object(2)\n",
            "memory usage: 312.6+ KB\n"
          ],
          "name": "stdout"
        }
      ]
    },
    {
      "cell_type": "code",
      "metadata": {
        "colab": {
          "base_uri": "https://localhost:8080/"
        },
        "id": "ZAxoLQ5m0qg3",
        "outputId": "82f84cb5-cadd-45e8-8ebd-2386580752a5"
      },
      "source": [
        "dfimputed.nunique()"
      ],
      "execution_count": null,
      "outputs": [
        {
          "output_type": "execute_result",
          "data": {
            "text/plain": [
              "Avg. Area Income                5000\n",
              "Avg. Area House Age             5000\n",
              "Avg. Area Number of Rooms       5000\n",
              "Avg. Area Number of Bedrooms     255\n",
              "Area Population                 5000\n",
              "Price                           5000\n",
              "area2                             60\n",
              "areafill                          60\n",
              "dtype: int64"
            ]
          },
          "metadata": {
            "tags": []
          },
          "execution_count": 36
        }
      ]
    },
    {
      "cell_type": "code",
      "metadata": {
        "colab": {
          "base_uri": "https://localhost:8080/"
        },
        "id": "WAVIHhtTzPtW",
        "outputId": "5068d253-5996-4df5-a51e-55b605220268"
      },
      "source": [
        "#Create object for hash encoder\n",
        "encoder=ce.BinaryEncoder(cols='areafill',return_df=True)\n",
        "#Fit and Transform Data\n",
        "newdf=encoder.fit_transform(dfimputed)"
      ],
      "execution_count": null,
      "outputs": [
        {
          "output_type": "stream",
          "text": [
            "/usr/local/lib/python3.7/dist-packages/category_encoders/utils.py:21: FutureWarning:\n",
            "\n",
            "is_categorical is deprecated and will be removed in a future version.  Use is_categorical_dtype instead\n",
            "\n"
          ],
          "name": "stderr"
        }
      ]
    },
    {
      "cell_type": "code",
      "metadata": {
        "colab": {
          "base_uri": "https://localhost:8080/",
          "height": 435
        },
        "id": "gQ8-tVHw2WUq",
        "outputId": "e05f1bad-af5c-4a19-840b-109911ed81ff"
      },
      "source": [
        "newdf"
      ],
      "execution_count": null,
      "outputs": [
        {
          "output_type": "execute_result",
          "data": {
            "text/html": [
              "<div>\n",
              "<style scoped>\n",
              "    .dataframe tbody tr th:only-of-type {\n",
              "        vertical-align: middle;\n",
              "    }\n",
              "\n",
              "    .dataframe tbody tr th {\n",
              "        vertical-align: top;\n",
              "    }\n",
              "\n",
              "    .dataframe thead th {\n",
              "        text-align: right;\n",
              "    }\n",
              "</style>\n",
              "<table border=\"1\" class=\"dataframe\">\n",
              "  <thead>\n",
              "    <tr style=\"text-align: right;\">\n",
              "      <th></th>\n",
              "      <th>Avg. Area Income</th>\n",
              "      <th>Avg. Area House Age</th>\n",
              "      <th>Avg. Area Number of Rooms</th>\n",
              "      <th>Avg. Area Number of Bedrooms</th>\n",
              "      <th>Area Population</th>\n",
              "      <th>Price</th>\n",
              "      <th>area2</th>\n",
              "      <th>areafill_0</th>\n",
              "      <th>areafill_1</th>\n",
              "      <th>areafill_2</th>\n",
              "      <th>areafill_3</th>\n",
              "      <th>areafill_4</th>\n",
              "      <th>areafill_5</th>\n",
              "      <th>areafill_6</th>\n",
              "    </tr>\n",
              "  </thead>\n",
              "  <tbody>\n",
              "    <tr>\n",
              "      <th>0</th>\n",
              "      <td>79545.458574</td>\n",
              "      <td>5.682861</td>\n",
              "      <td>7.009188</td>\n",
              "      <td>4.09</td>\n",
              "      <td>23086.800503</td>\n",
              "      <td>1.059034e+06</td>\n",
              "      <td>NE</td>\n",
              "      <td>0</td>\n",
              "      <td>0</td>\n",
              "      <td>0</td>\n",
              "      <td>0</td>\n",
              "      <td>0</td>\n",
              "      <td>0</td>\n",
              "      <td>1</td>\n",
              "    </tr>\n",
              "    <tr>\n",
              "      <th>1</th>\n",
              "      <td>79248.642455</td>\n",
              "      <td>6.002900</td>\n",
              "      <td>6.730821</td>\n",
              "      <td>3.09</td>\n",
              "      <td>40173.072174</td>\n",
              "      <td>1.505891e+06</td>\n",
              "      <td>CA</td>\n",
              "      <td>0</td>\n",
              "      <td>0</td>\n",
              "      <td>0</td>\n",
              "      <td>0</td>\n",
              "      <td>0</td>\n",
              "      <td>1</td>\n",
              "      <td>0</td>\n",
              "    </tr>\n",
              "    <tr>\n",
              "      <th>2</th>\n",
              "      <td>61287.067179</td>\n",
              "      <td>5.865890</td>\n",
              "      <td>8.512727</td>\n",
              "      <td>5.13</td>\n",
              "      <td>36882.159400</td>\n",
              "      <td>1.058988e+06</td>\n",
              "      <td>WI</td>\n",
              "      <td>0</td>\n",
              "      <td>0</td>\n",
              "      <td>0</td>\n",
              "      <td>0</td>\n",
              "      <td>0</td>\n",
              "      <td>1</td>\n",
              "      <td>1</td>\n",
              "    </tr>\n",
              "    <tr>\n",
              "      <th>3</th>\n",
              "      <td>63345.240046</td>\n",
              "      <td>7.188236</td>\n",
              "      <td>5.586729</td>\n",
              "      <td>3.26</td>\n",
              "      <td>34310.242831</td>\n",
              "      <td>1.260617e+06</td>\n",
              "      <td>AZ</td>\n",
              "      <td>0</td>\n",
              "      <td>0</td>\n",
              "      <td>0</td>\n",
              "      <td>0</td>\n",
              "      <td>1</td>\n",
              "      <td>0</td>\n",
              "      <td>0</td>\n",
              "    </tr>\n",
              "    <tr>\n",
              "      <th>4</th>\n",
              "      <td>59982.197226</td>\n",
              "      <td>5.040555</td>\n",
              "      <td>7.839388</td>\n",
              "      <td>4.23</td>\n",
              "      <td>26354.109472</td>\n",
              "      <td>6.309435e+05</td>\n",
              "      <td>AZ</td>\n",
              "      <td>0</td>\n",
              "      <td>0</td>\n",
              "      <td>0</td>\n",
              "      <td>0</td>\n",
              "      <td>1</td>\n",
              "      <td>0</td>\n",
              "      <td>0</td>\n",
              "    </tr>\n",
              "    <tr>\n",
              "      <th>...</th>\n",
              "      <td>...</td>\n",
              "      <td>...</td>\n",
              "      <td>...</td>\n",
              "      <td>...</td>\n",
              "      <td>...</td>\n",
              "      <td>...</td>\n",
              "      <td>...</td>\n",
              "      <td>...</td>\n",
              "      <td>...</td>\n",
              "      <td>...</td>\n",
              "      <td>...</td>\n",
              "      <td>...</td>\n",
              "      <td>...</td>\n",
              "      <td>...</td>\n",
              "    </tr>\n",
              "    <tr>\n",
              "      <th>4995</th>\n",
              "      <td>60567.944140</td>\n",
              "      <td>7.830362</td>\n",
              "      <td>6.137356</td>\n",
              "      <td>3.46</td>\n",
              "      <td>22837.361035</td>\n",
              "      <td>1.060194e+06</td>\n",
              "      <td>AZ</td>\n",
              "      <td>0</td>\n",
              "      <td>0</td>\n",
              "      <td>0</td>\n",
              "      <td>0</td>\n",
              "      <td>1</td>\n",
              "      <td>0</td>\n",
              "      <td>0</td>\n",
              "    </tr>\n",
              "    <tr>\n",
              "      <th>4996</th>\n",
              "      <td>78491.275435</td>\n",
              "      <td>6.999135</td>\n",
              "      <td>6.576763</td>\n",
              "      <td>4.02</td>\n",
              "      <td>25616.115489</td>\n",
              "      <td>1.482618e+06</td>\n",
              "      <td>Bo</td>\n",
              "      <td>0</td>\n",
              "      <td>0</td>\n",
              "      <td>0</td>\n",
              "      <td>1</td>\n",
              "      <td>0</td>\n",
              "      <td>1</td>\n",
              "      <td>1</td>\n",
              "    </tr>\n",
              "    <tr>\n",
              "      <th>4997</th>\n",
              "      <td>63390.686886</td>\n",
              "      <td>7.250591</td>\n",
              "      <td>4.805081</td>\n",
              "      <td>2.13</td>\n",
              "      <td>33266.145490</td>\n",
              "      <td>1.030730e+06</td>\n",
              "      <td>VA</td>\n",
              "      <td>0</td>\n",
              "      <td>0</td>\n",
              "      <td>1</td>\n",
              "      <td>0</td>\n",
              "      <td>1</td>\n",
              "      <td>1</td>\n",
              "      <td>0</td>\n",
              "    </tr>\n",
              "    <tr>\n",
              "      <th>4998</th>\n",
              "      <td>68001.331235</td>\n",
              "      <td>5.534388</td>\n",
              "      <td>7.130144</td>\n",
              "      <td>5.44</td>\n",
              "      <td>42625.620156</td>\n",
              "      <td>1.198657e+06</td>\n",
              "      <td>AZ</td>\n",
              "      <td>0</td>\n",
              "      <td>0</td>\n",
              "      <td>0</td>\n",
              "      <td>0</td>\n",
              "      <td>1</td>\n",
              "      <td>0</td>\n",
              "      <td>0</td>\n",
              "    </tr>\n",
              "    <tr>\n",
              "      <th>4999</th>\n",
              "      <td>65510.581804</td>\n",
              "      <td>5.992305</td>\n",
              "      <td>6.792336</td>\n",
              "      <td>4.07</td>\n",
              "      <td>46501.283803</td>\n",
              "      <td>1.298950e+06</td>\n",
              "      <td>NV</td>\n",
              "      <td>0</td>\n",
              "      <td>0</td>\n",
              "      <td>1</td>\n",
              "      <td>0</td>\n",
              "      <td>1</td>\n",
              "      <td>0</td>\n",
              "      <td>1</td>\n",
              "    </tr>\n",
              "  </tbody>\n",
              "</table>\n",
              "<p>5000 rows × 14 columns</p>\n",
              "</div>"
            ],
            "text/plain": [
              "      Avg. Area Income  Avg. Area House Age  ...  areafill_5  areafill_6\n",
              "0         79545.458574             5.682861  ...           0           1\n",
              "1         79248.642455             6.002900  ...           1           0\n",
              "2         61287.067179             5.865890  ...           1           1\n",
              "3         63345.240046             7.188236  ...           0           0\n",
              "4         59982.197226             5.040555  ...           0           0\n",
              "...                ...                  ...  ...         ...         ...\n",
              "4995      60567.944140             7.830362  ...           0           0\n",
              "4996      78491.275435             6.999135  ...           1           1\n",
              "4997      63390.686886             7.250591  ...           1           0\n",
              "4998      68001.331235             5.534388  ...           0           0\n",
              "4999      65510.581804             5.992305  ...           0           1\n",
              "\n",
              "[5000 rows x 14 columns]"
            ]
          },
          "metadata": {
            "tags": []
          },
          "execution_count": 38
        }
      ]
    },
    {
      "cell_type": "code",
      "metadata": {
        "colab": {
          "base_uri": "https://localhost:8080/"
        },
        "id": "1GeTA6K73EuK",
        "outputId": "6a3dc740-9935-4c05-f9cc-81c717c1b4c9"
      },
      "source": [
        "newdf.info()"
      ],
      "execution_count": null,
      "outputs": [
        {
          "output_type": "stream",
          "text": [
            "<class 'pandas.core.frame.DataFrame'>\n",
            "RangeIndex: 5000 entries, 0 to 4999\n",
            "Data columns (total 14 columns):\n",
            " #   Column                        Non-Null Count  Dtype  \n",
            "---  ------                        --------------  -----  \n",
            " 0   Avg. Area Income              5000 non-null   float64\n",
            " 1   Avg. Area House Age           5000 non-null   float64\n",
            " 2   Avg. Area Number of Rooms     5000 non-null   float64\n",
            " 3   Avg. Area Number of Bedrooms  5000 non-null   float64\n",
            " 4   Area Population               5000 non-null   float64\n",
            " 5   Price                         5000 non-null   float64\n",
            " 6   area2                         5000 non-null   object \n",
            " 7   areafill_0                    5000 non-null   int64  \n",
            " 8   areafill_1                    5000 non-null   int64  \n",
            " 9   areafill_2                    5000 non-null   int64  \n",
            " 10  areafill_3                    5000 non-null   int64  \n",
            " 11  areafill_4                    5000 non-null   int64  \n",
            " 12  areafill_5                    5000 non-null   int64  \n",
            " 13  areafill_6                    5000 non-null   int64  \n",
            "dtypes: float64(6), int64(7), object(1)\n",
            "memory usage: 547.0+ KB\n"
          ],
          "name": "stdout"
        }
      ]
    },
    {
      "cell_type": "code",
      "metadata": {
        "colab": {
          "base_uri": "https://localhost:8080/",
          "height": 69
        },
        "id": "8psuIehX2CPA",
        "outputId": "aed30f02-9dfc-4479-f96d-d8996306f395"
      },
      "source": [
        "'''def PlotBarCharts(inpData, colsToPlot):\n",
        "    %matplotlib inline\n",
        "    \n",
        "    import matplotlib.pyplot as plt\n",
        "    \n",
        "    # Generating multiple subplots\n",
        "    fig, subPlot=plt.subplots(nrows=1, ncols=len(colsToPlot), figsize=(20,5))\n",
        "    fig.suptitle('Bar charts of: '+ str(colsToPlot))\n",
        "\n",
        "    for colName, plotNumber in zip(colsToPlot, range(len(colsToPlot))):\n",
        "        inpData.groupby(colName).size().plot(kind='bar',ax=subPlot[plotNumber])'''"
      ],
      "execution_count": null,
      "outputs": [
        {
          "output_type": "execute_result",
          "data": {
            "application/vnd.google.colaboratory.intrinsic+json": {
              "type": "string"
            },
            "text/plain": [
              "\"def PlotBarCharts(inpData, colsToPlot):\\n    %matplotlib inline\\n    \\n    import matplotlib.pyplot as plt\\n    \\n    # Generating multiple subplots\\n    fig, subPlot=plt.subplots(nrows=1, ncols=len(colsToPlot), figsize=(20,5))\\n    fig.suptitle('Bar charts of: '+ str(colsToPlot))\\n\\n    for colName, plotNumber in zip(colsToPlot, range(len(colsToPlot))):\\n        inpData.groupby(colName).size().plot(kind='bar',ax=subPlot[plotNumber])\""
            ]
          },
          "metadata": {
            "tags": []
          },
          "execution_count": 40
        }
      ]
    },
    {
      "cell_type": "code",
      "metadata": {
        "id": "blLu_AZp2JJ7"
      },
      "source": [
        "#PlotBarCharts(inpData=ush, colsToPlot=['areafill_0','areafill_1'])"
      ],
      "execution_count": null,
      "outputs": []
    },
    {
      "cell_type": "code",
      "metadata": {
        "id": "KCMEA47J3pYH"
      },
      "source": [
        "X=newdf[['Avg. Area Income'\t,'Avg. Area House Age',\t'Avg. Area Number of Rooms'\t,'Avg. Area Number of Bedrooms','Area Population','areafill_0','areafill_1','areafill_2','areafill_3','areafill_4','areafill_5'\t,'areafill_6']]\n",
        "Y=newdf['Price']\n",
        "\n"
      ],
      "execution_count": null,
      "outputs": []
    },
    {
      "cell_type": "code",
      "metadata": {
        "colab": {
          "base_uri": "https://localhost:8080/"
        },
        "id": "LzQkkxLQxkIv",
        "outputId": "5fd056f6-6111-4ed7-e2cd-65677a65f77e"
      },
      "source": [
        "from sklearn.model_selection import train_test_split \n",
        "X_train,X_test,Y_train,Y_test=train_test_split(X,Y,test_size=0.3,random_state=43)\n",
        "print(X_train.shape)\n",
        "print(Y_train.shape)\n",
        "print(X_test.shape)\n",
        "print(Y_test.shape)"
      ],
      "execution_count": null,
      "outputs": [
        {
          "output_type": "stream",
          "text": [
            "(3500, 12)\n",
            "(3500,)\n",
            "(1500, 12)\n",
            "(1500,)\n"
          ],
          "name": "stdout"
        }
      ]
    },
    {
      "cell_type": "code",
      "metadata": {
        "id": "pGm2AG9SazDW"
      },
      "source": [
        "import sklearn\n",
        "print(sklearn.__version__)"
      ],
      "execution_count": null,
      "outputs": []
    },
    {
      "cell_type": "code",
      "metadata": {
        "id": "XX98knbXYq_Z"
      },
      "source": [
        "#!pip uninstall scikit-learn\n",
        "#!pip install sklearn.feature_selection \n",
        "#!pip install SelectkBest'''"
      ],
      "execution_count": null,
      "outputs": []
    },
    {
      "cell_type": "code",
      "metadata": {
        "id": "tg2Y1kxL-sYu"
      },
      "source": [
        "#n!pip uninstall sklearn"
      ],
      "execution_count": null,
      "outputs": []
    },
    {
      "cell_type": "code",
      "metadata": {
        "id": "PU_iUNsd9tST"
      },
      "source": [
        "#!pip3 install scikit-learn"
      ],
      "execution_count": null,
      "outputs": []
    },
    {
      "cell_type": "code",
      "metadata": {
        "colab": {
          "base_uri": "https://localhost:8080/",
          "height": 294
        },
        "id": "rrdYIcJ6XfxV",
        "outputId": "ea281a5b-49dd-4812-9945-bc96185531c3"
      },
      "source": [
        "# Supressing the warning messages\n",
        "import warnings\n",
        "warnings.filterwarnings('ignore')\n",
        "from sklearn.feature_selection import SelectKBest\n",
        "from sklearn.feature_selection import f_regression\n",
        "import matplotlib.pyplot as plt\n",
        "from sklearn.feature_selection import mutual_info_regression\n",
        "\n",
        "# feature selection\n",
        "\n",
        "f_selector = SelectKBest(score_func=f_regression, k='all')\n",
        "\n",
        "# learn relationship from training data\n",
        "\n",
        "f_selector.fit(X_train,Y_train)\n",
        "\n",
        "# transform train input data\n",
        "\n",
        "X_train_fs = f_selector.transform(X_train)\n",
        "\n",
        " # transform test input data\n",
        "\n",
        "X_test_fs = f_selector.transform(X_test)\n",
        "\n",
        " # Plot the scores for the features\n",
        "\n",
        "plt.bar([i for i in range(len(f_selector.scores_))], f_selector.scores_)\n",
        "plt.xlabel(\"feature index\")\n",
        "\n",
        "plt.ylabel(\"F-value (transformed from the correlation values)\")\n",
        "plt.show()"
      ],
      "execution_count": null,
      "outputs": [
        {
          "output_type": "display_data",
          "data": {
            "image/png": "[encoded data removed]",
            "text/plain": [
              "<Figure size 432x288 with 1 Axes>"
            ]
          },
          "metadata": {
            "tags": [],
            "needs_background": "light"
          }
        }
      ]
    },
    {
      "cell_type": "code",
      "metadata": {
        "id": "6PVx2IPxgz-f"
      },
      "source": [
        ""
      ],
      "execution_count": null,
      "outputs": []
    }
  ]
}