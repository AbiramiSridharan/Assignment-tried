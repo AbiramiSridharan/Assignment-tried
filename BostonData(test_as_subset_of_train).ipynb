{
  "nbformat": 4,
  "nbformat_minor": 0,
  "metadata": {
    "colab": {
      "name": "BostonData(test as subset of train).ipynb",
      "provenance": [],
      "collapsed_sections": []
    },
    "kernelspec": {
      "name": "python3",
      "display_name": "Python 3"
    },
    "language_info": {
      "name": "python"
    }
  },
  "cells": [
    {
      "cell_type": "code",
      "metadata": {
        "colab": {
          "base_uri": "https://localhost:8080/"
        },
        "id": "3nGcZI2YQnae",
        "outputId": "5836cc10-d86a-40ac-8313-1a576a6f700a"
      },
      "source": [
        "import pandas as pd\n",
        "import numpy as np\n",
        "from scipy import stats\n",
        "\n",
        "\n",
        "TrainDataFrame = pd.read_csv('/content/drive/MyDrive/Colab Notebooks/colab datas/Boston.csv')\n",
        "TestDataFrame = pd.read_csv('/content/drive/MyDrive/Colab Notebooks/colab datas/bostontest.csv')\n",
        "\n",
        "Predictors =['rm', 'ptratio', 'lstat', 'rad', 'zn']\n",
        "#Predictors = ['rm', 'ptratio', 'lstat', 'rad', 'zn', 'tax', 'dis', 'nox']\n",
        "TargetVariable='medv'\n",
        "\n",
        "\n",
        "TrainDataForML = TrainDataFrame[Predictors].values\n",
        "X = TrainDataForML\n",
        "\n",
        "TestDataForML = TestDataFrame[Predictors].values\n",
        "\n",
        "TrainPredDataForML = TrainDataFrame[[TargetVariable]].values\n",
        "y = TrainPredDataForML\n",
        "TestPredDataForML = TestDataFrame[[TargetVariable]].values\n",
        "\n",
        "\n",
        "X_train=TrainDataForML\n",
        "y_train= TrainPredDataForML\n",
        "\n",
        "X_test=TestDataForML\n",
        "y_test=TestPredDataForML\n",
        "\n",
        "print(X_train.shape)\n",
        "print(y_train.shape)\n",
        "print(X_test.shape)\n",
        "print(y_test.shape)\n"
      ],
      "execution_count": null,
      "outputs": [
        {
          "output_type": "stream",
          "text": [
            "(506, 5)\n",
            "(506, 1)\n",
            "(149, 5)\n",
            "(149, 1)\n"
          ],
          "name": "stdout"
        }
      ]
    },
    {
      "cell_type": "code",
      "metadata": {
        "colab": {
          "base_uri": "https://localhost:8080/"
        },
        "id": "x5DSpmWZukrs",
        "outputId": "64be0aa6-607d-46d7-bf9f-5647c17ca548"
      },
      "source": [
        "from google.colab import drive\n",
        "drive.mount('/content/drive')"
      ],
      "execution_count": null,
      "outputs": [
        {
          "output_type": "stream",
          "text": [
            "Drive already mounted at /content/drive; to attempt to forcibly remount, call drive.mount(\"/content/drive\", force_remount=True).\n"
          ],
          "name": "stdout"
        }
      ]
    },
    {
      "cell_type": "code",
      "metadata": {
        "colab": {
          "base_uri": "https://localhost:8080/"
        },
        "id": "9ybBywZ_fbv-",
        "outputId": "0f157545-2a2c-4950-d4c0-65d688bab3d8"
      },
      "source": [
        "### Standardization of Data ###\n",
        "from sklearn.preprocessing import StandardScaler, MinMaxScaler\n",
        "#Choose either Standardisation or Normalisation\n",
        "# On this data Min and Max Normalisation produced better results\n",
        "\n",
        "#Choose between standardisation and Min Max normalisation\n",
        "#PredictorScaler = StandardScalar()\n",
        "PredictorScalar = MinMaxScaler()\n",
        "\n",
        "#Storing the fit object for later reference\n",
        "PredictorScalarFit = PredictorScalar.fit(X)\n",
        "PredictorScalarFitTest = PredictorScalar.fit(X_test)\n",
        "\n",
        "#print(PredictorScalarFit)\n",
        "print(PredictorScalarFitTest) \n",
        "\n",
        "#Generating the Standardised values of X\n",
        "X = PredictorScalarFit.transform(X)\n",
        "X_test = PredictorScalarFit.transform(X_test)\n",
        "print(X)\n"
      ],
      "execution_count": null,
      "outputs": [
        {
          "output_type": "stream",
          "text": [
            "MinMaxScaler(copy=True, feature_range=(0, 1))\n",
            "[[0.52811118 0.09230769 0.09250694 0.         0.18      ]\n",
            " [0.47946936 0.47692308 0.22078323 0.14285714 0.        ]\n",
            " [0.72078332 0.47692308 0.06321307 0.14285714 0.        ]\n",
            " ...\n",
            " [0.65476943 0.96923077 0.11285846 0.         0.        ]\n",
            " [0.59728364 0.96923077 0.13876041 0.         0.        ]\n",
            " [0.35596968 0.96923077 0.18193031 0.         0.        ]]\n"
          ],
          "name": "stdout"
        }
      ]
    },
    {
      "cell_type": "code",
      "metadata": {
        "colab": {
          "base_uri": "https://localhost:8080/"
        },
        "id": "cZBSqpk7WHaR",
        "outputId": "e7c559cb-b2f4-4554-a5b9-db8c435d3dee"
      },
      "source": [
        "# Multiple Linear Regression\n",
        "from sklearn.linear_model import LinearRegression\n",
        "RegModel = LinearRegression()\n",
        "\n",
        "# Printing all the parameters of Linear regression\n",
        "print(RegModel)\n",
        "\n",
        "# Creating the model on Training Data\n",
        "LREG=RegModel.fit(X_train,y_train)\n",
        "prediction=LREG.predict(X_test)\n",
        "\n",
        "from sklearn import metrics\n",
        "#Measuring Goodness of fit in Training Data\n",
        "print('R2 Value:', metrics.r2_score(y_train,LREG.predict(X_train)))\n",
        "\n",
        "#######################################################################\n",
        "\n",
        "print('\\n##### Model Validation and Accuracy Calculations ########')\n",
        "\n",
        "#printing the sample values for prediction\n",
        "TestingDataResults = pd.DataFrame(data=X_test, columns=Predictors) \n",
        "print(TestingDataResults)\n",
        "TestingDataResults[TargetVariable]=y_test\n",
        "TestingDataResults[('Predicted'+TargetVariable)]=np.round(prediction)\n",
        "\n",
        "#Printing sample prediction values\n",
        "print(TestingDataResults[[TargetVariable,'Predicted'+TargetVariable]].head())\n",
        "\n",
        "#calculating the error for each row\n",
        "#Mean Absolute Percentage Error\n",
        "\n",
        "TestingDataResults['APE'] = 100 * ((abs(TestingDataResults['medv']-TestingDataResults['Predictedmedv']))/TestingDataResults['medv'])\n",
        "\n",
        "\n",
        "MAPE = np.mean(TestingDataResults['APE'])\n",
        "MedianMAPE = np.median(TestingDataResults['APE'])\n",
        "\n",
        "Accuracy = 100 - MAPE\n",
        "MedianAccuracy=100 - MedianMAPE\n",
        "\n",
        "print('Mean Accuracy of Test Data:',Accuracy) # can be negative sometimes due to outlier\n",
        "print('Median Accuracy of Test Data:',MedianAccuracy)\n",
        "\n",
        "#Defining custom function to calculate Accuracy\n",
        "#Make sure that there are no Zeros in the Target variable if you are using MAPE\n",
        "def Accuracy_score(orig,pred):\n",
        "  MAPE = np.mean(100*(np.abs(orig-pred)/orig))\n",
        "  #print('#'*70,'Accuracy:',100-MAPE)\n",
        "  return(100-MAPE)\n",
        "\n",
        "#Custom Scoring MAPE Calculation\n",
        "from sklearn.metrics import make_scorer\n",
        "custom_Scoring = make_scorer(Accuracy_score, greater_is_better=True)\n",
        "\n",
        "#Importing cross validation function frok sklearn\n",
        "from sklearn.model_selection import  cross_val_score\n",
        "\n",
        "#Running 10-fold cross validation on a given algorithm  \n",
        "#Passing the complete data X and y because K-Fold will split the data automatically choose train/test \n",
        "Accuracy_Values = cross_val_score(RegModel,X,y,cv=10,scoring=custom_Scoring)\n",
        "print('\\n Accuracy values for 10-Fold Cross Validation: \\n',Accuracy_Values)\n",
        "print('\\n Final Average Accuracy of the model: \\n',round(Accuracy_Values.mean(),2))\n"
      ],
      "execution_count": null,
      "outputs": [
        {
          "output_type": "stream",
          "text": [
            "LinearRegression(copy_X=True, fit_intercept=True, n_jobs=None, normalize=False)\n",
            "R2 Value: 0.6790940548169776\n",
            "\n",
            "##### Model Validation and Accuracy Calculations ########\n",
            "           rm   ptratio     lstat       rad    zn\n",
            "0    0.528111  0.092308  0.092507  0.000000  0.18\n",
            "1    0.479469  0.476923  0.220783  0.142857  0.00\n",
            "2    0.720783  0.476923  0.063213  0.142857  0.00\n",
            "3    0.661718  0.615385  0.029602  0.285714  0.00\n",
            "4    0.708781  0.615385  0.103299  0.285714  0.00\n",
            "..        ...       ...       ...       ...   ...\n",
            "144  0.000000  0.000000  0.842121  0.571429  0.00\n",
            "145  0.387555  0.000000  0.796176  0.571429  0.00\n",
            "146  0.228996  0.000000  0.452359  0.571429  0.00\n",
            "147  0.007265  0.000000  0.849522  0.571429  0.00\n",
            "148  0.089387  0.000000  0.812211  0.571429  0.00\n",
            "\n",
            "[149 rows x 5 columns]\n",
            "   medv  Predictedmedv\n",
            "0  24.0           22.0\n",
            "1  21.6           21.0\n",
            "2  34.7           22.0\n",
            "3  33.4           22.0\n",
            "4  36.2           22.0\n",
            "Mean Accuracy of Test Data: 83.38863550582245\n",
            "Median Accuracy of Test Data: 87.86610878661088\n",
            "\n",
            " Accuracy values for 10-Fold Cross Validation: \n",
            " [88.23444966 89.38394288 83.69138384 82.45700449 85.93525106 88.0694659\n",
            " 84.21108522 48.01531498 49.70204889 85.21194959]\n",
            "\n",
            " Final Average Accuracy of the model: \n",
            " 78.49\n"
          ],
          "name": "stdout"
        }
      ]
    },
    {
      "cell_type": "code",
      "metadata": {
        "colab": {
          "base_uri": "https://localhost:8080/"
        },
        "id": "eejpeEuUvJST",
        "outputId": "ebaa7591-2666-4981-8a67-a569ec086bae"
      },
      "source": [
        "#POLYNOMIAL REGRESSION\n",
        "from sklearn.metrics import mean_squared_error, r2_score\n",
        "from sklearn.preprocessing import PolynomialFeatures\n",
        "poly_features = PolynomialFeatures(degree=1)\n",
        "X_poly = poly_features.fit_transform(X_train)\n",
        "LRpoly = LinearRegression()\n",
        "LRpoly1=LRpoly.fit(X_poly,y_train)\n",
        "Y_trainpoly_pred=LRpoly1.predict(X_poly)\n",
        "y_test_predict = LRpoly1.predict(poly_features.fit_transform(X_test))\n",
        "#print('Ytestpredict', y_test_predict)\n",
        "#rmse=np.sqrt(y_train,Y_poly_pred)\n",
        "r2 = r2_score(y_train,Y_trainpoly_pred)\n",
        "#print(\"poly rmse =\", rmse)\n",
        "print(\"poly R2=\",r2)\n",
        "\n",
        "#plt.scatter(X, y, s=10)\n",
        "\n",
        "print('\\n##### Model Validation and Accuracy Calculations ##########')\n",
        "\n",
        "# Printing some sample values of prediction\n",
        "TestingDataResults=pd.DataFrame(data=X_test, columns=Predictors)\n",
        "TestingDataResults[TargetVariable]=y_test\n",
        "TestingDataResults[('PredictedPoly'+TargetVariable)]=np.round(y_test_predict)\n",
        "\n",
        "# Printing sample prediction values\n",
        "print(TestingDataResults[[TargetVariable,'PredictedPoly'+TargetVariable]].head())\n",
        "\n",
        "# Calculating the error for each row\n",
        "# mean absolute percentage error MAPE\n",
        "TestingDataResults['APE']=100 * ((abs(\n",
        "TestingDataResults['medv']-TestingDataResults['PredictedPolymedv']))/TestingDataResults['medv'])\n",
        "\n",
        "MAPE=np.mean(TestingDataResults['APE'])\n",
        "MedianMAPE=np.median(TestingDataResults['APE'])\n",
        "\n",
        "Accuracy =100 - MAPE\n",
        "MedianAccuracy=100- MedianMAPE\n",
        "print('Mean Accuracy on test data:', Accuracy) # Can be negative sometimes due to outlier\n",
        "print('Median Accuracy on test data:', MedianAccuracy)\n",
        "\n",
        "def Accuracy_Score(orig,pred):\n",
        "    MAPE = np.mean(100 * (np.abs(orig-pred)/orig))\n",
        "    return(100-MAPE)\n",
        "\n",
        "# Custom Scoring MAPE calculation \n",
        "from sklearn.metrics import make_scorer\n",
        "scoring=make_scorer(Accuracy_Score, greater_is_better=True)\n",
        "\n",
        "# Importing cross validation function from sklearn\n",
        "from sklearn.model_selection import cross_val_score\n",
        "def create_polynomial_regression_model(degree):\n",
        " poly_features = PolynomialFeatures(degree=degree)\n",
        " X_poly = poly_features.fit_transform(X)\n",
        " poly = LinearRegression()\n",
        " return np.mean(cross_val_score(poly, X_poly, y, cv=15, scoring=scoring))\n",
        "poly_cv = []\n",
        "for i in range(1,5):\n",
        " poly_cv.append(create_polynomial_regression_model(i))\n",
        " cv=create_polynomial_regression_model(i)\n",
        " print(\"degree=\", i, 'cv=',cv)\n"
      ],
      "execution_count": null,
      "outputs": [
        {
          "output_type": "stream",
          "text": [
            "poly R2= 0.6790940548169776\n",
            "\n",
            "##### Model Validation and Accuracy Calculations ##########\n",
            "   medv  PredictedPolymedv\n",
            "0  24.0               22.0\n",
            "1  21.6               21.0\n",
            "2  34.7               22.0\n",
            "3  33.4               22.0\n",
            "4  36.2               22.0\n",
            "Mean Accuracy on test data: 83.38863550582245\n",
            "Median Accuracy on test data: 87.86610878661088\n",
            "degree= 1 cv= 79.33999292396464\n",
            "degree= 2 cv= 84.52133642443265\n",
            "degree= 3 cv= 82.52257676588015\n",
            "degree= 4 cv= 66.97341638445813\n"
          ],
          "name": "stdout"
        }
      ]
    },
    {
      "cell_type": "code",
      "metadata": {
        "colab": {
          "base_uri": "https://localhost:8080/"
        },
        "id": "-2KNIaluPQAr",
        "outputId": "bb18a3f1-8ac9-4e97-e39a-9d43daa781a6"
      },
      "source": [
        "from sklearn.metrics import mean_squared_error, r2_score\n",
        "\n",
        "\n",
        "from sklearn.preprocessing import PolynomialFeatures\n",
        "poly_features = PolynomialFeatures(degree=4)\n",
        "X_poly = poly_features.fit_transform(X_train)\n",
        "LRpoly = LinearRegression()\n",
        "LRpoly1=LRpoly.fit(X_poly,y_train)\n",
        "Y_trainpoly_pred=LRpoly1.predict(X_poly)\n",
        "y_test_predict = LRpoly1.predict(poly_features.fit_transform(X_test))\n",
        "\n",
        "#rmse=np.sqrt(y_train,Y_poly_pred)\n",
        "r2 = r2_score(y_train,Y_trainpoly_pred)\n",
        "#print(\"poly rmse =\", rmse)\n",
        "print(\"poly R2=\",r2)\n",
        "\n",
        "#plt.scatter(X, y, s=10)\n",
        "\n",
        "print('\\n##### Model Validation and Accuracy Calculations ##########')\n",
        "\n",
        "# Printing some sample values of prediction\n",
        "TestingDataResults=pd.DataFrame(data=X_test, columns=Predictors)\n",
        "TestingDataResults[TargetVariable]=y_test\n",
        "TestingDataResults[('PredictedPoly'+TargetVariable)]=np.round(y_test_predict)\n",
        "\n",
        "# Printing sample prediction values\n",
        "print(TestingDataResults[[TargetVariable,'PredictedPoly'+TargetVariable]].head())\n",
        "\n",
        "# Calculating the error for each row\n",
        "# mean absolute percentage error MAPE\n",
        "TestingDataResults['APE']=100 * ((abs(\n",
        "TestingDataResults['medv']-TestingDataResults['PredictedPolymedv']))/TestingDataResults['medv'])\n",
        "\n",
        "MAPE=np.mean(TestingDataResults['APE'])\n",
        "MedianMAPE=np.median(TestingDataResults['APE'])\n",
        "\n",
        "Accuracy =100 - MAPE\n",
        "MedianAccuracy=100- MedianMAPE\n",
        "print('Mean Accuracy on test data:', Accuracy) # Can be negative sometimes due to outlier\n",
        "print('Median Accuracy on test data:', MedianAccuracy)\n",
        "\n",
        "def Accuracy_Score(orig,pred):\n",
        "    MAPE = np.mean(100 * (np.abs(orig-pred)/orig))\n",
        "    return(100-MAPE)\n",
        "\n",
        "# Custom Scoring MAPE calculation \n",
        "from sklearn.metrics import make_scorer\n",
        "scoring=make_scorer(Accuracy_Score, greater_is_better=True)\n",
        "\n",
        "# Importing cross validation function from sklearn\n",
        "from sklearn.model_selection import cross_val_score\n",
        "def create_polynomial_regression_model(degree):\n",
        " poly_features = PolynomialFeatures(degree=degree)\n",
        " X_poly = poly_features.fit_transform(X)\n",
        " poly = LinearRegression()\n",
        " return np.mean(cross_val_score(poly, X_poly, y, cv=15, scoring=scoring))\n",
        "poly_cv = []\n",
        "for i in range(1,4):\n",
        " poly_cv.append(create_polynomial_regression_model(i))\n",
        " cv=create_polynomial_regression_model(i)\n",
        " print(\"degree=\", i, 'cv=',cv)\n",
        "\n"
      ],
      "execution_count": null,
      "outputs": [
        {
          "output_type": "stream",
          "text": [
            "poly R2= 0.8979821704108273\n",
            "\n",
            "##### Model Validation and Accuracy Calculations ##########\n",
            "   medv  PredictedPolymedv\n",
            "0  24.0              793.0\n",
            "1  21.6              896.0\n",
            "2  34.7              632.0\n",
            "3  33.4              760.0\n",
            "4  36.2              701.0\n",
            "Mean Accuracy on test data: -5554.355057738135\n",
            "Median Accuracy on test data: -5481.592039800995\n",
            "degree= 1 cv= 79.33999292396464\n",
            "degree= 2 cv= 84.52133642443265\n",
            "degree= 3 cv= 82.52257676588015\n"
          ],
          "name": "stdout"
        }
      ]
    }
  ]
}