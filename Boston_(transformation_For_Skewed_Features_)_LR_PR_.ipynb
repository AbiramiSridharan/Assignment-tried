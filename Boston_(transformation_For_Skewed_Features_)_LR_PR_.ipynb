{
  "nbformat": 4,
  "nbformat_minor": 0,
  "metadata": {
    "colab": {
      "name": " Boston (transformation For Skewed Features  ) LR PR .ipynb",
      "provenance": [],
      "collapsed_sections": [
        "WcQVUFBjjROq",
        "DBefAlWinI5o",
        "MS-LHpD6oSXf",
        "jxnZDbcNr0tr",
        "SbiMTUehtDks",
        "conqJsFWtT65",
        "49uZXwdUuQcw",
        "OyGvLRPOupTu",
        "yf26jz8Iu29O",
        "3otIXC6ZvFBI",
        "C0aoPesFvvoX",
        "f1BbNaY3wInX"
      ]
    },
    "kernelspec": {
      "name": "python3",
      "display_name": "Python 3"
    },
    "language_info": {
      "name": "python"
    }
  },
  "cells": [
    {
      "cell_type": "markdown",
      "metadata": {
        "id": "agUQn4ovgjSy"
      },
      "source": [
        "This is one of the most important steps in machine learning! You must \n",
        "\n",
        "*   List item\n",
        "*   List item\n",
        "\n",
        "understand the data and the domain well before trying to apply any machine learning algorithm.\n",
        "\n",
        "The data has one file \"BostonData.csv\". This file contains 506 house details from the Boston city."
      ]
    },
    {
      "cell_type": "code",
      "metadata": {
        "id": "zhX5i0ofWzwJ"
      },
      "source": [
        "from google.colab import drive\n",
        "drive.mount('/content/drive')"
      ],
      "execution_count": null,
      "outputs": []
    },
    {
      "cell_type": "code",
      "metadata": {
        "id": "JyZbrbCrgmLU"
      },
      "source": [
        "# Supressing the warning messages\n",
        "import warnings\n",
        "warnings.filterwarnings('ignore')"
      ],
      "execution_count": null,
      "outputs": []
    },
    {
      "cell_type": "markdown",
      "metadata": {
        "id": "Rt9n4QM1hHF6"
      },
      "source": [
        "**Data description**\n",
        "\n",
        "*The business meaning of each column in the data is as below*\n",
        "\n",
        "*   CRIM - per capita crime rate by town\n",
        "*   ZN - proportion of residential land zoned for lots over 25,000 sq.ft.\n",
        "*   INDUS - proportion of non-retail business acres per town.\n",
        "*   CHAS - Charles River dummy variable (1 if tract bounds river; 0 otherwise)\n",
        "*   NOX - nitric oxides concentration (parts per 10 million)\n",
        "*   RM - average number of rooms per dwelling\n",
        "*   AGE - proportion of owner-occupied units built prior to 1940\n",
        "*   DIS - weighted distances to five Boston employment centres\n",
        "*   RAD - index of accessibility to radial highways\n",
        "*   TAX - full-value property-tax rate per 10,000 dollars\n",
        "*   PTRATIO - pupil/teacher ratio by town\n",
        "*   B - 1000(Bk - 0.63)^2 where Bk is the proportion of blacks by town\n",
        "*   LSTAT - % lower status of the population\n",
        "*   MEDV - Median value of owner-occupied homes in $1000's"
      ]
    },
    {
      "cell_type": "code",
      "metadata": {
        "id": "y-mvQxT1g0rY"
      },
      "source": [
        "# Reading the dataset\n",
        "import pandas as pd\n",
        "import numpy as np\n",
        "BostonData=pd.read_csv('/content/drive/MyDrive/Colab Notebooks/colab datas/Boston.csv')\n",
        "print('Shape before deleting duplicate values:', BostonData.shape)\n",
        "\n",
        "# Removing duplicate rows if any\n",
        "BostonData=BostonData.drop_duplicates()\n",
        "print('Shape After deleting duplicate values:', BostonData.shape)\n",
        "\n",
        "# Printing sample data\n",
        "# Start observing the Quantitative/Categorical/Qualitative variables\n",
        "BostonData.head(10)"
      ],
      "execution_count": null,
      "outputs": []
    },
    {
      "cell_type": "markdown",
      "metadata": {
        "id": "WcQVUFBjjROq"
      },
      "source": [
        "# Defining the problem statement:\n",
        "##  Create a ML model which can predict the price( MEDV ) of a house\n",
        "*  Target Variable: MEDV\n",
        "*\t Predictors: CRIM, ZN, INDUS, CHASd, NOX, RM, etc.\n",
        "## Determining the type of Machine Learning\n",
        "*  Based on the problem statement you can understand that we need to create a supervised ML Regression model, as the target variable is Continuous.\n",
        "## Looking at the distribution of Target variable\n",
        "*  If target variable's distribution is too skewed then the predictive modeling will not be possible.\n",
        "*  Bell curve is desirable but slightly positive skew or negative skew is also fine\n",
        "* When performing Regression, make sure the histogram looks like a bell curve or slight skewed version of it. Otherwise it impacts the Machine Learning algorithms ability to learn all the scenarios.\n"
      ]
    },
    {
      "cell_type": "code",
      "metadata": {
        "id": "fnAjfXIDi_1o"
      },
      "source": [
        "%matplotlib inline\n",
        "# Creating Bar chart as the Target variable is Continuous\n",
        "BostonData['medv'].hist()"
      ],
      "execution_count": null,
      "outputs": []
    },
    {
      "cell_type": "markdown",
      "metadata": {
        "id": "SmpEJjqJmuxP"
      },
      "source": [
        "The data distribution of the target variable is satisfactory to proceed further. There are sufficient number of rows for each type of values to learn from."
      ]
    },
    {
      "cell_type": "markdown",
      "metadata": {
        "id": "DBefAlWinI5o"
      },
      "source": [
        "## Basic Data Exploration\n",
        "### This step is performed to guage the overall data. The volume of data, the types of columns present in the data. Initial assessment of the data should be done to identify which columns are Quantitative, Categorical or Qualitative.\n",
        "\n",
        "### This step helps to start the column rejection process. You must look at each column carefully and ask, does this column affect the values of the Target variable? For example in this case study, you will ask, does this column affect the price of the house? If the answer is a clear \"No\", then remove the column immediately from the data, otherwise keep the column for further analysis.\n",
        "\n",
        "### There are four commands which are used for Basic data exploration in Python\n",
        "\n",
        "*   head() : This helps to see a few sample rows of the data\n",
        "*   info() : This provides the summarized information of the data\n",
        "*   describe() : This provides the descriptive statistical details of the data\n",
        "*   nunique(): This helps us to identify if a column is categorical or continuous"
      ]
    },
    {
      "cell_type": "code",
      "metadata": {
        "id": "VGtXoP4xmsEy"
      },
      "source": [
        "# Looking at sample rows in the data\n",
        "BostonData.head()"
      ],
      "execution_count": null,
      "outputs": []
    },
    {
      "cell_type": "code",
      "metadata": {
        "id": "xzEB6eTan6dA"
      },
      "source": [
        "# Observing the summarized information of data\n",
        "# Data types, Missing values based on number of non-null values Vs total rows etc.\n",
        "# Remove those variables from data which have too many missing values (Missing Values > 30%)\n",
        "# Remove Qualitative variables which cannot be used in Machine Learning\n",
        "BostonData.info()"
      ],
      "execution_count": null,
      "outputs": []
    },
    {
      "cell_type": "code",
      "metadata": {
        "id": "u8hcsfztoAyM"
      },
      "source": [
        "# Looking at the descriptive statistics of the data\n",
        "BostonData.describe(include='all')"
      ],
      "execution_count": null,
      "outputs": []
    },
    {
      "cell_type": "code",
      "metadata": {
        "id": "DVJulyXvoIMy"
      },
      "source": [
        "# Finging unique values for each column\n",
        "# TO understand which column is categorical and which one is Continuous\n",
        "# Typically if the numer of unique values are < 20 then the variable is likely to be a category otherwise continuous\n",
        "BostonData.nunique()"
      ],
      "execution_count": null,
      "outputs": []
    },
    {
      "cell_type": "markdown",
      "metadata": {
        "id": "MS-LHpD6oSXf"
      },
      "source": [
        "#Basic Data Exploration Results\n",
        "###Based on the basic exploration above, you can now create a simple report of the data, noting down your observations regaring each column. Hence, creating a initial roadmap for further analysis.\n",
        "\n",
        "###The selected columns in this step are not final, further study will be done and then a final list will be created\n",
        "\n",
        "*  CRIM - Continuous. Selected.\n",
        "*  ZN - Continuous. Selected.\n",
        "*  INDUS - Continuous. Selected.\n",
        "*  CHAS - Categorical. Selected.\n",
        "*  NOX - Continuous. Selected.\n",
        "*  RM - Continuous. Selected.\n",
        "*  AGE - Continuous. Selected.\n",
        "*  DIS - Continuous. Selected.\n",
        "*  RAD - Categorical. Selected.\n",
        "*  TAX - Continuous. Selected.\n",
        "*  PTRATIO - Continuous. Selected.\n",
        "*  B - Continuous. Selected.\n",
        "*  LSTAT - Continuous. Selected.\n",
        "*  MEDV - Continuous. Selected. This is the Target Variable!"
      ]
    },
    {
      "cell_type": "markdown",
      "metadata": {
        "id": "i-GWfgTlp-0j"
      },
      "source": [
        "# Visual Exploratory Data Analysis\n",
        "\n",
        "*   Categorical variables: Bar plot\n",
        "*   Continuous variables: Histogram\n",
        "\n",
        "### Visualize distribution of all the Categorical Predictor variables in the data using bar plot\n",
        "\n",
        "We can spot a categorical variable in the data by looking at the unique values in them. Typically a categorical variable contains less than 20 Unique values AND there is repetition of values, which means the data can be grouped by those unique values.\n",
        "\n",
        "Based on the Basic Data Exploration above, we have spotted two categorical predictors in the data\n",
        "\n",
        "**Categorical Predictors:**\n",
        "\n",
        "'CHAS', 'RAD'\n",
        "\n",
        "We use bar charts to see how the data is distributed for these categorical columns.\n",
        "\n"
      ]
    },
    {
      "cell_type": "code",
      "metadata": {
        "id": "nixmaDziqW_L"
      },
      "source": [
        "# Plotting multiple bar charts at once for categorical variables\n",
        "# Since there is no default function which can plot bar charts for multiple columns at once\n",
        "# we are defining our own function for the same\n",
        "\n",
        "def PlotBarCharts(inpData, colsToPlot):\n",
        "    %matplotlib inline\n",
        "    \n",
        "    import matplotlib.pyplot as plt\n",
        "    \n",
        "    # Generating multiple subplots\n",
        "    fig, subPlot=plt.subplots(nrows=1, ncols=len(colsToPlot), figsize=(20,5))\n",
        "    fig.suptitle('Bar charts of: '+ str(colsToPlot))\n",
        "\n",
        "    for colName, plotNumber in zip(colsToPlot, range(len(colsToPlot))):\n",
        "        inpData.groupby(colName).size().plot(kind='bar',ax=subPlot[plotNumber])"
      ],
      "execution_count": null,
      "outputs": []
    },
    {
      "cell_type": "code",
      "metadata": {
        "id": "tPfQIpWtqbSS"
      },
      "source": [
        "#####################################################################\n",
        "# Calling the function\n",
        "PlotBarCharts(inpData=BostonData, colsToPlot=['chas','rad'])"
      ],
      "execution_count": null,
      "outputs": []
    },
    {
      "cell_type": "markdown",
      "metadata": {
        "id": "k6eeZsdNquLC"
      },
      "source": [
        "#Bar Charts Interpretation\n",
        "###These bar charts represent the frequencies of each category in the Y-axis and the category names in the X-axis.\n",
        "\n",
        "###In the ideal bar chart each category has comparable frequency. Hence, there are enough rows for each category in the data for the ML algorithm to learn.\n",
        "\n",
        "###If there is a column which shows too skewed distribution where there is only one dominant bar and the other categories are present in very low numbers. These kind of columns may not be very helpful in machine learning. We confirm this in the correlation analysis section and take a final call to select or reject the column.\n",
        "\n",
        "###In this data, \"CHAS\" is skewed. There is just one bar which is dominating and other one have very less rows. Such columns may not be correlated with the target variable because there is no information to learn. The algorithms cannot find any rule like when the value is this then the target variable is that.\n",
        "\n",
        "###Whenever in doubt, always investigate the column further.\n",
        "\n",
        "## **Selected Categorical Variables:** Both the categorical variables are selected for further analysis.\n",
        "\n",
        "###  'CHAS', 'RAD'\n",
        "\n",
        "#Visualize distribution of all the Continuous Predictor variables in the data using histograms\n",
        "### Based on the Basic Data Exploration, there are eleven continuous predictor variables 'CRIM', 'ZN', 'INDUS', 'NOX', 'RM', 'AGE', 'DIS', 'TAX', 'PTRATIO', 'B', and 'LSTAT'."
      ]
    },
    {
      "cell_type": "code",
      "metadata": {
        "id": "GZXduw-Pqp-W"
      },
      "source": [
        "# Plotting histograms of multiple columns together\n",
        "BostonData.hist(['crim', 'zn', 'indus', 'nox', 'rm', 'age', 'dis', 'tax',\n",
        "                 'ptratio', 'black', 'lstat'], figsize=(18,10))"
      ],
      "execution_count": null,
      "outputs": []
    },
    {
      "cell_type": "markdown",
      "metadata": {
        "id": "jxnZDbcNr0tr"
      },
      "source": [
        "#Histogram Interpretation\n",
        "## Histograms shows us the data distribution for a single continuous variable.\n",
        "\n",
        "### The X-axis shows the range of values and Y-axis represent the number of values in that range. For example, in the above histogram of \"AGE\", there are around 200 rows in data that has age value between 90 to 100.\n",
        "\n",
        "### The ideal outcome for histogram is a bell curve or slightly skewed bell curve. If there is too much skewness, then outlier treatment should be done and the column should be re-examined, if that also does not solve the problem then only reject the column.\n",
        "\n",
        "## **Selected Continuous Variables:**\n",
        "\n",
        "*   CRIM : Selected. Outliers seen beyond 40, need to treat them.\n",
        "*   ZN : Selected. The distribution is good.\n",
        "*   INDUS : Selected. The distribution is good.\n",
        "*   NOX : Selected. The distribution is good.\n",
        "*   RM : Selected. The distribution is good.\n",
        "*   AGE : Selected. The distribution is good.\n",
        "*   DIS : Selected. The distribution is good.\n",
        "*   TAX : Selected. The distribution is good.\n",
        "*   PTRATIO : Selected. The distribution is good.\n",
        "*   Black: Selected. The distribution is good.\n",
        "*   LSTAT: Selected. The distribution is good."
      ]
    },
    {
      "cell_type": "markdown",
      "metadata": {
        "id": "7HiAD_stsSlW"
      },
      "source": [
        "#Outlier treatment\n",
        "###Outliers are extreme values in the data which are far away from most of the values. You can see them as the tails in the histogram.\n",
        "\n",
        "##Outlier must be treated one column at a time. As the treatment will be slightly different for each column.\n",
        "\n",
        "##Why I should treat the outliers?\n",
        "\n",
        "##Outliers bias the training of machine learning models. As the algorithm tries to fit the extreme value, it goes away from majority of the data.\n",
        "\n",
        "##There are below two options to treat outliers in the data.\n",
        "\n",
        "*   Option-1: Delete the outlier Records. Only if there are just few rows lost.\n",
        "*   Option-2: Impute the outlier values with a logical business value\n",
        "*   Below we are finding out the most logical value to be replaced in place of outliers by looking at the histogram.\n",
        "\n",
        "###Replacing outliers for 'CRIM'"
      ]
    },
    {
      "cell_type": "code",
      "metadata": {
        "id": "nJe4UInkrx5h"
      },
      "source": [
        "# Finding nearest values to 60 mark\n",
        "BostonData['crim'][BostonData['crim']<60].sort_values(ascending=False)"
      ],
      "execution_count": null,
      "outputs": []
    },
    {
      "cell_type": "markdown",
      "metadata": {
        "id": "Jz0-idGtswQ-"
      },
      "source": [
        "Above result shows the nearest logical value is 51.13, hence, replacing any value above 60 with it."
      ]
    },
    {
      "cell_type": "code",
      "metadata": {
        "id": "8vaE-hGYsxL0"
      },
      "source": [
        " # Replacing outliers with nearest possibe value\n",
        "BostonData['crim'][BostonData['crim']>60] =51.13"
      ],
      "execution_count": null,
      "outputs": []
    },
    {
      "cell_type": "markdown",
      "metadata": {
        "id": "SbiMTUehtDks"
      },
      "source": [
        "#Visualizing distribution after outlier treatment\n",
        "### The distribution has improved after the outlier treatment. There is still a tail but it is thick, that means there are many values in that range, hence, it is acceptable."
      ]
    },
    {
      "cell_type": "code",
      "metadata": {
        "id": "dQAf2O1gtH0f"
      },
      "source": [
        "BostonData.hist(['crim'], figsize=(18,5))\n"
      ],
      "execution_count": null,
      "outputs": []
    },
    {
      "cell_type": "markdown",
      "metadata": {
        "id": "conqJsFWtT65"
      },
      "source": [
        "#Missing values treatment\n",
        "##Missing values are treated for each column separately.\n",
        "\n",
        "##If a column has more than 30% data missing, then missing value treatment cannot be done. That column must be rejected because too much information is missing.\n",
        "\n",
        "##There are below options for treating missing values in data.\n",
        "\n",
        "*  Delete the missing value rows if there are only few records\n",
        "*  Impute the missing values with MEDIAN value for continuous variables\n",
        "*  Impute the missing values with MODE value for categorical variables\n",
        "*  Interpolate the values based on nearby values\n",
        "*  Interpolate the values based on business logic"
      ]
    },
    {
      "cell_type": "code",
      "metadata": {
        "id": "YBuiEeGWlNCd"
      },
      "source": [
        "BostonData.shape"
      ],
      "execution_count": null,
      "outputs": []
    },
    {
      "cell_type": "code",
      "metadata": {
        "id": "8GLQO1vulyaa"
      },
      "source": [
        "X=BostonData.iloc[:,:-1]\n",
        "Y=BostonData['medv']\n",
        "X.head()\n"
      ],
      "execution_count": null,
      "outputs": []
    },
    {
      "cell_type": "code",
      "metadata": {
        "id": "rMuapiNwmOgK"
      },
      "source": [
        "Y.head()"
      ],
      "execution_count": null,
      "outputs": []
    },
    {
      "cell_type": "markdown",
      "metadata": {
        "id": "ZnwYMnvbtkdi"
      },
      "source": [
        "No missing values in this data!!\n"
      ]
    },
    {
      "cell_type": "code",
      "metadata": {
        "id": "b5FdO9dIktLe"
      },
      "source": [
        "'''from sklearn.feature_selection import SelectKBest\n",
        "from sklearn.feature_selection import f_regression\n",
        "import matplotlib.pyplot as plt\n",
        "from sklearn.feature_selection import mutual_info_regression\n",
        "from sklearn.feature_selection import chi2\n",
        "f_selector = SelectKBest(score_func=chi2, k=13)\n",
        "f_selector.fit(X,Y)\n",
        "\n",
        "\n",
        "dfscore=pd.Dataframe(order.score_)\n",
        "feature_rank.nlargest(10,'score')\n",
        "'''"
      ],
      "execution_count": null,
      "outputs": []
    },
    {
      "cell_type": "code",
      "metadata": {
        "id": "zTQ6eMM3klR3"
      },
      "source": [
        "from sklearn.feature_selection import SelectKBest\n",
        "from sklearn.feature_selection import f_regression\n",
        "import matplotlib.pyplot as plt\n",
        "from sklearn.feature_selection import mutual_info_regression\n",
        "from sklearn.feature_selection import chi2\n",
        "# feature selection\n",
        "\n",
        "f_selector = SelectKBest(score_func=f_regression, k=13)\n",
        "# Plot the scores for the features\n",
        "f_selector.fit(X,Y)\n",
        "\n",
        "plt.bar([i for i in range(len(f_selector.scores_))], f_selector.scores_)\n",
        "plt.xlabel(\"feature index\")\n",
        "\n",
        "plt.ylabel(\"F-value (transformed from the correlation values)\")\n",
        "plt.show()\n",
        "\n",
        "\n"
      ],
      "execution_count": null,
      "outputs": []
    },
    {
      "cell_type": "code",
      "metadata": {
        "id": "4gLQLs-iiz4N"
      },
      "source": [
        "BostonData.isnull().sum()"
      ],
      "execution_count": null,
      "outputs": []
    },
    {
      "cell_type": "markdown",
      "metadata": {
        "id": "C8gWijbNVmyO"
      },
      "source": [
        "BostonData.isnull().sum()\n",
        "#these are selected columns at first\n",
        "#SelectedColumns=['rm', 'ptratio','lstat', 'rad', 'zn']\n",
        "#new selected columns\n",
        "SelectedColumn=[# Separate Target Variable and Predictor Variables\n",
        "TargetVariable='medv'\n",
        "Predictors=['crim', 'indus', 'rm', 'rad', 'tax', 'ptratio', 'lstat']\n",
        "X=DataForML_Numeric[Predictors].values\n",
        "y=DataForML_Numeric[TargetVariable].values\n",
        "### Sandardization of data ###\n",
        "from sklearn.preprocessing import StandardScaler, MinMaxScaler\n",
        "# Choose either standardization or Normalization\n",
        "# On this data Min Max Normalization produced better results\n",
        "\n",
        "# Choose between standardization and MinMAx normalization\n",
        "#PredictorScaler=StandardScaler()\n",
        "PredictorScaler=MinMaxScaler()\n",
        "\n",
        "# Storing the fit object for later reference\n",
        "PredictorScalerFit=PredictorScaler.fit(X)\n",
        "print(PredictorScalerFit)\n",
        "# Generating the standardized values of X\n",
        "X=PredictorScalerFit.transform(X)\n",
        "print(X)\n",
        "# Split the data into training and testing set\n",
        "from sklearn.model_selection import train_test_split\n",
        "X_train, X_test, y_train, y_test = train_test_split(X, y, test_size=0.3, random_state=23)]"
      ]
    },
    {
      "cell_type": "code",
      "metadata": {
        "id": "SedV94HGTfru"
      },
      "source": [
        "'''dfscore=pd.DataFrame(f_selector.scores_,columns=['Scores'])\n",
        "dfcolumn=pd.DataFrame(X.columns)\n",
        "featurerank=pd.concat([dfscore,dfcolumn],axis=1)\n",
        "featurerank.columns=['features','scores']\n",
        "featurerank.nlargest(10,'Scores')'''\n"
      ],
      "execution_count": null,
      "outputs": []
    },
    {
      "cell_type": "code",
      "metadata": {
        "id": "HCbZsF4jbeQX"
      },
      "source": [
        "# performing transformation for skewed datas\n",
        "#SelectedColumns=['crim','indus','rm','age','rad','tax','ptratio','lstat']\n",
        "# Plotting histograms of multiple columns together\n",
        "BostonData.hist(['crim','indus','rm','age','rad','tax','ptratio','lstat'], figsize=(18,10))"
      ],
      "execution_count": null,
      "outputs": []
    },
    {
      "cell_type": "markdown",
      "metadata": {
        "id": "B23wwCtKfkgZ"
      },
      "source": [
        "# performing transformation for skewed datas\n",
        "#SelectedColumns=['crim','indus','rm','age','rad','tax','ptratio','lstat'] \n",
        "\n"
      ]
    },
    {
      "cell_type": "code",
      "metadata": {
        "id": "IlJgoc-Fc41F"
      },
      "source": [
        "import scipy.stats as stats\n",
        "import pylab\n",
        "def plotdata(BostonData,features):\n",
        "  plt.subplot(1,2,1)\n",
        "  BostonData[features].hist()\n",
        "  plt.subplot(1,2,2)\n",
        "  stats.probplot(BostonData[features],dist='norm',plot=pylab)\n"
      ],
      "execution_count": null,
      "outputs": []
    },
    {
      "cell_type": "markdown",
      "metadata": {
        "id": "zDv-FsWdieAM"
      },
      "source": [
        "For **AGE**"
      ]
    },
    {
      "cell_type": "code",
      "metadata": {
        "colab": {
          "base_uri": "https://localhost:8080/",
          "height": 295
        },
        "id": "5C3H2GoWgnmH",
        "outputId": "3ffa0f1c-c2a7-4154-e412-ece386ffb778"
      },
      "source": [
        "#no transformation\n",
        "Bd=BostonData\n",
        "Bd['Age']=Bd.age\n",
        "plotdata(Bd,'Age')"
      ],
      "execution_count": null,
      "outputs": [
        {
          "output_type": "display_data",
          "data": {
            "image/png": "[encoded data removed]",
            "text/plain": [
              "<Figure size 432x288 with 2 Axes>"
            ]
          },
          "metadata": {
            "tags": [],
            "needs_background": "light"
          }
        }
      ]
    },
    {
      "cell_type": "code",
      "metadata": {
        "colab": {
          "base_uri": "https://localhost:8080/",
          "height": 295
        },
        "id": "O2h1lqD4gQy9",
        "outputId": "3c966e2b-17f7-4ab2-8ca6-9c9ee2fd238e"
      },
      "source": [
        "#logarthmic Transformation\n",
        "Bd['Age_log']=np.log(Bd['age'])\n",
        "plotdata(Bd,'Age_log')"
      ],
      "execution_count": null,
      "outputs": [
        {
          "output_type": "display_data",
          "data": {
            "image/png": "[encoded data removed]",
            "text/plain": [
              "<Figure size 432x288 with 2 Axes>"
            ]
          },
          "metadata": {
            "tags": [],
            "needs_background": "light"
          }
        }
      ]
    },
    {
      "cell_type": "code",
      "metadata": {
        "colab": {
          "base_uri": "https://localhost:8080/",
          "height": 295
        },
        "id": "NjUWygEAhEA4",
        "outputId": "78b57ef6-1b85-445d-dcc3-d2c081ce9437"
      },
      "source": [
        "#Square root\n",
        "Bd['Age_squ']=Bd.age**(1/2)\n",
        "plotdata(Bd,'Age_squ')"
      ],
      "execution_count": null,
      "outputs": [
        {
          "output_type": "display_data",
          "data": {
            "image/png": "[encoded data removed]",
            "text/plain": [
              "<Figure size 432x288 with 2 Axes>"
            ]
          },
          "metadata": {
            "tags": [],
            "needs_background": "light"
          }
        }
      ]
    },
    {
      "cell_type": "code",
      "metadata": {
        "id": "IZBDx4ZYhSth"
      },
      "source": [
        "#Exponential Transformation\n",
        "Bd['Age_exp']=Bd.age**(1/1.2)\n",
        "plotdata(Bd,'Age_exp')"
      ],
      "execution_count": null,
      "outputs": []
    },
    {
      "cell_type": "code",
      "metadata": {
        "id": "8-Uxq7bUezfA"
      },
      "source": [
        "#Reciprocal Transformation\n",
        "Bd['Age_rec']=1/Bd.age\n",
        "plotdata(Bd,'Age_rec')"
      ],
      "execution_count": null,
      "outputs": []
    },
    {
      "cell_type": "code",
      "metadata": {
        "id": "RxsStB1-hm93"
      },
      "source": [
        "#box cox Transformation\n",
        "Bd['Age_box'],param=stats.boxcox(Bd['age'])\n",
        "plotdata(Bd,'Age_box')"
      ],
      "execution_count": null,
      "outputs": []
    },
    {
      "cell_type": "markdown",
      "metadata": {
        "id": "f23xf5cWikIe"
      },
      "source": [
        "# For TAX\n"
      ]
    },
    {
      "cell_type": "code",
      "metadata": {
        "id": "tUouPXXDijuX"
      },
      "source": [
        "#no Transformation(TAX)\n",
        "Bd['Tax']=Bd.tax\n",
        "plotdata(Bd,'Tax')\n"
      ],
      "execution_count": null,
      "outputs": []
    },
    {
      "cell_type": "code",
      "metadata": {
        "id": "HYVkShblm3L6"
      },
      "source": [
        "#Reciprocal Transformation\n",
        "Bd['tax_rec']=1/Bd.tax\n",
        "plotdata(Bd,'tax_rec')"
      ],
      "execution_count": null,
      "outputs": []
    },
    {
      "cell_type": "code",
      "metadata": {
        "colab": {
          "base_uri": "https://localhost:8080/",
          "height": 295
        },
        "id": "BWPBGGOhlf_m",
        "outputId": "7209080b-b51f-4d80-b2fd-d10fbe65348f"
      },
      "source": [
        "#logarthmic Transformation\n",
        "Bd['tax_log']=np.log(Bd['tax'])\n",
        "plotdata(Bd,'tax_log')"
      ],
      "execution_count": null,
      "outputs": [
        {
          "output_type": "display_data",
          "data": {
            "image/png": "[encoded data removed]",
            "text/plain": [
              "<Figure size 432x288 with 2 Axes>"
            ]
          },
          "metadata": {
            "tags": [],
            "needs_background": "light"
          }
        }
      ]
    },
    {
      "cell_type": "code",
      "metadata": {
        "colab": {
          "base_uri": "https://localhost:8080/",
          "height": 295
        },
        "id": "8oiWAzatl-eu",
        "outputId": "c2d45d28-06d0-4c76-8820-09fcbf0f61be"
      },
      "source": [
        "#boxcox transformation\n",
        "Bd['tax_box'],param=stats.boxcox(Bd['tax'])\n",
        "plotdata(Bd,'tax_box')"
      ],
      "execution_count": null,
      "outputs": [
        {
          "output_type": "display_data",
          "data": {
            "image/png": "[encoded data removed]",
            "text/plain": [
              "<Figure size 432x288 with 2 Axes>"
            ]
          },
          "metadata": {
            "tags": [],
            "needs_background": "light"
          }
        }
      ]
    },
    {
      "cell_type": "code",
      "metadata": {
        "colab": {
          "base_uri": "https://localhost:8080/",
          "height": 295
        },
        "id": "7MxCmRQ9nPgM",
        "outputId": "acb7f37b-4e5f-4828-c969-79f6c5a50105"
      },
      "source": [
        "#Square root\n",
        "Bd['tax_squ']=Bd.tax**(1/2)\n",
        "plotdata(Bd,'tax_squ')"
      ],
      "execution_count": null,
      "outputs": [
        {
          "output_type": "display_data",
          "data": {
            "image/png": "[encoded data removed]",
            "text/plain": [
              "<Figure size 432x288 with 2 Axes>"
            ]
          },
          "metadata": {
            "tags": [],
            "needs_background": "light"
          }
        }
      ]
    },
    {
      "cell_type": "code",
      "metadata": {
        "colab": {
          "base_uri": "https://localhost:8080/",
          "height": 295
        },
        "id": "umk50DQkngUS",
        "outputId": "e88528b7-935c-430c-b9e3-b747573d0b32"
      },
      "source": [
        "#Exponential Transformation\n",
        "Bd['tax_exp']=Bd.tax**(1/1.2)\n",
        "plotdata(Bd,'tax_exp')"
      ],
      "execution_count": null,
      "outputs": [
        {
          "output_type": "display_data",
          "data": {
            "image/png": "[encoded data removed]",
            "text/plain": [
              "<Figure size 432x288 with 2 Axes>"
            ]
          },
          "metadata": {
            "tags": [],
            "needs_background": "light"
          }
        }
      ]
    },
    {
      "cell_type": "markdown",
      "metadata": {
        "id": "utDd-Q-0nz2W"
      },
      "source": [
        "**For INDUS**\n"
      ]
    },
    {
      "cell_type": "code",
      "metadata": {
        "colab": {
          "base_uri": "https://localhost:8080/",
          "height": 295
        },
        "id": "BYlP3Mnbn8Fm",
        "outputId": "f634cae1-1250-4d20-b60b-3321414ecdae"
      },
      "source": [
        "# no transformation\n",
        "Bd['indus']=Bd.indus\n",
        "plotdata(Bd,'indus')"
      ],
      "execution_count": null,
      "outputs": [
        {
          "output_type": "display_data",
          "data": {
            "image/png": "[encoded data removed]",
            "text/plain": [
              "<Figure size 432x288 with 2 Axes>"
            ]
          },
          "metadata": {
            "tags": [],
            "needs_background": "light"
          }
        }
      ]
    },
    {
      "cell_type": "code",
      "metadata": {
        "colab": {
          "base_uri": "https://localhost:8080/",
          "height": 295
        },
        "id": "gcsEVHbooNLH",
        "outputId": "29041948-0a62-4c30-d6c3-afadbf28f96e"
      },
      "source": [
        "#Exponential Transformation\n",
        "Bd['indus_exp']=Bd.indus**(1/1.2)\n",
        "plotdata(Bd,'indus_exp')"
      ],
      "execution_count": null,
      "outputs": [
        {
          "output_type": "display_data",
          "data": {
            "image/png": "[encoded data removed]",
            "text/plain": [
              "<Figure size 432x288 with 2 Axes>"
            ]
          },
          "metadata": {
            "tags": [],
            "needs_background": "light"
          }
        }
      ]
    },
    {
      "cell_type": "code",
      "metadata": {
        "colab": {
          "base_uri": "https://localhost:8080/",
          "height": 295
        },
        "id": "uqGQN7DjoWOo",
        "outputId": "21d8b866-4d0e-4f22-9cab-0d63ff3857c6"
      },
      "source": [
        "#Square root\n",
        "Bd['indus_squ']=Bd.indus**(1/2)\n",
        "plotdata(Bd,'indus_squ')"
      ],
      "execution_count": null,
      "outputs": [
        {
          "output_type": "display_data",
          "data": {
            "image/png": "[encoded data removed]",
            "text/plain": [
              "<Figure size 432x288 with 2 Axes>"
            ]
          },
          "metadata": {
            "tags": [],
            "needs_background": "light"
          }
        }
      ]
    },
    {
      "cell_type": "code",
      "metadata": {
        "colab": {
          "base_uri": "https://localhost:8080/",
          "height": 295
        },
        "id": "Hx75lKIAomUy",
        "outputId": "fb5227e0-5f69-463e-c7c0-86a0e92170e7"
      },
      "source": [
        "#boxcox transformation\n",
        "Bd['indus_box'],param=stats.boxcox(Bd['indus'])\n",
        "plotdata(Bd,'indus_box')"
      ],
      "execution_count": null,
      "outputs": [
        {
          "output_type": "display_data",
          "data": {
            "image/png": "[encoded data removed]",
            "text/plain": [
              "<Figure size 432x288 with 2 Axes>"
            ]
          },
          "metadata": {
            "tags": [],
            "needs_background": "light"
          }
        }
      ]
    },
    {
      "cell_type": "markdown",
      "metadata": {
        "id": "I-iQ2u-Jo45_"
      },
      "source": [
        "**For Ptratio**"
      ]
    },
    {
      "cell_type": "code",
      "metadata": {
        "colab": {
          "base_uri": "https://localhost:8080/",
          "height": 295
        },
        "id": "t5j2fBhWo-0G",
        "outputId": "04583b12-a8cc-43fc-c8e8-6d195c97c17a"
      },
      "source": [
        "#boxcox transformation\n",
        "Bd['ptratio']=Bd['ptratio']\n",
        "plotdata(Bd,'ptratio')"
      ],
      "execution_count": null,
      "outputs": [
        {
          "output_type": "display_data",
          "data": {
            "image/png": "[encoded data removed]",
            "text/plain": [
              "<Figure size 432x288 with 2 Axes>"
            ]
          },
          "metadata": {
            "tags": [],
            "needs_background": "light"
          }
        }
      ]
    },
    {
      "cell_type": "code",
      "metadata": {
        "colab": {
          "base_uri": "https://localhost:8080/",
          "height": 295
        },
        "id": "3QgHh-X9pjbZ",
        "outputId": "f615e6d8-7880-422b-dcc4-cc97021e515b"
      },
      "source": [
        "#boxcox transformation\n",
        "Bd['ptratio_box'],param=stats.boxcox(Bd['ptratio'])\n",
        "plotdata(Bd,'ptratio_box')"
      ],
      "execution_count": null,
      "outputs": [
        {
          "output_type": "display_data",
          "data": {
            "image/png": "[encoded data removed]",
            "text/plain": [
              "<Figure size 432x288 with 2 Axes>"
            ]
          },
          "metadata": {
            "tags": [],
            "needs_background": "light"
          }
        }
      ]
    },
    {
      "cell_type": "code",
      "metadata": {
        "colab": {
          "base_uri": "https://localhost:8080/",
          "height": 295
        },
        "id": "ZatCXxropyUm",
        "outputId": "16fa14bc-97b7-4a21-9951-df4eb7e86bf9"
      },
      "source": [
        "#Square root\n",
        "Bd['ptratio_squ']=Bd.ptratio**(1/2)\n",
        "plotdata(Bd,'ptratio_squ')"
      ],
      "execution_count": null,
      "outputs": [
        {
          "output_type": "display_data",
          "data": {
            "image/png": "[encoded data removed]",
            "text/plain": [
              "<Figure size 432x288 with 2 Axes>"
            ]
          },
          "metadata": {
            "tags": [],
            "needs_background": "light"
          }
        }
      ]
    },
    {
      "cell_type": "code",
      "metadata": {
        "colab": {
          "base_uri": "https://localhost:8080/",
          "height": 295
        },
        "id": "Wpcs4bN4p9VM",
        "outputId": "162c920e-eb47-453b-e764-cb66fa43ee11"
      },
      "source": [
        "#Exponential Transformation\n",
        "Bd['ptratio_exp']=Bd.ptratio**(1/1.2)\n",
        "plotdata(Bd,'ptratio_exp')"
      ],
      "execution_count": null,
      "outputs": [
        {
          "output_type": "display_data",
          "data": {
            "image/png": "[encoded data removed]",
            "text/plain": [
              "<Figure size 432x288 with 2 Axes>"
            ]
          },
          "metadata": {
            "tags": [],
            "needs_background": "light"
          }
        }
      ]
    },
    {
      "cell_type": "code",
      "metadata": {
        "colab": {
          "base_uri": "https://localhost:8080/",
          "height": 295
        },
        "id": "RCYXLGy7qjgR",
        "outputId": "1751eb1b-65d7-4714-e97e-9370db9f8067"
      },
      "source": [
        "#logarthmic Transformation\n",
        "Bd['ptratio_log']=np.log(Bd['ptratio'])\n",
        "plotdata(Bd,'ptratio_log')"
      ],
      "execution_count": null,
      "outputs": [
        {
          "output_type": "display_data",
          "data": {
            "image/png": "[encoded data removed]",
            "text/plain": [
              "<Figure size 432x288 with 2 Axes>"
            ]
          },
          "metadata": {
            "tags": [],
            "needs_background": "light"
          }
        }
      ]
    },
    {
      "cell_type": "markdown",
      "metadata": {
        "id": "5a2FvfXFqzEq"
      },
      "source": [
        "**Fro Lstat**"
      ]
    },
    {
      "cell_type": "code",
      "metadata": {
        "colab": {
          "base_uri": "https://localhost:8080/",
          "height": 295
        },
        "id": "-vs5ap_XqymI",
        "outputId": "a243c70c-495d-4f13-a9c2-ac02a2ef9e2f"
      },
      "source": [
        "#no Transformation\n",
        "Bd['lstat']=np.log(Bd['lstat'])\n",
        "plotdata(Bd,'lstat')"
      ],
      "execution_count": null,
      "outputs": [
        {
          "output_type": "display_data",
          "data": {
            "image/png": "[encoded data removed]",
            "text/plain": [
              "<Figure size 432x288 with 2 Axes>"
            ]
          },
          "metadata": {
            "tags": [],
            "needs_background": "light"
          }
        }
      ]
    },
    {
      "cell_type": "markdown",
      "metadata": {
        "id": "rHkEmCUIrNXc"
      },
      "source": [
        "**For  Rad**"
      ]
    },
    {
      "cell_type": "code",
      "metadata": {
        "colab": {
          "base_uri": "https://localhost:8080/",
          "height": 295
        },
        "id": "T6EohDPMrTeI",
        "outputId": "fff6eed6-e230-4ee5-bedc-de8c9d049876"
      },
      "source": [
        "# no Transformation\n",
        "Bd['rad']=Bd['rad']\n",
        "plotdata(Bd,'rad')"
      ],
      "execution_count": null,
      "outputs": [
        {
          "output_type": "display_data",
          "data": {
            "image/png": "[encoded data removed]",
            "text/plain": [
              "<Figure size 432x288 with 2 Axes>"
            ]
          },
          "metadata": {
            "tags": [],
            "needs_background": "light"
          }
        }
      ]
    },
    {
      "cell_type": "code",
      "metadata": {
        "colab": {
          "base_uri": "https://localhost:8080/",
          "height": 295
        },
        "id": "xbmX1VkgrMNG",
        "outputId": "835491cb-f080-428c-963a-fa275edc3f97"
      },
      "source": [
        "#logarthmic Transformation\n",
        "Bd['rad_log']=np.log(Bd['rad'])\n",
        "plotdata(Bd,'rad_log')"
      ],
      "execution_count": null,
      "outputs": [
        {
          "output_type": "display_data",
          "data": {
            "image/png": "[encoded data removed]",
            "text/plain": [
              "<Figure size 432x288 with 2 Axes>"
            ]
          },
          "metadata": {
            "tags": [],
            "needs_background": "light"
          }
        }
      ]
    },
    {
      "cell_type": "code",
      "metadata": {
        "colab": {
          "base_uri": "https://localhost:8080/",
          "height": 295
        },
        "id": "WN0-Vx7KrqMP",
        "outputId": "da80cdad-2c55-4bc8-aa2f-3b3b87d74d75"
      },
      "source": [
        "#Exponential Transformation\n",
        "Bd['rad_exp']=Bd.rad**(1/1.2)\n",
        "plotdata(Bd,'rad_exp')"
      ],
      "execution_count": null,
      "outputs": [
        {
          "output_type": "display_data",
          "data": {
            "image/png": "[encoded data removed]",
            "text/plain": [
              "<Figure size 432x288 with 2 Axes>"
            ]
          },
          "metadata": {
            "tags": [],
            "needs_background": "light"
          }
        }
      ]
    },
    {
      "cell_type": "code",
      "metadata": {
        "colab": {
          "base_uri": "https://localhost:8080/",
          "height": 295
        },
        "id": "XaTVxz780QS_",
        "outputId": "abb0fc24-7d91-4164-e352-aeb38fbcc9dc"
      },
      "source": [
        "#boxcox transformation\n",
        "Bd['rad_box'],param=stats.boxcox(Bd['rad'])\n",
        "plotdata(Bd,'rad_box')"
      ],
      "execution_count": null,
      "outputs": [
        {
          "output_type": "display_data",
          "data": {
            "image/png": "[encoded data removed]",
            "text/plain": [
              "<Figure size 432x288 with 2 Axes>"
            ]
          },
          "metadata": {
            "tags": [],
            "needs_background": "light"
          }
        }
      ]
    },
    {
      "cell_type": "code",
      "metadata": {
        "colab": {
          "base_uri": "https://localhost:8080/",
          "height": 304
        },
        "id": "3ois94L-r2th",
        "outputId": "01b1bebd-7fa9-4ee4-a95e-0a04aa527f0a"
      },
      "source": [
        "Bd.describe()"
      ],
      "execution_count": null,
      "outputs": [
        {
          "output_type": "execute_result",
          "data": {
            "text/html": [
              "<div>\n",
              "<style scoped>\n",
              "    .dataframe tbody tr th:only-of-type {\n",
              "        vertical-align: middle;\n",
              "    }\n",
              "\n",
              "    .dataframe tbody tr th {\n",
              "        vertical-align: top;\n",
              "    }\n",
              "\n",
              "    .dataframe thead th {\n",
              "        text-align: right;\n",
              "    }\n",
              "</style>\n",
              "<table border=\"1\" class=\"dataframe\">\n",
              "  <thead>\n",
              "    <tr style=\"text-align: right;\">\n",
              "      <th></th>\n",
              "      <th>crim</th>\n",
              "      <th>zn</th>\n",
              "      <th>indus</th>\n",
              "      <th>chas</th>\n",
              "      <th>nox</th>\n",
              "      <th>rm</th>\n",
              "      <th>age</th>\n",
              "      <th>dis</th>\n",
              "      <th>rad</th>\n",
              "      <th>tax</th>\n",
              "      <th>ptratio</th>\n",
              "      <th>black</th>\n",
              "      <th>lstat</th>\n",
              "      <th>medv</th>\n",
              "      <th>Age</th>\n",
              "      <th>Age_log</th>\n",
              "      <th>Age_squ</th>\n",
              "      <th>Age_exp</th>\n",
              "      <th>Age_rec</th>\n",
              "      <th>Age_box</th>\n",
              "      <th>Tax</th>\n",
              "      <th>tax_rec</th>\n",
              "      <th>tax_log</th>\n",
              "      <th>tax_box</th>\n",
              "      <th>tax_squ</th>\n",
              "      <th>tax_exp</th>\n",
              "      <th>indus_exp</th>\n",
              "      <th>indus_squ</th>\n",
              "      <th>indus_box</th>\n",
              "      <th>ptratio_box</th>\n",
              "      <th>ptratio_squ</th>\n",
              "      <th>ptratio_exp</th>\n",
              "      <th>ptratio_log</th>\n",
              "      <th>rad_log</th>\n",
              "      <th>rad_exp</th>\n",
              "      <th>rad_box</th>\n",
              "    </tr>\n",
              "  </thead>\n",
              "  <tbody>\n",
              "    <tr>\n",
              "      <th>count</th>\n",
              "      <td>506.000000</td>\n",
              "      <td>506.000000</td>\n",
              "      <td>506.000000</td>\n",
              "      <td>506.000000</td>\n",
              "      <td>506.000000</td>\n",
              "      <td>506.000000</td>\n",
              "      <td>506.000000</td>\n",
              "      <td>506.000000</td>\n",
              "      <td>506.000000</td>\n",
              "      <td>506.000000</td>\n",
              "      <td>506.000000</td>\n",
              "      <td>506.000000</td>\n",
              "      <td>506.000000</td>\n",
              "      <td>506.000000</td>\n",
              "      <td>506.000000</td>\n",
              "      <td>506.000000</td>\n",
              "      <td>506.000000</td>\n",
              "      <td>506.000000</td>\n",
              "      <td>506.000000</td>\n",
              "      <td>506.000000</td>\n",
              "      <td>506.000000</td>\n",
              "      <td>506.000000</td>\n",
              "      <td>506.000000</td>\n",
              "      <td>506.000000</td>\n",
              "      <td>506.000000</td>\n",
              "      <td>506.000000</td>\n",
              "      <td>506.000000</td>\n",
              "      <td>506.000000</td>\n",
              "      <td>506.000000</td>\n",
              "      <td>506.000000</td>\n",
              "      <td>506.000000</td>\n",
              "      <td>506.000000</td>\n",
              "      <td>506.000000</td>\n",
              "      <td>506.000000</td>\n",
              "      <td>506.000000</td>\n",
              "      <td>506.000000</td>\n",
              "    </tr>\n",
              "    <tr>\n",
              "      <th>mean</th>\n",
              "      <td>3.461268</td>\n",
              "      <td>11.363636</td>\n",
              "      <td>11.136779</td>\n",
              "      <td>0.069170</td>\n",
              "      <td>0.554695</td>\n",
              "      <td>6.284634</td>\n",
              "      <td>68.574901</td>\n",
              "      <td>3.795043</td>\n",
              "      <td>9.549407</td>\n",
              "      <td>408.237154</td>\n",
              "      <td>18.455534</td>\n",
              "      <td>356.674032</td>\n",
              "      <td>2.370965</td>\n",
              "      <td>22.532806</td>\n",
              "      <td>68.574901</td>\n",
              "      <td>4.090803</td>\n",
              "      <td>8.044595</td>\n",
              "      <td>33.405934</td>\n",
              "      <td>0.021837</td>\n",
              "      <td>225.019015</td>\n",
              "      <td>408.237154</td>\n",
              "      <td>0.002859</td>\n",
              "      <td>5.931405</td>\n",
              "      <td>1.816844</td>\n",
              "      <td>19.799314</td>\n",
              "      <td>148.206407</td>\n",
              "      <td>7.240003</td>\n",
              "      <td>3.155005</td>\n",
              "      <td>3.886153</td>\n",
              "      <td>80967.060827</td>\n",
              "      <td>4.288169</td>\n",
              "      <td>11.341545</td>\n",
              "      <td>2.907914</td>\n",
              "      <td>1.867661</td>\n",
              "      <td>6.224248</td>\n",
              "      <td>1.600276</td>\n",
              "    </tr>\n",
              "    <tr>\n",
              "      <th>std</th>\n",
              "      <td>7.421382</td>\n",
              "      <td>23.322453</td>\n",
              "      <td>6.860353</td>\n",
              "      <td>0.253994</td>\n",
              "      <td>0.115878</td>\n",
              "      <td>0.702617</td>\n",
              "      <td>28.148861</td>\n",
              "      <td>2.105710</td>\n",
              "      <td>8.707259</td>\n",
              "      <td>168.537116</td>\n",
              "      <td>2.164946</td>\n",
              "      <td>91.294864</td>\n",
              "      <td>0.600891</td>\n",
              "      <td>9.197104</td>\n",
              "      <td>28.148861</td>\n",
              "      <td>0.610740</td>\n",
              "      <td>1.966478</td>\n",
              "      <td>12.064202</td>\n",
              "      <td>0.026278</td>\n",
              "      <td>112.342684</td>\n",
              "      <td>168.537116</td>\n",
              "      <td>0.001049</td>\n",
              "      <td>0.396367</td>\n",
              "      <td>0.017253</td>\n",
              "      <td>4.031928</td>\n",
              "      <td>50.844891</td>\n",
              "      <td>3.858553</td>\n",
              "      <td>1.088606</td>\n",
              "      <td>1.878065</td>\n",
              "      <td>34236.431741</td>\n",
              "      <td>0.259375</td>\n",
              "      <td>1.120052</td>\n",
              "      <td>0.124821</td>\n",
              "      <td>0.874833</td>\n",
              "      <td>4.792251</td>\n",
              "      <td>0.665761</td>\n",
              "    </tr>\n",
              "    <tr>\n",
              "      <th>min</th>\n",
              "      <td>0.006320</td>\n",
              "      <td>0.000000</td>\n",
              "      <td>0.460000</td>\n",
              "      <td>0.000000</td>\n",
              "      <td>0.385000</td>\n",
              "      <td>3.561000</td>\n",
              "      <td>2.900000</td>\n",
              "      <td>1.129600</td>\n",
              "      <td>1.000000</td>\n",
              "      <td>187.000000</td>\n",
              "      <td>12.600000</td>\n",
              "      <td>0.320000</td>\n",
              "      <td>0.548121</td>\n",
              "      <td>5.000000</td>\n",
              "      <td>2.900000</td>\n",
              "      <td>1.064711</td>\n",
              "      <td>1.702939</td>\n",
              "      <td>2.428464</td>\n",
              "      <td>0.010000</td>\n",
              "      <td>2.364168</td>\n",
              "      <td>187.000000</td>\n",
              "      <td>0.001406</td>\n",
              "      <td>5.231109</td>\n",
              "      <td>1.781147</td>\n",
              "      <td>13.674794</td>\n",
              "      <td>78.199025</td>\n",
              "      <td>0.523558</td>\n",
              "      <td>0.678233</td>\n",
              "      <td>-0.659680</td>\n",
              "      <td>14071.197740</td>\n",
              "      <td>3.549648</td>\n",
              "      <td>8.259913</td>\n",
              "      <td>2.533697</td>\n",
              "      <td>0.000000</td>\n",
              "      <td>1.000000</td>\n",
              "      <td>0.000000</td>\n",
              "    </tr>\n",
              "    <tr>\n",
              "      <th>25%</th>\n",
              "      <td>0.082045</td>\n",
              "      <td>0.000000</td>\n",
              "      <td>5.190000</td>\n",
              "      <td>0.000000</td>\n",
              "      <td>0.449000</td>\n",
              "      <td>5.885500</td>\n",
              "      <td>45.025000</td>\n",
              "      <td>2.100175</td>\n",
              "      <td>4.000000</td>\n",
              "      <td>279.000000</td>\n",
              "      <td>17.400000</td>\n",
              "      <td>375.377500</td>\n",
              "      <td>1.938729</td>\n",
              "      <td>17.025000</td>\n",
              "      <td>45.025000</td>\n",
              "      <td>3.807217</td>\n",
              "      <td>6.710066</td>\n",
              "      <td>23.871410</td>\n",
              "      <td>0.010630</td>\n",
              "      <td>122.408268</td>\n",
              "      <td>279.000000</td>\n",
              "      <td>0.001502</td>\n",
              "      <td>5.631212</td>\n",
              "      <td>1.804238</td>\n",
              "      <td>16.703293</td>\n",
              "      <td>109.144914</td>\n",
              "      <td>3.944326</td>\n",
              "      <td>2.278157</td>\n",
              "      <td>2.400241</td>\n",
              "      <td>57298.595443</td>\n",
              "      <td>4.171331</td>\n",
              "      <td>10.809137</td>\n",
              "      <td>2.856470</td>\n",
              "      <td>1.386294</td>\n",
              "      <td>3.174802</td>\n",
              "      <td>1.258874</td>\n",
              "    </tr>\n",
              "    <tr>\n",
              "      <th>50%</th>\n",
              "      <td>0.256510</td>\n",
              "      <td>0.000000</td>\n",
              "      <td>9.690000</td>\n",
              "      <td>0.000000</td>\n",
              "      <td>0.538000</td>\n",
              "      <td>6.208500</td>\n",
              "      <td>77.500000</td>\n",
              "      <td>3.207450</td>\n",
              "      <td>5.000000</td>\n",
              "      <td>330.000000</td>\n",
              "      <td>19.050000</td>\n",
              "      <td>391.440000</td>\n",
              "      <td>2.430097</td>\n",
              "      <td>21.200000</td>\n",
              "      <td>77.500000</td>\n",
              "      <td>4.350275</td>\n",
              "      <td>8.803401</td>\n",
              "      <td>37.533398</td>\n",
              "      <td>0.012903</td>\n",
              "      <td>254.422293</td>\n",
              "      <td>330.000000</td>\n",
              "      <td>0.003030</td>\n",
              "      <td>5.799093</td>\n",
              "      <td>1.812571</td>\n",
              "      <td>18.165902</td>\n",
              "      <td>125.534072</td>\n",
              "      <td>6.636460</td>\n",
              "      <td>3.112876</td>\n",
              "      <td>3.860232</td>\n",
              "      <td>84982.353494</td>\n",
              "      <td>4.364627</td>\n",
              "      <td>11.656789</td>\n",
              "      <td>2.947064</td>\n",
              "      <td>1.609438</td>\n",
              "      <td>3.823622</td>\n",
              "      <td>1.439431</td>\n",
              "    </tr>\n",
              "    <tr>\n",
              "      <th>75%</th>\n",
              "      <td>3.677082</td>\n",
              "      <td>12.500000</td>\n",
              "      <td>18.100000</td>\n",
              "      <td>0.000000</td>\n",
              "      <td>0.624000</td>\n",
              "      <td>6.623500</td>\n",
              "      <td>94.075000</td>\n",
              "      <td>5.188425</td>\n",
              "      <td>24.000000</td>\n",
              "      <td>666.000000</td>\n",
              "      <td>20.200000</td>\n",
              "      <td>396.225000</td>\n",
              "      <td>2.830563</td>\n",
              "      <td>25.000000</td>\n",
              "      <td>94.075000</td>\n",
              "      <td>4.544092</td>\n",
              "      <td>9.699227</td>\n",
              "      <td>44.112518</td>\n",
              "      <td>0.022210</td>\n",
              "      <td>330.186080</td>\n",
              "      <td>666.000000</td>\n",
              "      <td>0.003584</td>\n",
              "      <td>6.501290</td>\n",
              "      <td>1.840450</td>\n",
              "      <td>25.806976</td>\n",
              "      <td>225.369526</td>\n",
              "      <td>11.170317</td>\n",
              "      <td>4.254409</td>\n",
              "      <td>5.773945</td>\n",
              "      <td>109659.937917</td>\n",
              "      <td>4.494441</td>\n",
              "      <td>12.240321</td>\n",
              "      <td>3.005683</td>\n",
              "      <td>3.178054</td>\n",
              "      <td>14.131102</td>\n",
              "      <td>2.559899</td>\n",
              "    </tr>\n",
              "    <tr>\n",
              "      <th>max</th>\n",
              "      <td>51.135800</td>\n",
              "      <td>100.000000</td>\n",
              "      <td>27.740000</td>\n",
              "      <td>1.000000</td>\n",
              "      <td>0.871000</td>\n",
              "      <td>8.780000</td>\n",
              "      <td>100.000000</td>\n",
              "      <td>12.126500</td>\n",
              "      <td>24.000000</td>\n",
              "      <td>711.000000</td>\n",
              "      <td>22.000000</td>\n",
              "      <td>396.900000</td>\n",
              "      <td>3.636796</td>\n",
              "      <td>50.000000</td>\n",
              "      <td>100.000000</td>\n",
              "      <td>4.605170</td>\n",
              "      <td>10.000000</td>\n",
              "      <td>46.415888</td>\n",
              "      <td>0.344828</td>\n",
              "      <td>358.441918</td>\n",
              "      <td>711.000000</td>\n",
              "      <td>0.005348</td>\n",
              "      <td>6.566672</td>\n",
              "      <td>1.842560</td>\n",
              "      <td>26.664583</td>\n",
              "      <td>237.989612</td>\n",
              "      <td>15.943685</td>\n",
              "      <td>5.266878</td>\n",
              "      <td>7.412637</td>\n",
              "      <td>158970.473891</td>\n",
              "      <td>4.690416</td>\n",
              "      <td>13.142729</td>\n",
              "      <td>3.091042</td>\n",
              "      <td>3.178054</td>\n",
              "      <td>14.131102</td>\n",
              "      <td>2.559899</td>\n",
              "    </tr>\n",
              "  </tbody>\n",
              "</table>\n",
              "</div>"
            ],
            "text/plain": [
              "             crim          zn       indus  ...     rad_log     rad_exp     rad_box\n",
              "count  506.000000  506.000000  506.000000  ...  506.000000  506.000000  506.000000\n",
              "mean     3.461268   11.363636   11.136779  ...    1.867661    6.224248    1.600276\n",
              "std      7.421382   23.322453    6.860353  ...    0.874833    4.792251    0.665761\n",
              "min      0.006320    0.000000    0.460000  ...    0.000000    1.000000    0.000000\n",
              "25%      0.082045    0.000000    5.190000  ...    1.386294    3.174802    1.258874\n",
              "50%      0.256510    0.000000    9.690000  ...    1.609438    3.823622    1.439431\n",
              "75%      3.677082   12.500000   18.100000  ...    3.178054   14.131102    2.559899\n",
              "max     51.135800  100.000000   27.740000  ...    3.178054   14.131102    2.559899\n",
              "\n",
              "[8 rows x 36 columns]"
            ]
          },
          "metadata": {
            "tags": []
          },
          "execution_count": 52
        }
      ]
    },
    {
      "cell_type": "markdown",
      "metadata": {
        "id": "49uZXwdUuQcw"
      },
      "source": [
        "# Selecting final predictors for Machine Learning\n",
        "## Based on the satistcal tests, selecting the final columns for machine learning (will be explaied latter)"
      ]
    },
    {
      "cell_type": "code",
      "metadata": {
        "colab": {
          "base_uri": "https://localhost:8080/",
          "height": 195
        },
        "id": "Y1tU0lsqti73",
        "outputId": "38fd813d-be10-4b15-b033-f521f98a1809"
      },
      "source": [
        "#SelectedColumns=['rm', 'ptratio','lstat', 'rad', 'zn']\n",
        "#SelectedColumns=['crim','indus','rm','age','rad','tax','ptratio','lstat']\n",
        "SelectedColumns=['indus_squ','rm','Age_exp','rad_box','tax_box','ptratio','lstat']\n",
        "\n",
        "# Selecting final columns\n",
        "DataForML=Bd[SelectedColumns]\n",
        "DataForML.head()"
      ],
      "execution_count": null,
      "outputs": [
        {
          "output_type": "execute_result",
          "data": {
            "text/html": [
              "<div>\n",
              "<style scoped>\n",
              "    .dataframe tbody tr th:only-of-type {\n",
              "        vertical-align: middle;\n",
              "    }\n",
              "\n",
              "    .dataframe tbody tr th {\n",
              "        vertical-align: top;\n",
              "    }\n",
              "\n",
              "    .dataframe thead th {\n",
              "        text-align: right;\n",
              "    }\n",
              "</style>\n",
              "<table border=\"1\" class=\"dataframe\">\n",
              "  <thead>\n",
              "    <tr style=\"text-align: right;\">\n",
              "      <th></th>\n",
              "      <th>indus_squ</th>\n",
              "      <th>rm</th>\n",
              "      <th>Age_exp</th>\n",
              "      <th>rad_box</th>\n",
              "      <th>tax_box</th>\n",
              "      <th>ptratio</th>\n",
              "      <th>lstat</th>\n",
              "    </tr>\n",
              "  </thead>\n",
              "  <tbody>\n",
              "    <tr>\n",
              "      <th>0</th>\n",
              "      <td>1.519868</td>\n",
              "      <td>6.575</td>\n",
              "      <td>32.499224</td>\n",
              "      <td>0.000000</td>\n",
              "      <td>1.807258</td>\n",
              "      <td>15.3</td>\n",
              "      <td>1.605430</td>\n",
              "    </tr>\n",
              "    <tr>\n",
              "      <th>1</th>\n",
              "      <td>2.658947</td>\n",
              "      <td>6.421</td>\n",
              "      <td>38.097590</td>\n",
              "      <td>0.660260</td>\n",
              "      <td>1.796577</td>\n",
              "      <td>17.8</td>\n",
              "      <td>2.212660</td>\n",
              "    </tr>\n",
              "    <tr>\n",
              "      <th>2</th>\n",
              "      <td>2.658947</td>\n",
              "      <td>7.185</td>\n",
              "      <td>30.787022</td>\n",
              "      <td>0.660260</td>\n",
              "      <td>1.796577</td>\n",
              "      <td>17.8</td>\n",
              "      <td>1.393766</td>\n",
              "    </tr>\n",
              "    <tr>\n",
              "      <th>3</th>\n",
              "      <td>1.476482</td>\n",
              "      <td>6.998</td>\n",
              "      <td>24.213332</td>\n",
              "      <td>1.017528</td>\n",
              "      <td>1.791645</td>\n",
              "      <td>18.7</td>\n",
              "      <td>1.078410</td>\n",
              "    </tr>\n",
              "    <tr>\n",
              "      <th>4</th>\n",
              "      <td>1.476482</td>\n",
              "      <td>7.147</td>\n",
              "      <td>27.861174</td>\n",
              "      <td>1.017528</td>\n",
              "      <td>1.791645</td>\n",
              "      <td>18.7</td>\n",
              "      <td>1.673351</td>\n",
              "    </tr>\n",
              "  </tbody>\n",
              "</table>\n",
              "</div>"
            ],
            "text/plain": [
              "   indus_squ     rm    Age_exp   rad_box   tax_box  ptratio     lstat\n",
              "0   1.519868  6.575  32.499224  0.000000  1.807258     15.3  1.605430\n",
              "1   2.658947  6.421  38.097590  0.660260  1.796577     17.8  2.212660\n",
              "2   2.658947  7.185  30.787022  0.660260  1.796577     17.8  1.393766\n",
              "3   1.476482  6.998  24.213332  1.017528  1.791645     18.7  1.078410\n",
              "4   1.476482  7.147  27.861174  1.017528  1.791645     18.7  1.673351"
            ]
          },
          "metadata": {
            "tags": []
          },
          "execution_count": 53
        }
      ]
    },
    {
      "cell_type": "markdown",
      "metadata": {
        "id": "OyGvLRPOupTu"
      },
      "source": [
        "# Data Pre-processing for Machine Learning\n",
        "## List of steps performed on predictor variables before data can be used for machine learning\n",
        "\n",
        "1. Converting each Ordinal Categorical columns to numeric\n",
        "2. Converting Binary nominal Categorical columns to numeric using 1/0 mapping\n",
        "3. Converting all other nominal categorical columns to numeric using pd.get_dummies()\n",
        "4. Data Transformation (Optional): Standardization/Normalization/log/sqrt. Important if you are using distance based algorithms like KNN, or Neural Networks"
      ]
    },
    {
      "cell_type": "markdown",
      "metadata": {
        "id": "yf26jz8Iu29O"
      },
      "source": [
        "## Converting the nominal variable to numeric using get_dummies()"
      ]
    },
    {
      "cell_type": "code",
      "metadata": {
        "colab": {
          "base_uri": "https://localhost:8080/",
          "height": 195
        },
        "id": "rIe6f6Fcu5KC",
        "outputId": "e7b69a51-4043-4d81-cc33-2c1db2aea64b"
      },
      "source": [
        "# Treating all the nominal variables at once using dummy variables\n",
        "DataForML_Numeric=pd.get_dummies(DataForML)\n",
        "\n",
        "# Adding Target Variable to the data\n",
        "DataForML_Numeric['medv']=Bd['medv']\n",
        "\n",
        "# Printing sample rows\n",
        "DataForML_Numeric.head()"
      ],
      "execution_count": null,
      "outputs": [
        {
          "output_type": "execute_result",
          "data": {
            "text/html": [
              "<div>\n",
              "<style scoped>\n",
              "    .dataframe tbody tr th:only-of-type {\n",
              "        vertical-align: middle;\n",
              "    }\n",
              "\n",
              "    .dataframe tbody tr th {\n",
              "        vertical-align: top;\n",
              "    }\n",
              "\n",
              "    .dataframe thead th {\n",
              "        text-align: right;\n",
              "    }\n",
              "</style>\n",
              "<table border=\"1\" class=\"dataframe\">\n",
              "  <thead>\n",
              "    <tr style=\"text-align: right;\">\n",
              "      <th></th>\n",
              "      <th>indus_squ</th>\n",
              "      <th>rm</th>\n",
              "      <th>Age_exp</th>\n",
              "      <th>rad_box</th>\n",
              "      <th>tax_box</th>\n",
              "      <th>ptratio</th>\n",
              "      <th>lstat</th>\n",
              "      <th>medv</th>\n",
              "    </tr>\n",
              "  </thead>\n",
              "  <tbody>\n",
              "    <tr>\n",
              "      <th>0</th>\n",
              "      <td>1.519868</td>\n",
              "      <td>6.575</td>\n",
              "      <td>32.499224</td>\n",
              "      <td>0.000000</td>\n",
              "      <td>1.807258</td>\n",
              "      <td>15.3</td>\n",
              "      <td>1.605430</td>\n",
              "      <td>24.0</td>\n",
              "    </tr>\n",
              "    <tr>\n",
              "      <th>1</th>\n",
              "      <td>2.658947</td>\n",
              "      <td>6.421</td>\n",
              "      <td>38.097590</td>\n",
              "      <td>0.660260</td>\n",
              "      <td>1.796577</td>\n",
              "      <td>17.8</td>\n",
              "      <td>2.212660</td>\n",
              "      <td>21.6</td>\n",
              "    </tr>\n",
              "    <tr>\n",
              "      <th>2</th>\n",
              "      <td>2.658947</td>\n",
              "      <td>7.185</td>\n",
              "      <td>30.787022</td>\n",
              "      <td>0.660260</td>\n",
              "      <td>1.796577</td>\n",
              "      <td>17.8</td>\n",
              "      <td>1.393766</td>\n",
              "      <td>34.7</td>\n",
              "    </tr>\n",
              "    <tr>\n",
              "      <th>3</th>\n",
              "      <td>1.476482</td>\n",
              "      <td>6.998</td>\n",
              "      <td>24.213332</td>\n",
              "      <td>1.017528</td>\n",
              "      <td>1.791645</td>\n",
              "      <td>18.7</td>\n",
              "      <td>1.078410</td>\n",
              "      <td>33.4</td>\n",
              "    </tr>\n",
              "    <tr>\n",
              "      <th>4</th>\n",
              "      <td>1.476482</td>\n",
              "      <td>7.147</td>\n",
              "      <td>27.861174</td>\n",
              "      <td>1.017528</td>\n",
              "      <td>1.791645</td>\n",
              "      <td>18.7</td>\n",
              "      <td>1.673351</td>\n",
              "      <td>36.2</td>\n",
              "    </tr>\n",
              "  </tbody>\n",
              "</table>\n",
              "</div>"
            ],
            "text/plain": [
              "   indus_squ     rm    Age_exp   rad_box   tax_box  ptratio     lstat  medv\n",
              "0   1.519868  6.575  32.499224  0.000000  1.807258     15.3  1.605430  24.0\n",
              "1   2.658947  6.421  38.097590  0.660260  1.796577     17.8  2.212660  21.6\n",
              "2   2.658947  7.185  30.787022  0.660260  1.796577     17.8  1.393766  34.7\n",
              "3   1.476482  6.998  24.213332  1.017528  1.791645     18.7  1.078410  33.4\n",
              "4   1.476482  7.147  27.861174  1.017528  1.791645     18.7  1.673351  36.2"
            ]
          },
          "metadata": {
            "tags": []
          },
          "execution_count": 54
        }
      ]
    },
    {
      "cell_type": "markdown",
      "metadata": {
        "id": "3otIXC6ZvFBI"
      },
      "source": [
        "#Machine Learning: Splitting the data into Training and Testing sample\n",
        "### We dont use the full data for creating the model. Some data is randomly selected and kept aside for checking how good the model is. This is known as Testing Data and the remaining data is called Training data on which the model is built. Typically 70% of data is used as Training data and the rest 30% is used as Tesing data."
      ]
    },
    {
      "cell_type": "code",
      "metadata": {
        "colab": {
          "base_uri": "https://localhost:8080/"
        },
        "id": "L9pxCu-rvDyF",
        "outputId": "83d8bd86-d3a3-4a75-99a9-e6a3a8ad3c8a"
      },
      "source": [
        "# Printing all the column names for our reference\n",
        "DataForML_Numeric.columns"
      ],
      "execution_count": null,
      "outputs": [
        {
          "output_type": "execute_result",
          "data": {
            "text/plain": [
              "Index(['indus_squ', 'rm', 'Age_exp', 'rad_box', 'tax_box', 'ptratio', 'lstat',\n",
              "       'medv'],\n",
              "      dtype='object')"
            ]
          },
          "metadata": {
            "tags": []
          },
          "execution_count": 55
        }
      ]
    },
    {
      "cell_type": "code",
      "metadata": {
        "id": "MKYWIjG8vYje",
        "colab": {
          "base_uri": "https://localhost:8080/"
        },
        "outputId": "eecd5231-0b54-4846-c18f-5af6afda90a9"
      },
      "source": [
        "# Separate Target Variable and Predictor Variables\n",
        "TargetVariable='medv'\n",
        "Predictors=['indus_squ', 'rm', 'Age_exp', 'rad_box', 'tax_box', 'ptratio', 'lstat']\n",
        "\n",
        "X=DataForML_Numeric[Predictors].values\n",
        "y=DataForML_Numeric[TargetVariable].values\n",
        "\n",
        "# Split the data into training and testing set\n",
        "from sklearn.model_selection import train_test_split\n",
        "X_train, X_test, y_train, y_test = train_test_split(X, y, test_size=0.1, random_state=428)\n",
        "print(X_train.shape)\n",
        "print(y_train.shape)\n",
        "print(X_test.shape)\n",
        "print(y_test.shape)\n"
      ],
      "execution_count": null,
      "outputs": [
        {
          "output_type": "stream",
          "text": [
            "(455, 7)\n",
            "(455,)\n",
            "(51, 7)\n",
            "(51,)\n"
          ],
          "name": "stdout"
        }
      ]
    },
    {
      "cell_type": "code",
      "metadata": {
        "id": "8hBpQ-rlNZBZ"
      },
      "source": [
        ""
      ],
      "execution_count": null,
      "outputs": []
    },
    {
      "cell_type": "markdown",
      "metadata": {
        "id": "C0aoPesFvvoX"
      },
      "source": [
        "#Standardization/Normalization of data\n",
        "###You can choose not to run this step if you want to compare the resultant accuracy of this transformation with the accuracy of raw data.\n",
        "\n",
        "###However, if you are using KNN or Neural Networks, then this step becomes necessary."
      ]
    },
    {
      "cell_type": "code",
      "metadata": {
        "id": "i_n6i-h7v6_D",
        "colab": {
          "base_uri": "https://localhost:8080/",
          "height": 136
        },
        "outputId": "54307b04-84e2-42fb-9134-db33927ecd54"
      },
      "source": [
        "'''# Separate Target Variable and Predictor Variables\n",
        "TargetVariable='medv'\n",
        "Predictors=['crim','indus','rm','age','rad','tax','ptratio','lstat']\n",
        "X=DataForML_Numeric[Predictors].values\n",
        "y=DataForML_Numeric[TargetVariable].values\n",
        "### Sandardization of data ###\n",
        "from sklearn.preprocessing import StandardScaler, MinMaxScaler\n",
        "# Choose either standardization or Normalization\n",
        "# On this data Min Max Normalization produced better results\n",
        "\n",
        "# Choose between standardization and MinMAx normalization\n",
        "#PredictorScaler=StandardScaler()\n",
        "PredictorScaler=MinMaxScaler()\n",
        "\n",
        "# Storing the fit object for later reference\n",
        "PredictorScalerFit=PredictorScaler.fit(X)\n",
        "print(PredictorScalerFit)\n",
        "# Generating the standardized values of X\n",
        "X=PredictorScalerFit.transform(X)\n",
        "print(X)\n",
        "# Split the data into training and testing set\n",
        "from sklearn.model_selection import train_test_split\n",
        "X_train, X_test, y_train, y_test = train_test_split(X, y, test_size=0.3, random_state=23)'''"
      ],
      "execution_count": null,
      "outputs": [
        {
          "output_type": "execute_result",
          "data": {
            "application/vnd.google.colaboratory.intrinsic+json": {
              "type": "string"
            },
            "text/plain": [
              "\"# Separate Target Variable and Predictor Variables\\nTargetVariable='medv'\\nPredictors=['crim','indus','rm','age','rad','tax','ptratio','lstat']\\nX=DataForML_Numeric[Predictors].values\\ny=DataForML_Numeric[TargetVariable].values\\n### Sandardization of data ###\\nfrom sklearn.preprocessing import StandardScaler, MinMaxScaler\\n# Choose either standardization or Normalization\\n# On this data Min Max Normalization produced better results\\n\\n# Choose between standardization and MinMAx normalization\\n#PredictorScaler=StandardScaler()\\nPredictorScaler=MinMaxScaler()\\n\\n# Storing the fit object for later reference\\nPredictorScalerFit=PredictorScaler.fit(X)\\nprint(PredictorScalerFit)\\n# Generating the standardized values of X\\nX=PredictorScalerFit.transform(X)\\nprint(X)\\n# Split the data into training and testing set\\nfrom sklearn.model_selection import train_test_split\\nX_train, X_test, y_train, y_test = train_test_split(X, y, test_size=0.3, random_state=23)\""
            ]
          },
          "metadata": {
            "tags": []
          },
          "execution_count": 57
        }
      ]
    },
    {
      "cell_type": "code",
      "metadata": {
        "colab": {
          "base_uri": "https://localhost:8080/"
        },
        "id": "9UhfLU2bY3I7",
        "outputId": "d9b872d6-3a96-4687-f8ef-767e6ee5e80c"
      },
      "source": [
        "# Separate Target Variable and Predictor Variables\n",
        "TargetVariable='medv'\n",
        "Predictors=['indus_squ', 'rm', 'Age_exp', 'rad_box', 'tax_box', 'ptratio', 'lstat']\n",
        "X=DataForML_Numeric[Predictors].values\n",
        "y=DataForML_Numeric[TargetVariable].values\n",
        "### Sandardization of data ###\n",
        "from sklearn.preprocessing import StandardScaler, MinMaxScaler\n",
        "# Choose either standardization or Normalization\n",
        "# On this data Z score Normalization produced better results\n",
        "\n",
        "# Choose between standardization and MinMAx normalization\n",
        "\n",
        "PredictorScaler=StandardScaler()\n",
        "\n",
        "# Storing the fit object for later reference\n",
        "PredictorScalerFit=PredictorScaler.fit(X)\n",
        "print(PredictorScalerFit)\n",
        "# Generating the standardized values of X\n",
        "X=PredictorScalerFit.transform(X)\n",
        "print(X)\n",
        "# Split the data into training and testing set\n",
        "from sklearn.model_selection import train_test_split\n",
        "X_train, X_test, y_train, y_test = train_test_split(X, y, test_size=0.3, random_state=23)"
      ],
      "execution_count": null,
      "outputs": [
        {
          "output_type": "stream",
          "text": [
            "StandardScaler(copy=True, with_mean=True, with_std=True)\n",
            "[[-1.50353344  0.41367189 -0.07523137 ... -0.55619649 -1.45900038\n",
            "  -1.27526026]\n",
            " [-0.45613306  0.19427445  0.38927557 ... -1.17588183 -0.30309415\n",
            "  -0.26371064]\n",
            " [-0.45613306  1.28271368 -0.21729607 ... -1.17588183 -0.30309415\n",
            "  -1.62785808]\n",
            " ...\n",
            " [ 0.27491478  0.98496002  0.7883734  ... -0.79719962  1.17646583\n",
            "  -1.06793936]\n",
            " [ 0.27491478  0.72567214  0.73286327 ... -0.79719962  1.17646583\n",
            "  -0.83665988]\n",
            " [ 0.27491478 -0.36276709  0.4525837  ... -0.79719962  1.17646583\n",
            "  -0.51080901]]\n"
          ],
          "name": "stdout"
        }
      ]
    },
    {
      "cell_type": "code",
      "metadata": {
        "colab": {
          "base_uri": "https://localhost:8080/"
        },
        "id": "pF_uoBGmwC7S",
        "outputId": "784ee30a-fa34-4e58-8d88-3ef948065ac1"
      },
      "source": [
        "# Sanity check for the sampled data\n",
        "print(X_train.shape)\n",
        "print(y_train.shape)\n",
        "print(X_test.shape)\n",
        "print(y_test.shape)"
      ],
      "execution_count": null,
      "outputs": [
        {
          "output_type": "stream",
          "text": [
            "(354, 7)\n",
            "(354,)\n",
            "(152, 7)\n",
            "(152,)\n"
          ],
          "name": "stdout"
        }
      ]
    },
    {
      "cell_type": "markdown",
      "metadata": {
        "id": "f1BbNaY3wInX"
      },
      "source": [
        "#Multiple Linear Regression"
      ]
    },
    {
      "cell_type": "code",
      "metadata": {
        "colab": {
          "base_uri": "https://localhost:8080/"
        },
        "id": "uLoSKRyTwTwp",
        "outputId": "d1836174-0bd8-4ec5-aaa0-1052bbbb6f30"
      },
      "source": [
        "# Multiple Linear Regression\n",
        "from sklearn.linear_model import LinearRegression\n",
        "RegModel = LinearRegression()\n",
        "\n",
        "# Printing all the parameters of Linear regression\n",
        "print(RegModel)\n",
        "\n",
        "# Creating the model on Training Data\n",
        "LREG=RegModel.fit(X_train,y_train)\n",
        "prediction=LREG.predict(X_test)\n",
        "\n",
        "from sklearn import metrics\n",
        "# Measuring Goodness of fit in Training data\n",
        "print('R2 Value:',metrics.r2_score(y_train, LREG.predict(X_train)))\n",
        "\n",
        "###########################################################################\n",
        "print('\\n##### Model Validation and Accuracy Calculations ##########')\n",
        "\n",
        "# Printing some sample values of prediction\n",
        "TestingDataResults=pd.DataFrame(data=X_test, columns=Predictors)\n",
        "TestingDataResults[TargetVariable]=y_test\n",
        "TestingDataResults[('Predicted'+TargetVariable)]=np.round(prediction)\n",
        "\n",
        "# Printing sample prediction values\n",
        "print(TestingDataResults[[TargetVariable,'Predicted'+TargetVariable]].head())\n",
        "\n",
        "# Calculating the error for each row\n",
        "# mean absolute percentage error MAPE\n",
        "TestingDataResults['APE']=100 * ((abs(\n",
        "TestingDataResults['medv']-TestingDataResults['Predictedmedv']))/TestingDataResults['medv'])\n",
        "\n",
        "MAPE=np.mean(TestingDataResults['APE'])\n",
        "MedianMAPE=np.median(TestingDataResults['APE'])\n",
        "\n",
        "Accuracy =100 - MAPE\n",
        "MedianAccuracy=100- MedianMAPE\n",
        "print('Mean Accuracy on test data:', Accuracy) # Can be negative sometimes due to outlier\n",
        "print('Median Accuracy on test data:', MedianAccuracy)\n",
        "\n",
        "# Defining a custom function to calculate accuracy\n",
        "# Make sure there are no zeros in the Target variable if you are using MAPE\n",
        "def Accuracy_Score(orig,pred):\n",
        "    MAPE = np.mean(100 * (np.abs(orig-pred)/orig))\n",
        "    #print('#'*70,'Accuracy:', 100-MAPE)\n",
        "    return(100-MAPE)\n",
        "\n",
        "# Custom Scoring MAPE calculation \n",
        "from sklearn.metrics import make_scorer\n",
        "custom_Scoring=make_scorer(Accuracy_Score, greater_is_better=True)\n",
        "\n",
        "# Importing cross validation function from sklearn\n",
        "from sklearn.model_selection import cross_val_score\n",
        "\n",
        "# Running 10-Fold Cross validation on a given algorithm\n",
        "# Passing full data X and y because the K-fold will split the data and automatically choose train/test\n",
        "Accuracy_Values=cross_val_score(RegModel, X , Y, cv=15, scoring=custom_Scoring)\n",
        "print('\\nAccuracy values for 10-fold Cross Validation:\\n',Accuracy_Values)\n",
        "print('\\nFinal Average Accuracy of the model:', round(Accuracy_Values.mean(),2)) "
      ],
      "execution_count": null,
      "outputs": [
        {
          "output_type": "stream",
          "text": [
            "LinearRegression(copy_X=True, fit_intercept=True, n_jobs=None, normalize=False)\n",
            "R2 Value: 0.761306137735412\n",
            "\n",
            "##### Model Validation and Accuracy Calculations ##########\n",
            "   medv  Predictedmedv\n",
            "0  23.2           23.0\n",
            "1  22.1           28.0\n",
            "2  20.6           24.0\n",
            "3  17.8           15.0\n",
            "4  41.7           46.0\n",
            "Mean Accuracy on test data: 81.88214419436395\n",
            "Median Accuracy on test data: 85.7795172863666\n",
            "\n",
            "Accuracy values for 10-fold Cross Validation:\n",
            " [88.35367618 86.72330518 91.35102805 89.26891219 79.61270361 87.47738702\n",
            " 84.66096169 87.4230104  89.12901485 84.3645385  73.91891429 53.05515675\n",
            " 60.53737685 82.58938408 82.61437959]\n",
            "\n",
            "Final Average Accuracy of the model: 81.41\n"
          ],
          "name": "stdout"
        }
      ]
    },
    {
      "cell_type": "code",
      "metadata": {
        "colab": {
          "base_uri": "https://localhost:8080/"
        },
        "id": "EM9q7XgaOOYP",
        "outputId": "c7472fcc-25e0-4100-dc93-d8e3779464b6"
      },
      "source": [
        "\n",
        "from sklearn.metrics import mean_squared_error, r2_score\n",
        "\n",
        "\n",
        "from sklearn.preprocessing import PolynomialFeatures\n",
        "poly_features = PolynomialFeatures(degree=3)\n",
        "X_poly = poly_features.fit_transform(X_train)\n",
        "LRpoly = LinearRegression()\n",
        "LRpoly1=LRpoly.fit(X_poly,y_train)\n",
        "Y_trainpoly_pred=LRpoly1.predict(X_poly)\n",
        "y_test_predict = LRpoly1.predict(poly_features.fit_transform(X_test))\n",
        "\n",
        "#rmse=np.sqrt(y_train,Y_poly_pred)\n",
        "r2 = r2_score(y_train,Y_trainpoly_pred)\n",
        "#print(\"poly rmse =\", rmse)\n",
        "print(\"poly R2=\",r2)\n",
        "\n",
        "#plt.scatter(X, y, s=10)\n",
        "\n",
        "print('\\n##### Model Validation and Accuracy Calculations ##########')\n",
        "\n",
        "# Printing some sample values of prediction\n",
        "TestingDataResults=pd.DataFrame(data=X_test, columns=Predictors)\n",
        "TestingDataResults[TargetVariable]=y_test\n",
        "TestingDataResults[('PredictedPoly'+TargetVariable)]=np.round(y_test_predict)\n",
        "\n",
        "# Printing sample prediction values\n",
        "print(TestingDataResults[[TargetVariable,'PredictedPoly'+TargetVariable]].head())\n",
        "\n",
        "# Calculating the error for each row\n",
        "# mean absolute percentage error MAPE\n",
        "TestingDataResults['APE']=100 * ((abs(\n",
        "TestingDataResults['medv']-TestingDataResults['PredictedPolymedv']))/TestingDataResults['medv'])\n",
        "\n",
        "MAPE=np.mean(TestingDataResults['APE'])\n",
        "MedianMAPE=np.median(TestingDataResults['APE'])\n",
        "\n",
        "Accuracy =100 - MAPE\n",
        "MedianAccuracy=100- MedianMAPE\n",
        "print('Mean Accuracy on test data:', Accuracy) # Can be negative sometimes due to outlier\n",
        "print('Median Accuracy on test data:', MedianAccuracy)\n",
        "\n",
        "def Accuracy_Score(orig,pred):\n",
        "    MAPE = np.mean(100 * (np.abs(orig-pred)/orig))\n",
        "    return(100-MAPE)\n",
        "\n",
        "# Custom Scoring MAPE calculation \n",
        "from sklearn.metrics import make_scorer\n",
        "scoring=make_scorer(Accuracy_Score, greater_is_better=True)\n",
        "\n",
        "# Importing cross validation function from sklearn\n",
        "from sklearn.model_selection import cross_val_score\n",
        "def create_polynomial_regression_model(degree):\n",
        " poly_features = PolynomialFeatures(degree=degree)\n",
        " X_poly = poly_features.fit_transform(X)\n",
        " poly = LinearRegression()\n",
        " return np.mean(cross_val_score(poly, X_poly, Y, cv=15, scoring=scoring))\n",
        "poly_cv = []\n",
        "for i in range(1,4):\n",
        " poly_cv.append(create_polynomial_regression_model(i))\n",
        " cv=create_polynomial_regression_model(i)\n",
        " print(\"degree=\", i, 'cv=',cv)\n"
      ],
      "execution_count": null,
      "outputs": [
        {
          "output_type": "stream",
          "text": [
            "poly R2= 0.9176141681676383\n",
            "\n",
            "##### Model Validation and Accuracy Calculations ##########\n",
            "   medv  PredictedPolymedv\n",
            "0  23.2               21.0\n",
            "1  22.1               22.0\n",
            "2  20.6               23.0\n",
            "3  17.8               17.0\n",
            "4  41.7               39.0\n",
            "Mean Accuracy on test data: 84.79869554044585\n",
            "Median Accuracy on test data: 89.90773463627522\n",
            "degree= 1 cv= 81.40531661426299\n",
            "degree= 2 cv= 81.56880505626789\n",
            "degree= 3 cv= 65.9085839402107\n"
          ],
          "name": "stdout"
        }
      ]
    },
    {
      "cell_type": "markdown",
      "metadata": {
        "id": "n1fJIx8K9vaR"
      },
      "source": [
        "## **SVR is a bit different from SVM. As the name suggest the SVR is an regression algorithm , so we can use SVR for working with continuous Values instead of Classification which is SVM**"
      ]
    },
    {
      "cell_type": "code",
      "metadata": {
        "id": "8osIy_VS5sMj"
      },
      "source": [
        "#RBF Kernal\n",
        "#from sklearn.svm import SVC\n",
        "from sklearn.metrics import SCORERS\n",
        "from sklearn.svm import SVR\n",
        "svr = SVR()\n",
        "classifier = SVR(kernel = 'rbf')\n",
        "classifier.fit(X_train, y_train)\n",
        "\n",
        "Y_Pred = classifier.predict(X_test)\n",
        "y = Y_Pred"
      ],
      "execution_count": null,
      "outputs": []
    },
    {
      "cell_type": "code",
      "metadata": {
        "colab": {
          "base_uri": "https://localhost:8080/"
        },
        "id": "e2awkuF46-d1",
        "outputId": "25e3252d-7e77-408b-e404-3a0543e86d0c"
      },
      "source": [
        "y"
      ],
      "execution_count": null,
      "outputs": [
        {
          "output_type": "execute_result",
          "data": {
            "text/plain": [
              "array([22.64967845, 23.9251964 , 21.82226092, 16.36988666, 33.98343852,\n",
              "       14.21070328, 20.9544602 , 30.47968842, 33.28355437, 34.18679229,\n",
              "       12.11493391, 29.30029484, 21.39062231, 22.16085232, 20.64946318,\n",
              "       20.30897884, 31.02655699, 29.88927005, 25.34111916, 27.75350127,\n",
              "       16.8413676 , 14.39259982, 25.3121104 , 23.55550832, 11.08277517,\n",
              "       20.82476982, 33.01233844, 25.83093823, 24.4285546 , 25.15391141,\n",
              "       14.85529919, 15.38179714, 15.33116414, 20.83991869, 17.66991419,\n",
              "       35.23973327, 22.06113368, 27.60482706, 16.72826452, 31.63714872,\n",
              "       16.70604004, 11.68106296, 16.75311829, 19.13195683, 27.06963521,\n",
              "       21.15317099, 17.8669316 , 21.16663174, 12.33757661, 36.00219393,\n",
              "       20.39359916, 14.1964528 , 17.26714593, 15.35443586, 20.84882604,\n",
              "       27.08485157, 11.68616276, 21.22305249, 18.19719824, 17.72726987,\n",
              "       18.71260177, 23.86672557, 26.24118596, 32.57303245, 25.85609084,\n",
              "       24.71536639, 15.3025131 , 12.89870856, 31.46240462, 13.92168295,\n",
              "       16.85176545, 17.98859406, 22.53928278, 15.03501994, 20.60527792,\n",
              "       15.15039365, 16.86235833, 22.46145264, 11.45740078, 28.17785822,\n",
              "       19.79635851, 21.58107145, 31.92347464, 13.22904686, 25.24754853,\n",
              "       21.09680134, 34.3150262 , 34.20480233, 24.02552529, 16.05907574,\n",
              "       19.64052024, 17.877048  , 14.74327541, 20.17604176, 23.44932447,\n",
              "       15.48122404, 37.68537976, 21.15990334, 24.03166213, 24.14699693,\n",
              "       13.79019124, 19.5022475 , 29.26522523, 32.56873279, 18.92692269,\n",
              "       20.04297525, 29.01399488, 21.32424045, 14.69541605, 13.75629947,\n",
              "       20.83294489, 14.18915293, 28.01788943, 20.72819721, 22.90362379,\n",
              "       24.12062882, 13.86072904, 21.1648999 , 22.82231895, 19.81754313,\n",
              "       20.80429306, 19.52623139, 15.03465006, 22.33124669, 19.85198343,\n",
              "       19.55434408, 16.94415632, 17.5509548 , 26.67319982, 13.59951469,\n",
              "       26.61838965, 20.80630713, 12.68945868, 21.9354592 , 20.26937011,\n",
              "       16.4809103 , 20.50871275, 17.02894119, 17.89213147, 29.80321986,\n",
              "       18.10068703, 30.52725294, 33.15255519, 12.94777504, 24.31601147,\n",
              "       33.57662566, 33.39365767, 23.98482291, 11.60688236, 11.58531519,\n",
              "       34.7413158 , 30.25507914])"
            ]
          },
          "metadata": {
            "tags": []
          },
          "execution_count": 63
        }
      ]
    },
    {
      "cell_type": "code",
      "metadata": {
        "id": "avCi2alT7D9Y"
      },
      "source": [
        "\n",
        "\n",
        "from sklearn.metrics import SCORERS\n",
        "# Measuring Goodness of fit in Training data\n",
        "print('R2 Value:',metrics.r2_score(y_train, svr.predict(X_train)))\n",
        "\n",
        "###########################################################################\n",
        "print('\\n##### Model Validation and Accuracy Calculations ##########')\n",
        "\n",
        "# Printing some sample values of prediction\n",
        "TestingDataResults=pd.DataFrame(data=X_test, columns=Predictors)\n",
        "TestingDataResults[TargetVariable]=y_test\n",
        "TestingDataResults[('Predicted'+TargetVariable)]=np.round(prediction)\n",
        "\n",
        "# Printing sample prediction values\n",
        "print(TestingDataResults[[TargetVariable,'Predicted'+TargetVariable]].head())\n",
        "\n",
        "# Calculating the error for each row\n",
        "# mean absolute percentage error MAPE\n",
        "TestingDataResults['APE']=100 * ((abs(\n",
        "TestingDataResults['medv']-TestingDataResults['Predictedmedv']))/TestingDataResults['medv'])\n",
        "\n",
        "MAPE=np.mean(TestingDataResults['APE'])\n",
        "MedianMAPE=np.median(TestingDataResults['APE'])\n",
        "\n",
        "Accuracy =100 - MAPE\n",
        "MedianAccuracy=100- MedianMAPE\n",
        "print('Mean Accuracy on test data:', Accuracy) # Can be negative sometimes due to outlier\n",
        "print('Median Accuracy on test data:', MedianAccuracy)\n",
        "\n",
        "# Defining a custom function to calculate accuracy\n",
        "# Make sure there are no zeros in the Target variable if you are using MAPE\n",
        "def Accuracy_Score(orig,pred):\n",
        "    MAPE = np.mean(100 * (np.abs(orig-pred)/orig))\n",
        "    #print('#'*70,'Accuracy:', 100-MAPE)\n",
        "    return(100-MAPE)\n",
        "\n",
        "# Custom Scoring MAPE calculation \n",
        "from sklearn.metrics import make_scorer\n",
        "custom_Scoring=make_scorer(Accuracy_Score, greater_is_better=True)\n",
        "\n",
        "# Importing cross validation function from sklearn\n",
        "from sklearn.model_selection import cross_val_score\n",
        "\n",
        "# Running 10-Fold Cross validation on a given algorithm\n",
        "# Passing full data X and y because the K-fold will split the data and automatically choose train/test\n",
        "Accuracy_Values=cross_val_score(svr, X , Y, cv=15, scoring=custom_Scoring)\n",
        "print('\\nAccuracy values for 10-fold Cross Validation:\\n',Accuracy_Values)\n",
        "print('\\nFinal Average Accuracy of the model:', round(Accuracy_Values.mean(),2)) "
      ],
      "execution_count": null,
      "outputs": []
    }
  ]
}